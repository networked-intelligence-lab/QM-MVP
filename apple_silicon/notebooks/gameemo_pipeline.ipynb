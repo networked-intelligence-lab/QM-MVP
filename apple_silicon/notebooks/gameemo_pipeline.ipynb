{
  "nbformat": 4,
  "nbformat_minor": 0,
  "metadata": {
    "colab": {
      "provenance": [],
      "collapsed_sections": [
        "fqT3JzC6qIBx",
        "q0korl8lqSug",
        "2sC8IFSAo-fr"
      ],
      "machine_shape": "hm",
      "gpuType": "A100"
    },
    "kernelspec": {
      "name": "python3",
      "display_name": "Python 3"
    },
    "language_info": {
      "name": "python"
    },
    "accelerator": "GPU"
  },
  "cells": [
    {
      "cell_type": "markdown",
      "source": [
        "## NI Lab Repository\n",
        "This notebook was used for exploratory purposes, and is saved as a Colab notebook in https://github.com/networked-intelligence-lab/QM-MVP under:\n",
        "```\n",
        "notebooks/pipelines/gameemo_pipeline.ipynb\n",
        "```\n",
        "\n",
        "---\n",
        "\n",
        "## Source\n",
        "### Code\n",
        "Besides libraries, code is currently entirely self-written (Dax)\n",
        "\n",
        "### Dataset\n",
        "Dataset is sourced from the Biomedical Signal Processing and Control Paper titled \"**Database for an emotion recognition system based on EEG signals and various computer games–GAMEEMO**\"\n",
        "\n",
        "*Citation*: Alakus, T. B., Gonen, M., & Turkoglu, I. (2020). Database for an emotion recognition system based on EEG signals and various computer games–GAMEEMO. Biomedical Signal Processing and Control, 60, 101951.\n",
        "\n",
        "*Kaggle Source*: https://www.kaggle.com/datasets/sigfest/database-for-emotion-recognition-system-gameemo"
      ],
      "metadata": {
        "id": "FXwgQ3K894Nr"
      }
    },
    {
      "cell_type": "markdown",
      "source": [
        "## Pre-requisite library installs, dataset loading and extraction"
      ],
      "metadata": {
        "id": "fqT3JzC6qIBx"
      }
    },
    {
      "cell_type": "code",
      "source": [
        "%%sh\n",
        "apt-get install poppler-utils\n",
        "pip install pdf2image"
      ],
      "metadata": {
        "colab": {
          "base_uri": "https://localhost:8080/"
        },
        "id": "CH--qayZo2J6",
        "outputId": "79ba7eaa-7c61-491f-f2aa-5579777e341f"
      },
      "execution_count": null,
      "outputs": [
        {
          "output_type": "stream",
          "name": "stdout",
          "text": [
            "Reading package lists...\n",
            "Building dependency tree...\n",
            "Reading state information...\n",
            "The following NEW packages will be installed:\n",
            "  poppler-utils\n",
            "0 upgraded, 1 newly installed, 0 to remove and 33 not upgraded.\n",
            "Need to get 186 kB of archives.\n",
            "After this operation, 696 kB of additional disk space will be used.\n",
            "Get:1 http://archive.ubuntu.com/ubuntu jammy-updates/main amd64 poppler-utils amd64 22.02.0-2ubuntu0.3 [186 kB]\n",
            "Fetched 186 kB in 1s (190 kB/s)\n",
            "Selecting previously unselected package poppler-utils.\r\n",
            "(Reading database ... \r(Reading database ... 5%\r(Reading database ... 10%\r(Reading database ... 15%\r(Reading database ... 20%\r(Reading database ... 25%\r(Reading database ... 30%\r(Reading database ... 35%\r(Reading database ... 40%\r(Reading database ... 45%\r(Reading database ... 50%\r(Reading database ... 55%\r(Reading database ... 60%\r(Reading database ... 65%\r(Reading database ... 70%\r(Reading database ... 75%\r(Reading database ... 80%\r(Reading database ... 85%\r(Reading database ... 90%\r(Reading database ... 95%\r(Reading database ... 100%\r(Reading database ... 121749 files and directories currently installed.)\r\n",
            "Preparing to unpack .../poppler-utils_22.02.0-2ubuntu0.3_amd64.deb ...\r\n",
            "Unpacking poppler-utils (22.02.0-2ubuntu0.3) ...\r\n",
            "Setting up poppler-utils (22.02.0-2ubuntu0.3) ...\r\n",
            "Processing triggers for man-db (2.10.2-1) ...\r\n",
            "Collecting pdf2image\n",
            "  Downloading pdf2image-1.17.0-py3-none-any.whl (11 kB)\n",
            "Requirement already satisfied: pillow in /usr/local/lib/python3.10/dist-packages (from pdf2image) (9.4.0)\n",
            "Installing collected packages: pdf2image\n",
            "Successfully installed pdf2image-1.17.0\n"
          ]
        }
      ]
    },
    {
      "cell_type": "code",
      "execution_count": null,
      "metadata": {
        "id": "zcjQzLwh9l5d"
      },
      "outputs": [],
      "source": [
        "%%sh\n",
        "mkdir ~/.kaggle\n",
        "cp kaggle.json ~/.kaggle/kaggle.json\n",
        "chmod 600 ~/.kaggle/kaggle.json"
      ]
    },
    {
      "cell_type": "code",
      "source": [
        "%%sh\n",
        "kaggle datasets download vitaliykinakh/stable-imagenet1k\n",
        "unzip /content/database-for-emotion-recognition-system-gameemo.zip"
      ],
      "metadata": {
        "id": "BA5Uflm1_Urs"
      },
      "execution_count": null,
      "outputs": []
    },
    {
      "cell_type": "markdown",
      "source": [
        "## Initial data processing"
      ],
      "metadata": {
        "id": "q0korl8lqSug"
      }
    },
    {
      "cell_type": "code",
      "source": [
        "import os\n",
        "from glob import glob\n",
        "import shutil\n",
        "import pathlib\n",
        "import numpy as np\n",
        "import pandas as pd\n",
        "from pdf2image import convert_from_path\n",
        "from PIL import Image\n",
        "import json\n",
        "from keras.layers import Dense, Conv1D, MaxPooling1D, LSTM, Input, concatenate, Reshape\n",
        "from keras.models import Sequential, Model\n",
        "from sklearn.model_selection import train_test_split"
      ],
      "metadata": {
        "id": "D6Bgr5_IUFDd"
      },
      "execution_count": null,
      "outputs": []
    },
    {
      "cell_type": "code",
      "source": [
        "try:\n",
        "  os.makedirs(\"data\")\n",
        "except FileExistsError:\n",
        "  pass"
      ],
      "metadata": {
        "id": "WUo9RJVcEvjk"
      },
      "execution_count": null,
      "outputs": []
    },
    {
      "cell_type": "code",
      "source": [
        "for fileref in pathlib.Path('GAMEEMO/').glob('**/*.csv'):\n",
        "  fn = str(fileref)\n",
        "  bn = os.path.basename(fn)\n",
        "  shutil.copy(fn, f\"data/{bn}\")"
      ],
      "metadata": {
        "id": "dAzaccBRAcr_"
      },
      "execution_count": null,
      "outputs": []
    },
    {
      "cell_type": "code",
      "source": [
        "_set = set()\n",
        "\n",
        "X = []\n",
        "X_fns = []\n",
        "for data_fn in glob(\"data/*AllChannels.csv\"):\n",
        "  X_fn = os.path.basename(data_fn).split(\"All\")[0]\n",
        "  data_df = pd.read_csv(data_fn)\n",
        "  data_df = data_df[[c for c in data_df.columns if \"unnamed\" not in c.lower()]]\n",
        "  data_np = np.array(data_df).T\n",
        "  X.append(data_np)\n",
        "  X_fns.append(X_fn)"
      ],
      "metadata": {
        "id": "n2QBRDX1Hbcm"
      },
      "execution_count": null,
      "outputs": []
    },
    {
      "cell_type": "code",
      "source": [
        "X = np.array(X)"
      ],
      "metadata": {
        "id": "7XrEOQzLNDOI"
      },
      "execution_count": null,
      "outputs": []
    },
    {
      "cell_type": "code",
      "source": [
        "print(X.shape)"
      ],
      "metadata": {
        "colab": {
          "base_uri": "https://localhost:8080/"
        },
        "id": "DgvUofcgT0mW",
        "outputId": "e2340bb6-2c34-41ce-f134-6224d1dcfb25"
      },
      "execution_count": null,
      "outputs": [
        {
          "output_type": "stream",
          "name": "stdout",
          "text": [
            "(112, 14, 38252)\n"
          ]
        }
      ]
    },
    {
      "cell_type": "code",
      "source": [
        "print(sorted(X_fns))"
      ],
      "metadata": {
        "colab": {
          "base_uri": "https://localhost:8080/"
        },
        "id": "cquROtaoT1fl",
        "outputId": "7e545293-48ac-4037-f3f6-03f977232a75"
      },
      "execution_count": null,
      "outputs": [
        {
          "output_type": "stream",
          "name": "stdout",
          "text": [
            "['S01G1', 'S01G2', 'S01G3', 'S01G4', 'S02G1', 'S02G2', 'S02G3', 'S02G4', 'S03G1', 'S03G2', 'S03G3', 'S03G4', 'S04G1', 'S04G2', 'S04G3', 'S04G4', 'S05G1', 'S05G2', 'S05G3', 'S05G4', 'S06G1', 'S06G2', 'S06G3', 'S06G4', 'S07G1', 'S07G2', 'S07G3', 'S07G4', 'S08G1', 'S08G2', 'S08G3', 'S08G4', 'S09G1', 'S09G2', 'S09G3', 'S09G4', 'S10G1', 'S10G2', 'S10G3', 'S10G4', 'S11G1', 'S11G2', 'S11G3', 'S11G4', 'S12G1', 'S12G2', 'S12G3', 'S12G4', 'S13G1', 'S13G2', 'S13G3', 'S13G4', 'S14G1', 'S14G2', 'S14G3', 'S14G4', 'S15G1', 'S15G2', 'S15G3', 'S15G4', 'S16G1', 'S16G2', 'S16G3', 'S16G4', 'S17G1', 'S17G2', 'S17G3', 'S17G4', 'S18G1', 'S18G2', 'S18G3', 'S18G4', 'S19G1', 'S19G2', 'S19G3', 'S19G4', 'S20G1', 'S20G2', 'S20G3', 'S20G4', 'S21G1', 'S21G2', 'S21G3', 'S21G4', 'S22G1', 'S22G2', 'S22G3', 'S22G4', 'S23G1', 'S23G2', 'S23G3', 'S23G4', 'S24G1', 'S24G2', 'S24G3', 'S24G4', 'S25G1', 'S25G2', 'S25G3', 'S25G4', 'S26G1', 'S26G2', 'S26G3', 'S26G4', 'S27G1', 'S27G2', 'S27G3', 'S27G4', 'S28G1', 'S28G2', 'S28G3', 'S28G4']\n"
          ]
        }
      ]
    },
    {
      "cell_type": "markdown",
      "source": [
        "## Manual label curation pipeline"
      ],
      "metadata": {
        "id": "2sC8IFSAo-fr"
      }
    },
    {
      "cell_type": "code",
      "source": [
        "pdfs = sorted(glob(\"GAMEEMO/**/*.pdf\", recursive=True)) # The following cells is to circumvent input() after display() bugs"
      ],
      "metadata": {
        "id": "8rFZT6qshhDz"
      },
      "execution_count": null,
      "outputs": []
    },
    {
      "cell_type": "code",
      "source": [
        "count = 0\n",
        "labels_dict = {}"
      ],
      "metadata": {
        "id": "SjQBH6abgcoq"
      },
      "execution_count": null,
      "outputs": []
    },
    {
      "cell_type": "code",
      "source": [
        "pdf_fn = pdfs[count]\n",
        "label_key = pdf_fn\n",
        "for rem_text in [\"GAMEEMO/(\", \")/SAM Ratings/\", \".pdf\"]:\n",
        "  label_key = label_key.replace(rem_text, '')\n",
        "images = convert_from_path(pdf_fn)\n",
        "im = images[0].resize((300, 500))\n",
        "display(im)"
      ],
      "metadata": {
        "colab": {
          "base_uri": "https://localhost:8080/",
          "height": 517
        },
        "id": "5ZKmiIlKgkBt",
        "outputId": "7d519f48-6239-4c5e-fd12-d6fd4b640e10"
      },
      "execution_count": null,
      "outputs": [
        {
          "output_type": "display_data",
          "data": {
            "text/plain": [
              "<PIL.Image.Image image mode=RGB size=300x500>"
            ],
            "image/png": "[encoded data removed]"
          },
          "metadata": {}
        }
      ]
    },
    {
      "cell_type": "code",
      "source": [
        "user_input = input()\n",
        "labels_dict[label_key] = user_input\n",
        "count += 1"
      ],
      "metadata": {
        "colab": {
          "base_uri": "https://localhost:8080/"
        },
        "id": "KxqGvBAlhzPv",
        "outputId": "b173f968-24b5-4f75-9d21-dc3bbc5c259d"
      },
      "execution_count": null,
      "outputs": [
        {
          "name": "stdout",
          "output_type": "stream",
          "text": [
            "7 2 1 3 8 5 4\n"
          ]
        }
      ]
    },
    {
      "cell_type": "code",
      "source": [
        "print(labels_dict)"
      ],
      "metadata": {
        "colab": {
          "base_uri": "https://localhost:8080/"
        },
        "id": "lcH80xidhHDq",
        "outputId": "fd70508e-d13e-4962-e632-e4c0e2ea24d4"
      },
      "execution_count": null,
      "outputs": [
        {
          "output_type": "stream",
          "name": "stdout",
          "text": [
            "{'S01G1': '2 8 1 3 2 1.5 2', 'S01G2': '7 2 1 8 8 3 2.5', 'S01G3': '2 2 8 1 1 1.5 5', 'S01G4': '8 1 1 3 9 3 4.5', 'S02G1': '1 8 1 4 2 1 1', 'S02G2': '5 2 1 7 6 3 3', 'S02G3': '2 2 8 3 2 1 5', 'S02G4': '8 2 2 7 9 4 3', 'S03G1': '2 7 2 6 1 1 1.5'}\n"
          ]
        }
      ]
    },
    {
      "cell_type": "code",
      "source": [
        "print(json.dumps(labels_dict, sort_keys=True, indent=4))"
      ],
      "metadata": {
        "colab": {
          "base_uri": "https://localhost:8080/"
        },
        "id": "CuFgodS6ib1U",
        "outputId": "54665924-cb2e-4cd6-f001-7a88e8727560"
      },
      "execution_count": null,
      "outputs": [
        {
          "output_type": "stream",
          "name": "stdout",
          "text": [
            "{\n",
            "    \"S01G1\": \"2 8 1 3 2 1.5 2\",\n",
            "    \"S01G2\": \"7 2 1 8 8 3 2.5\",\n",
            "    \"S01G3\": \"2 2 8 1 1 1.5 5\",\n",
            "    \"S01G4\": \"8 1 1 3 9 3 4.5\",\n",
            "    \"S02G1\": \"1 8 1 4 2 1 1\",\n",
            "    \"S02G2\": \"5 2 1 7 6 3 3\",\n",
            "    \"S02G3\": \"2 2 8 3 2 1 5\",\n",
            "    \"S02G4\": \"8 2 2 7 9 4 3\",\n",
            "    \"S03G1\": \"2 7 2 6 1 1 1.5\",\n",
            "    \"S03G2\": \"8 1 1 8 8 4 3\",\n",
            "    \"S03G3\": \"9 1 10 1 1 1.5 5\",\n",
            "    \"S03G4\": \"9 1 1 3 9 5 3.5\",\n",
            "    \"S04G1\": \"4 8 1 3 1 1.5 2.5\",\n",
            "    \"S04G2\": \"7 3 1 9 6 4.5 4\",\n",
            "    \"S04G3\": \"7 1 9 2 1 2 5\",\n",
            "    \"S04G4\": \"8 1 1 3 9 3.5 4\",\n",
            "    \"S05G1\": \"3 7 1 2 1 2 2\",\n",
            "    \"S05G2\": \"8 2 1 5 7 5 5\",\n",
            "    \"S05G3\": \"4 1 8 1 2 1 5\",\n",
            "    \"S05G4\": \"7 2 1 3 8 5 4\"\n",
            "}\n"
          ]
        }
      ]
    },
    {
      "cell_type": "markdown",
      "source": [
        "## Start of preprocessing and NN"
      ],
      "metadata": {
        "id": "dFTjGD9rpIhL"
      }
    },
    {
      "cell_type": "code",
      "source": [
        "labels_dict = {\n",
        "    \"S01G1\": \"2 8 1 3 2 1.5 2\",\n",
        "    \"S01G2\": \"7 2 1 8 8 3 2.5\",\n",
        "    \"S01G3\": \"2 2 8 1 1 1.5 5\",\n",
        "    \"S01G4\": \"8 1 1 3 9 3 4.5\",\n",
        "    \"S02G1\": \"1 8 1 4 2 1 1\",\n",
        "    \"S02G2\": \"5 2 1 7 6 3 3\",\n",
        "    \"S02G3\": \"2 2 8 3 2 1 5\",\n",
        "    \"S02G4\": \"8 2 2 7 9 4 3\",\n",
        "    \"S03G1\": \"2 7 2 6 1 1 1.5\",\n",
        "    \"S03G2\": \"8 1 1 8 8 4 3\",\n",
        "    \"S03G3\": \"9 1 10 1 1 1.5 5\",\n",
        "    \"S03G4\": \"9 1 1 3 9 5 3.5\",\n",
        "    \"S04G1\": \"4 8 1 3 1 1.5 2.5\",\n",
        "    \"S04G2\": \"7 3 1 9 6 4.5 4\",\n",
        "    \"S04G3\": \"7 1 9 2 1 2 5\",\n",
        "    \"S04G4\": \"8 1 1 3 9 3.5 4\",\n",
        "    \"S05G1\": \"3 7 1 2 1 2 2\",\n",
        "    \"S05G2\": \"8 2 1 5 7 5 5\",\n",
        "    \"S05G3\": \"4 1 8 1 2 1 5\",\n",
        "    \"S05G4\": \"7 2 1 3 8 5 4\"\n",
        "}"
      ],
      "metadata": {
        "id": "aZNVQWZVn9HK"
      },
      "execution_count": null,
      "outputs": []
    },
    {
      "cell_type": "code",
      "source": [
        "y = []\n",
        "for k, v in labels_dict.items():\n",
        "  y.append([float(_v) for _v in v.split(' ')])"
      ],
      "metadata": {
        "id": "gBQy2G77kAjK"
      },
      "execution_count": null,
      "outputs": []
    },
    {
      "cell_type": "code",
      "source": [
        "X_train = X[:len(y)]\n",
        "y_train = np.array(y)"
      ],
      "metadata": {
        "id": "5QP9SY8xktav"
      },
      "execution_count": null,
      "outputs": []
    },
    {
      "cell_type": "code",
      "source": [
        "n_samples, n_channels, n_features = X_train.shape\n",
        "channel_inputs = [Input(shape=(n_features,), name=f\"input_{i}\") for i in range(n_channels)]\n",
        "\n",
        "channel_pipelines = []\n",
        "for channel_input in channel_inputs:\n",
        "  x = Reshape((n_features // 73, 73))(channel_input)\n",
        "  x = LSTM(256)(x)\n",
        "  x = Dense(128)(x)\n",
        "  channel_pipelines.append(x)\n",
        "\n",
        "concatenated = concatenate(channel_pipelines)\n",
        "x = Dense(256, activation=\"relu\")(concatenated)\n",
        "output = Dense(7, activation=\"softmax\")(x)\n",
        "\n",
        "model = Model(inputs=channel_inputs, outputs=output)"
      ],
      "metadata": {
        "id": "ukZHk4M0tk90"
      },
      "execution_count": null,
      "outputs": []
    },
    {
      "cell_type": "code",
      "source": [
        "model.compile(optimizer=\"adam\", loss=\"mse\")\n",
        "model.summary()"
      ],
      "metadata": {
        "colab": {
          "base_uri": "https://localhost:8080/"
        },
        "id": "pD4NjGd9l7AZ",
        "outputId": "23deace0-75ce-4ddc-a122-6f3ce998b725"
      },
      "execution_count": null,
      "outputs": [
        {
          "output_type": "stream",
          "name": "stdout",
          "text": [
            "Model: \"model\"\n",
            "__________________________________________________________________________________________________\n",
            " Layer (type)                Output Shape                 Param #   Connected to                  \n",
            "==================================================================================================\n",
            " input_0 (InputLayer)        [(None, 38252)]              0         []                            \n",
            "                                                                                                  \n",
            " input_1 (InputLayer)        [(None, 38252)]              0         []                            \n",
            "                                                                                                  \n",
            " input_2 (InputLayer)        [(None, 38252)]              0         []                            \n",
            "                                                                                                  \n",
            " input_3 (InputLayer)        [(None, 38252)]              0         []                            \n",
            "                                                                                                  \n",
            " input_4 (InputLayer)        [(None, 38252)]              0         []                            \n",
            "                                                                                                  \n",
            " input_5 (InputLayer)        [(None, 38252)]              0         []                            \n",
            "                                                                                                  \n",
            " input_6 (InputLayer)        [(None, 38252)]              0         []                            \n",
            "                                                                                                  \n",
            " input_7 (InputLayer)        [(None, 38252)]              0         []                            \n",
            "                                                                                                  \n",
            " input_8 (InputLayer)        [(None, 38252)]              0         []                            \n",
            "                                                                                                  \n",
            " input_9 (InputLayer)        [(None, 38252)]              0         []                            \n",
            "                                                                                                  \n",
            " input_10 (InputLayer)       [(None, 38252)]              0         []                            \n",
            "                                                                                                  \n",
            " input_11 (InputLayer)       [(None, 38252)]              0         []                            \n",
            "                                                                                                  \n",
            " input_12 (InputLayer)       [(None, 38252)]              0         []                            \n",
            "                                                                                                  \n",
            " input_13 (InputLayer)       [(None, 38252)]              0         []                            \n",
            "                                                                                                  \n",
            " reshape (Reshape)           (None, 524, 73)              0         ['input_0[0][0]']             \n",
            "                                                                                                  \n",
            " reshape_1 (Reshape)         (None, 524, 73)              0         ['input_1[0][0]']             \n",
            "                                                                                                  \n",
            " reshape_2 (Reshape)         (None, 524, 73)              0         ['input_2[0][0]']             \n",
            "                                                                                                  \n",
            " reshape_3 (Reshape)         (None, 524, 73)              0         ['input_3[0][0]']             \n",
            "                                                                                                  \n",
            " reshape_4 (Reshape)         (None, 524, 73)              0         ['input_4[0][0]']             \n",
            "                                                                                                  \n",
            " reshape_5 (Reshape)         (None, 524, 73)              0         ['input_5[0][0]']             \n",
            "                                                                                                  \n",
            " reshape_6 (Reshape)         (None, 524, 73)              0         ['input_6[0][0]']             \n",
            "                                                                                                  \n",
            " reshape_7 (Reshape)         (None, 524, 73)              0         ['input_7[0][0]']             \n",
            "                                                                                                  \n",
            " reshape_8 (Reshape)         (None, 524, 73)              0         ['input_8[0][0]']             \n",
            "                                                                                                  \n",
            " reshape_9 (Reshape)         (None, 524, 73)              0         ['input_9[0][0]']             \n",
            "                                                                                                  \n",
            " reshape_10 (Reshape)        (None, 524, 73)              0         ['input_10[0][0]']            \n",
            "                                                                                                  \n",
            " reshape_11 (Reshape)        (None, 524, 73)              0         ['input_11[0][0]']            \n",
            "                                                                                                  \n",
            " reshape_12 (Reshape)        (None, 524, 73)              0         ['input_12[0][0]']            \n",
            "                                                                                                  \n",
            " reshape_13 (Reshape)        (None, 524, 73)              0         ['input_13[0][0]']            \n",
            "                                                                                                  \n",
            " lstm (LSTM)                 (None, 256)                  337920    ['reshape[0][0]']             \n",
            "                                                                                                  \n",
            " lstm_1 (LSTM)               (None, 256)                  337920    ['reshape_1[0][0]']           \n",
            "                                                                                                  \n",
            " lstm_2 (LSTM)               (None, 256)                  337920    ['reshape_2[0][0]']           \n",
            "                                                                                                  \n",
            " lstm_3 (LSTM)               (None, 256)                  337920    ['reshape_3[0][0]']           \n",
            "                                                                                                  \n",
            " lstm_4 (LSTM)               (None, 256)                  337920    ['reshape_4[0][0]']           \n",
            "                                                                                                  \n",
            " lstm_5 (LSTM)               (None, 256)                  337920    ['reshape_5[0][0]']           \n",
            "                                                                                                  \n",
            " lstm_6 (LSTM)               (None, 256)                  337920    ['reshape_6[0][0]']           \n",
            "                                                                                                  \n",
            " lstm_7 (LSTM)               (None, 256)                  337920    ['reshape_7[0][0]']           \n",
            "                                                                                                  \n",
            " lstm_8 (LSTM)               (None, 256)                  337920    ['reshape_8[0][0]']           \n",
            "                                                                                                  \n",
            " lstm_9 (LSTM)               (None, 256)                  337920    ['reshape_9[0][0]']           \n",
            "                                                                                                  \n",
            " lstm_10 (LSTM)              (None, 256)                  337920    ['reshape_10[0][0]']          \n",
            "                                                                                                  \n",
            " lstm_11 (LSTM)              (None, 256)                  337920    ['reshape_11[0][0]']          \n",
            "                                                                                                  \n",
            " lstm_12 (LSTM)              (None, 256)                  337920    ['reshape_12[0][0]']          \n",
            "                                                                                                  \n",
            " lstm_13 (LSTM)              (None, 256)                  337920    ['reshape_13[0][0]']          \n",
            "                                                                                                  \n",
            " dense (Dense)               (None, 128)                  32896     ['lstm[0][0]']                \n",
            "                                                                                                  \n",
            " dense_1 (Dense)             (None, 128)                  32896     ['lstm_1[0][0]']              \n",
            "                                                                                                  \n",
            " dense_2 (Dense)             (None, 128)                  32896     ['lstm_2[0][0]']              \n",
            "                                                                                                  \n",
            " dense_3 (Dense)             (None, 128)                  32896     ['lstm_3[0][0]']              \n",
            "                                                                                                  \n",
            " dense_4 (Dense)             (None, 128)                  32896     ['lstm_4[0][0]']              \n",
            "                                                                                                  \n",
            " dense_5 (Dense)             (None, 128)                  32896     ['lstm_5[0][0]']              \n",
            "                                                                                                  \n",
            " dense_6 (Dense)             (None, 128)                  32896     ['lstm_6[0][0]']              \n",
            "                                                                                                  \n",
            " dense_7 (Dense)             (None, 128)                  32896     ['lstm_7[0][0]']              \n",
            "                                                                                                  \n",
            " dense_8 (Dense)             (None, 128)                  32896     ['lstm_8[0][0]']              \n",
            "                                                                                                  \n",
            " dense_9 (Dense)             (None, 128)                  32896     ['lstm_9[0][0]']              \n",
            "                                                                                                  \n",
            " dense_10 (Dense)            (None, 128)                  32896     ['lstm_10[0][0]']             \n",
            "                                                                                                  \n",
            " dense_11 (Dense)            (None, 128)                  32896     ['lstm_11[0][0]']             \n",
            "                                                                                                  \n",
            " dense_12 (Dense)            (None, 128)                  32896     ['lstm_12[0][0]']             \n",
            "                                                                                                  \n",
            " dense_13 (Dense)            (None, 128)                  32896     ['lstm_13[0][0]']             \n",
            "                                                                                                  \n",
            " concatenate (Concatenate)   (None, 1792)                 0         ['dense[0][0]',               \n",
            "                                                                     'dense_1[0][0]',             \n",
            "                                                                     'dense_2[0][0]',             \n",
            "                                                                     'dense_3[0][0]',             \n",
            "                                                                     'dense_4[0][0]',             \n",
            "                                                                     'dense_5[0][0]',             \n",
            "                                                                     'dense_6[0][0]',             \n",
            "                                                                     'dense_7[0][0]',             \n",
            "                                                                     'dense_8[0][0]',             \n",
            "                                                                     'dense_9[0][0]',             \n",
            "                                                                     'dense_10[0][0]',            \n",
            "                                                                     'dense_11[0][0]',            \n",
            "                                                                     'dense_12[0][0]',            \n",
            "                                                                     'dense_13[0][0]']            \n",
            "                                                                                                  \n",
            " dense_14 (Dense)            (None, 256)                  459008    ['concatenate[0][0]']         \n",
            "                                                                                                  \n",
            " dense_15 (Dense)            (None, 7)                    1799      ['dense_14[0][0]']            \n",
            "                                                                                                  \n",
            "==================================================================================================\n",
            "Total params: 5652231 (21.56 MB)\n",
            "Trainable params: 5652231 (21.56 MB)\n",
            "Non-trainable params: 0 (0.00 Byte)\n",
            "__________________________________________________________________________________________________\n"
          ]
        }
      ]
    },
    {
      "cell_type": "code",
      "source": [
        "X_train_reshaped = [X_train[:, i, :] for i in range(n_channels)]\n",
        "model.fit(X_train_reshaped, y_train, batch_size=16, epochs=25)"
      ],
      "metadata": {
        "colab": {
          "base_uri": "https://localhost:8080/"
        },
        "id": "YS9ax7ZBmF8E",
        "outputId": "61aef8a3-fa2e-419c-e040-ae0daa7901fa"
      },
      "execution_count": null,
      "outputs": [
        {
          "output_type": "stream",
          "name": "stdout",
          "text": [
            "Epoch 1/25\n",
            "2/2 [==============================] - 1s 226ms/step - loss: 19.8467\n",
            "Epoch 2/25\n",
            "2/2 [==============================] - 0s 225ms/step - loss: 19.8448\n",
            "Epoch 3/25\n",
            "2/2 [==============================] - 0s 228ms/step - loss: 19.8459\n",
            "Epoch 4/25\n",
            "2/2 [==============================] - 0s 227ms/step - loss: 19.8467\n",
            "Epoch 5/25\n",
            "2/2 [==============================] - 0s 226ms/step - loss: 19.8458\n",
            "Epoch 6/25\n",
            "2/2 [==============================] - 0s 225ms/step - loss: 19.8447\n",
            "Epoch 7/25\n",
            "2/2 [==============================] - 0s 225ms/step - loss: 19.8447\n",
            "Epoch 8/25\n",
            "2/2 [==============================] - 0s 225ms/step - loss: 19.8447\n",
            "Epoch 9/25\n",
            "2/2 [==============================] - 0s 226ms/step - loss: 19.8447\n",
            "Epoch 10/25\n",
            "2/2 [==============================] - 0s 226ms/step - loss: 19.8447\n",
            "Epoch 11/25\n",
            "2/2 [==============================] - 0s 226ms/step - loss: 19.8447\n",
            "Epoch 12/25\n",
            "2/2 [==============================] - 0s 227ms/step - loss: 19.8447\n",
            "Epoch 13/25\n",
            "2/2 [==============================] - 0s 224ms/step - loss: 19.8452\n",
            "Epoch 14/25\n",
            "2/2 [==============================] - 0s 227ms/step - loss: 19.8449\n",
            "Epoch 15/25\n",
            "2/2 [==============================] - 0s 225ms/step - loss: 19.8470\n",
            "Epoch 16/25\n",
            "2/2 [==============================] - 0s 225ms/step - loss: 19.8476\n",
            "Epoch 17/25\n",
            "2/2 [==============================] - 0s 227ms/step - loss: 19.8476\n",
            "Epoch 18/25\n",
            "2/2 [==============================] - 0s 226ms/step - loss: 19.8474\n",
            "Epoch 19/25\n",
            "2/2 [==============================] - 0s 225ms/step - loss: 19.8467\n",
            "Epoch 20/25\n",
            "2/2 [==============================] - 0s 226ms/step - loss: 19.8449\n",
            "Epoch 21/25\n",
            "2/2 [==============================] - 0s 226ms/step - loss: 19.8458\n",
            "Epoch 22/25\n",
            "2/2 [==============================] - 0s 223ms/step - loss: 19.8464\n",
            "Epoch 23/25\n",
            "2/2 [==============================] - 0s 231ms/step - loss: 19.8457\n",
            "Epoch 24/25\n",
            "2/2 [==============================] - 0s 228ms/step - loss: 19.8447\n",
            "Epoch 25/25\n",
            "2/2 [==============================] - 0s 236ms/step - loss: 19.8460\n"
          ]
        },
        {
          "output_type": "execute_result",
          "data": {
            "text/plain": [
              "<keras.src.callbacks.History at 0x7b368417b100>"
            ]
          },
          "metadata": {},
          "execution_count": 30
        }
      ]
    },
    {
      "cell_type": "markdown",
      "source": [
        "## Inference"
      ],
      "metadata": {
        "id": "CZpXyoMyxHBV"
      }
    },
    {
      "cell_type": "code",
      "source": [
        "sample = X_train[1, :, :]\n",
        "sample_reshaped = [np.expand_dims(sample[i, :], axis=0) for i in range(n_channels)]\n",
        "\n",
        "pred = model.predict(sample_reshaped)"
      ],
      "metadata": {
        "colab": {
          "base_uri": "https://localhost:8080/"
        },
        "id": "p-1IChZsmMhy",
        "outputId": "b7c581e4-0979-4fa6-92a4-3304cf6a46d5"
      },
      "execution_count": null,
      "outputs": [
        {
          "output_type": "stream",
          "name": "stdout",
          "text": [
            "1/1 [==============================] - 0s 116ms/step\n"
          ]
        }
      ]
    },
    {
      "cell_type": "code",
      "source": [
        "inference_mappings = [\"satisfied\", \"boring\", \"horrible\", \"calm\", \"funny\", \"positive\", \"intense\"]\n",
        "\n",
        "top_k = sorted(zip(inference_mappings, pred[0]), key=lambda x: x[1], reverse=True)[:3]\n",
        "top_emotions = [k[0] for k in top_k]\n",
        "music_prompt = f\"Generate music that exemplifies the emotions of {', '.join(top_emotions[:-1])}, and {top_emotions[-1]}\""
      ],
      "metadata": {
        "id": "hKxBYqp3oO4P"
      },
      "execution_count": null,
      "outputs": []
    },
    {
      "cell_type": "code",
      "source": [
        "print(music_prompt)"
      ],
      "metadata": {
        "colab": {
          "base_uri": "https://localhost:8080/"
        },
        "id": "kKirfw8H0gRk",
        "outputId": "83737054-715e-474d-cfbd-bce90017df57"
      },
      "execution_count": null,
      "outputs": [
        {
          "output_type": "stream",
          "name": "stdout",
          "text": [
            "Generate music that exemplifies the emotions of calm, funny, and positive\n"
          ]
        }
      ]
    },
    {
      "cell_type": "code",
      "source": [],
      "metadata": {
        "id": "pMdFLdzAIePv"
      },
      "execution_count": null,
      "outputs": []
    },
    {
      "cell_type": "markdown",
      "source": [
        "# MLM Part"
      ],
      "metadata": {
        "id": "fZEStQwB2Jt8"
      }
    },
    {
      "cell_type": "code",
      "source": [
        "%%sh\n",
        "pip install selenium undetected-chromedriver python-dotenv requests seleniumbase"
      ],
      "metadata": {
        "colab": {
          "base_uri": "https://localhost:8080/"
        },
        "id": "tIfmtwTz0xi2",
        "outputId": "880c5f4b-b44f-4236-c988-c80cfcabc83f"
      },
      "execution_count": null,
      "outputs": [
        {
          "output_type": "stream",
          "name": "stdout",
          "text": [
            "Requirement already satisfied: selenium in /usr/local/lib/python3.10/dist-packages (4.17.2)\n",
            "Requirement already satisfied: undetected-chromedriver in /usr/local/lib/python3.10/dist-packages (3.5.4)\n",
            "Requirement already satisfied: python-dotenv in /usr/local/lib/python3.10/dist-packages (1.0.1)\n",
            "Requirement already satisfied: requests in /usr/local/lib/python3.10/dist-packages (2.31.0)\n",
            "Collecting seleniumbase\n",
            "  Downloading seleniumbase-4.23.3-py3-none-any.whl (551 kB)\n",
            "     ━━━━━━━━━━━━━━━━━━━━━━━━━━━━━━━━━━━━━━━━ 551.2/551.2 kB 12.8 MB/s eta 0:00:00\n",
            "Requirement already satisfied: urllib3[socks]<3,>=1.26 in /usr/local/lib/python3.10/dist-packages (from selenium) (2.0.7)\n",
            "Requirement already satisfied: trio~=0.17 in /usr/local/lib/python3.10/dist-packages (from selenium) (0.24.0)\n",
            "Requirement already satisfied: trio-websocket~=0.9 in /usr/local/lib/python3.10/dist-packages (from selenium) (0.11.1)\n",
            "Requirement already satisfied: certifi>=2021.10.8 in /usr/local/lib/python3.10/dist-packages (from selenium) (2024.2.2)\n",
            "Requirement already satisfied: typing_extensions>=4.9.0 in /usr/local/lib/python3.10/dist-packages (from selenium) (4.9.0)\n",
            "Requirement already satisfied: websockets in /usr/local/lib/python3.10/dist-packages (from undetected-chromedriver) (12.0)\n",
            "Requirement already satisfied: charset-normalizer<4,>=2 in /usr/local/lib/python3.10/dist-packages (from requests) (3.3.2)\n",
            "Requirement already satisfied: idna<4,>=2.5 in /usr/local/lib/python3.10/dist-packages (from requests) (3.6)\n",
            "Collecting pip>=24.0 (from seleniumbase)\n",
            "  Downloading pip-24.0-py3-none-any.whl (2.1 MB)\n",
            "     ━━━━━━━━━━━━━━━━━━━━━━━━━━━━━━━━━━━━━━━━ 2.1/2.1 MB 50.8 MB/s eta 0:00:00\n",
            "Requirement already satisfied: packaging>=23.2 in /usr/local/lib/python3.10/dist-packages (from seleniumbase) (23.2)\n",
            "Requirement already satisfied: wheel>=0.42.0 in /usr/local/lib/python3.10/dist-packages (from seleniumbase) (0.42.0)\n",
            "Requirement already satisfied: attrs>=23.2.0 in /usr/local/lib/python3.10/dist-packages (from seleniumbase) (23.2.0)\n",
            "Collecting parse>=1.20.1 (from seleniumbase)\n",
            "  Downloading parse-1.20.1-py2.py3-none-any.whl (20 kB)\n",
            "Collecting parse-type>=0.6.2 (from seleniumbase)\n",
            "  Downloading parse_type-0.6.2-py2.py3-none-any.whl (26 kB)\n",
            "Requirement already satisfied: pyyaml>=6.0.1 in /usr/local/lib/python3.10/dist-packages (from seleniumbase) (6.0.1)\n",
            "Requirement already satisfied: six==1.16.0 in /usr/local/lib/python3.10/dist-packages (from seleniumbase) (1.16.0)\n",
            "Requirement already satisfied: chardet==5.2.0 in /usr/local/lib/python3.10/dist-packages (from seleniumbase) (5.2.0)\n",
            "Collecting pynose==1.4.8 (from seleniumbase)\n",
            "  Downloading pynose-1.4.8-py3-none-any.whl (116 kB)\n",
            "     ━━━━━━━━━━━━━━━━━━━━━━━━━━━━━━━━━━━━━━━━ 116.0/116.0 kB 19.6 MB/s eta 0:00:00\n",
            "Requirement already satisfied: sniffio==1.3.0 in /usr/local/lib/python3.10/dist-packages (from seleniumbase) (1.3.0)\n",
            "Requirement already satisfied: h11==0.14.0 in /usr/local/lib/python3.10/dist-packages (from seleniumbase) (0.14.0)\n",
            "Requirement already satisfied: outcome==1.3.0.post0 in /usr/local/lib/python3.10/dist-packages (from seleniumbase) (1.3.0.post0)\n",
            "Requirement already satisfied: wsproto==1.2.0 in /usr/local/lib/python3.10/dist-packages (from seleniumbase) (1.2.0)\n",
            "Collecting cssselect==1.2.0 (from seleniumbase)\n",
            "  Downloading cssselect-1.2.0-py2.py3-none-any.whl (18 kB)\n",
            "Requirement already satisfied: sortedcontainers==2.4.0 in /usr/local/lib/python3.10/dist-packages (from seleniumbase) (2.4.0)\n",
            "Collecting fasteners==0.19 (from seleniumbase)\n",
            "  Downloading fasteners-0.19-py3-none-any.whl (18 kB)\n",
            "Collecting execnet==2.0.2 (from seleniumbase)\n",
            "  Downloading execnet-2.0.2-py3-none-any.whl (37 kB)\n",
            "Requirement already satisfied: iniconfig==2.0.0 in /usr/local/lib/python3.10/dist-packages (from seleniumbase) (2.0.0)\n",
            "Collecting py==1.11.0 (from seleniumbase)\n",
            "  Downloading py-1.11.0-py2.py3-none-any.whl (98 kB)\n",
            "     ━━━━━━━━━━━━━━━━━━━━━━━━━━━━━━━━━━━━━━━━ 98.7/98.7 kB 16.0 MB/s eta 0:00:00\n",
            "Collecting pytest-html==2.0.1 (from seleniumbase)\n",
            "  Downloading pytest_html-2.0.1-py2.py3-none-any.whl (15 kB)\n",
            "Collecting pytest-ordering==0.6 (from seleniumbase)\n",
            "  Downloading pytest_ordering-0.6-py3-none-any.whl (4.6 kB)\n",
            "Collecting pytest-rerunfailures==13.0 (from seleniumbase)\n",
            "  Downloading pytest_rerunfailures-13.0-py3-none-any.whl (12 kB)\n",
            "Collecting pytest-xdist==3.5.0 (from seleniumbase)\n",
            "  Downloading pytest_xdist-3.5.0-py3-none-any.whl (42 kB)\n",
            "     ━━━━━━━━━━━━━━━━━━━━━━━━━━━━━━━━━━━━━━━━ 42.0/42.0 kB 6.5 MB/s eta 0:00:00\n",
            "Collecting parameterized==0.9.0 (from seleniumbase)\n",
            "  Downloading parameterized-0.9.0-py2.py3-none-any.whl (20 kB)\n",
            "Collecting sbvirtualdisplay==1.3.0 (from seleniumbase)\n",
            "  Downloading sbvirtualdisplay-1.3.0-py2.py3-none-any.whl (12 kB)\n",
            "Collecting behave==1.2.6 (from seleniumbase)\n",
            "  Downloading behave-1.2.6-py2.py3-none-any.whl (136 kB)\n",
            "     ━━━━━━━━━━━━━━━━━━━━━━━━━━━━━━━━━━━━━━━━ 136.8/136.8 kB 20.3 MB/s eta 0:00:00\n",
            "Requirement already satisfied: beautifulsoup4==4.12.3 in /usr/local/lib/python3.10/dist-packages (from seleniumbase) (4.12.3)\n",
            "Collecting pygments==2.17.2 (from seleniumbase)\n",
            "  Downloading pygments-2.17.2-py3-none-any.whl (1.2 MB)\n",
            "     ━━━━━━━━━━━━━━━━━━━━━━━━━━━━━━━━━━━━━━━━ 1.2/1.2 MB 66.5 MB/s eta 0:00:00\n",
            "Collecting tabcompleter==1.3.0 (from seleniumbase)\n",
            "  Downloading tabcompleter-1.3.0-py3-none-any.whl (6.5 kB)\n",
            "Collecting pdbp==1.5.0 (from seleniumbase)\n",
            "  Downloading pdbp-1.5.0-py3-none-any.whl (17 kB)\n",
            "Collecting colorama==0.4.6 (from seleniumbase)\n",
            "  Downloading colorama-0.4.6-py2.py3-none-any.whl (25 kB)\n",
            "Requirement already satisfied: exceptiongroup==1.2.0 in /usr/local/lib/python3.10/dist-packages (from seleniumbase) (1.2.0)\n",
            "Collecting pyotp==2.9.0 (from seleniumbase)\n",
            "  Downloading pyotp-2.9.0-py3-none-any.whl (13 kB)\n",
            "Requirement already satisfied: mdurl==0.1.2 in /usr/local/lib/python3.10/dist-packages (from seleniumbase) (0.1.2)\n",
            "Requirement already satisfied: rich==13.7.0 in /usr/local/lib/python3.10/dist-packages (from seleniumbase) (13.7.0)\n",
            "Collecting setuptools>=69.1.0 (from seleniumbase)\n",
            "  Downloading setuptools-69.1.0-py3-none-any.whl (819 kB)\n",
            "     ━━━━━━━━━━━━━━━━━━━━━━━━━━━━━━━━━━━━━━━━ 819.3/819.3 kB 67.1 MB/s eta 0:00:00\n",
            "Requirement already satisfied: filelock>=3.13.1 in /usr/local/lib/python3.10/dist-packages (from seleniumbase) (3.13.1)\n",
            "Requirement already satisfied: platformdirs>=4.2.0 in /usr/local/lib/python3.10/dist-packages (from seleniumbase) (4.2.0)\n",
            "Requirement already satisfied: pluggy==1.4.0 in /usr/local/lib/python3.10/dist-packages (from seleniumbase) (1.4.0)\n",
            "Collecting pytest==8.0.0 (from seleniumbase)\n",
            "  Downloading pytest-8.0.0-py3-none-any.whl (334 kB)\n",
            "     ━━━━━━━━━━━━━━━━━━━━━━━━━━━━━━━━━━━━━━━━ 334.0/334.0 kB 41.4 MB/s eta 0:00:00\n",
            "Collecting pytest-metadata==3.1.0 (from seleniumbase)\n",
            "  Downloading pytest_metadata-3.1.0-py3-none-any.whl (10 kB)\n",
            "Requirement already satisfied: soupsieve==2.5 in /usr/local/lib/python3.10/dist-packages (from seleniumbase) (2.5)\n",
            "Requirement already satisfied: markdown-it-py==3.0.0 in /usr/local/lib/python3.10/dist-packages (from seleniumbase) (3.0.0)\n",
            "Requirement already satisfied: tomli>=1.0.0 in /usr/local/lib/python3.10/dist-packages (from pytest==8.0.0->seleniumbase) (2.0.1)\n",
            "Requirement already satisfied: pysocks!=1.5.7,<2.0,>=1.5.6 in /usr/local/lib/python3.10/dist-packages (from urllib3[socks]<3,>=1.26->selenium) (1.7.1)\n",
            "Installing collected packages: parse, tabcompleter, setuptools, sbvirtualdisplay, pytest, pyotp, pynose, pygments, py, pip, parse-type, parameterized, fasteners, execnet, cssselect, colorama, pytest-xdist, pytest-rerunfailures, pytest-ordering, pytest-metadata, pdbp, behave, pytest-html, seleniumbase\n",
            "  Attempting uninstall: setuptools\n",
            "    Found existing installation: setuptools 67.7.2\n",
            "    Uninstalling setuptools-67.7.2:\n",
            "      Successfully uninstalled setuptools-67.7.2\n",
            "  Attempting uninstall: pytest\n",
            "    Found existing installation: pytest 7.4.4\n",
            "    Uninstalling pytest-7.4.4:\n",
            "      Successfully uninstalled pytest-7.4.4\n",
            "  Attempting uninstall: pygments\n",
            "    Found existing installation: Pygments 2.16.1\n",
            "    Uninstalling Pygments-2.16.1:\n",
            "      Successfully uninstalled Pygments-2.16.1\n",
            "  Attempting uninstall: pip\n",
            "    Found existing installation: pip 23.1.2\n",
            "    Uninstalling pip-23.1.2:\n",
            "      Successfully uninstalled pip-23.1.2\n",
            "Successfully installed behave-1.2.6 colorama-0.4.6 cssselect-1.2.0 execnet-2.0.2 fasteners-0.19 parameterized-0.9.0 parse-1.20.1 parse-type-0.6.2 pdbp-1.5.0 pip-24.0 py-1.11.0 pygments-2.17.2 pynose-1.4.8 pyotp-2.9.0 pytest-8.0.0 pytest-html-2.0.1 pytest-metadata-3.1.0 pytest-ordering-0.6 pytest-rerunfailures-13.0 pytest-xdist-3.5.0 sbvirtualdisplay-1.3.0 seleniumbase-4.23.3 setuptools-69.1.0 tabcompleter-1.3.0\n"
          ]
        },
        {
          "output_type": "stream",
          "name": "stderr",
          "text": [
            "ERROR: pip's dependency resolver does not currently take into account all the packages that are installed. This behaviour is the source of the following dependency conflicts.\n",
            "ipython 7.34.0 requires jedi>=0.16, which is not installed.\n",
            "lida 0.0.10 requires fastapi, which is not installed.\n",
            "lida 0.0.10 requires kaleido, which is not installed.\n",
            "lida 0.0.10 requires python-multipart, which is not installed.\n",
            "lida 0.0.10 requires uvicorn, which is not installed.\n"
          ]
        }
      ]
    },
    {
      "cell_type": "code",
      "source": [
        "%%sh\n",
        "apt install chromium-chromedriver"
      ],
      "metadata": {
        "colab": {
          "base_uri": "https://localhost:8080/"
        },
        "id": "Iwvvr8Vc5v1t",
        "outputId": "daf6a4c5-27d1-4573-b5ae-91d2564ca4cf"
      },
      "execution_count": null,
      "outputs": [
        {
          "output_type": "stream",
          "name": "stdout",
          "text": [
            "Reading package lists...\n",
            "Building dependency tree...\n",
            "Reading state information...\n",
            "The following additional packages will be installed:\n",
            "  apparmor chromium-browser libfuse3-3 liblzo2-2 libudev1 snapd squashfs-tools systemd-hwe-hwdb\n",
            "  udev\n",
            "Suggested packages:\n",
            "  apparmor-profiles-extra apparmor-utils fuse3 zenity | kdialog\n",
            "The following NEW packages will be installed:\n",
            "  apparmor chromium-browser chromium-chromedriver libfuse3-3 liblzo2-2 snapd squashfs-tools\n",
            "  systemd-hwe-hwdb udev\n",
            "The following packages will be upgraded:\n",
            "  libudev1\n",
            "1 upgraded, 9 newly installed, 0 to remove and 32 not upgraded.\n",
            "Need to get 26.4 MB of archives.\n",
            "After this operation, 116 MB of additional disk space will be used.\n",
            "Get:1 http://archive.ubuntu.com/ubuntu jammy-updates/main amd64 apparmor amd64 3.0.4-2ubuntu2.3 [595 kB]\n",
            "Get:2 http://archive.ubuntu.com/ubuntu jammy/main amd64 liblzo2-2 amd64 2.10-2build3 [53.7 kB]\n",
            "Get:3 http://archive.ubuntu.com/ubuntu jammy/main amd64 squashfs-tools amd64 1:4.5-3build1 [159 kB]\n",
            "Get:4 http://archive.ubuntu.com/ubuntu jammy-updates/main amd64 libudev1 amd64 249.11-0ubuntu3.12 [78.2 kB]\n",
            "Get:5 http://archive.ubuntu.com/ubuntu jammy-updates/main amd64 udev amd64 249.11-0ubuntu3.12 [1,557 kB]\n",
            "Get:6 http://archive.ubuntu.com/ubuntu jammy/main amd64 libfuse3-3 amd64 3.10.5-1build1 [81.2 kB]\n",
            "Get:7 http://archive.ubuntu.com/ubuntu jammy-updates/main amd64 snapd amd64 2.58+22.04.1 [23.8 MB]\n",
            "Get:8 http://archive.ubuntu.com/ubuntu jammy-updates/universe amd64 chromium-browser amd64 1:85.0.4183.83-0ubuntu2.22.04.1 [49.2 kB]\n",
            "Get:9 http://archive.ubuntu.com/ubuntu jammy-updates/universe amd64 chromium-chromedriver amd64 1:85.0.4183.83-0ubuntu2.22.04.1 [2,308 B]\n",
            "Get:10 http://archive.ubuntu.com/ubuntu jammy-updates/main amd64 systemd-hwe-hwdb all 249.11.5 [3,228 B]\n",
            "Preconfiguring packages ...\n",
            "Fetched 26.4 MB in 5s (5,758 kB/s)\n",
            "Selecting previously unselected package apparmor.\r\n",
            "(Reading database ... \r(Reading database ... 5%\r(Reading database ... 10%\r(Reading database ... 15%\r(Reading database ... 20%\r(Reading database ... 25%\r(Reading database ... 30%\r(Reading database ... 35%\r(Reading database ... 40%\r(Reading database ... 45%\r(Reading database ... 50%\r(Reading database ... 55%\r(Reading database ... 60%\r(Reading database ... 65%\r(Reading database ... 70%\r(Reading database ... 75%\r(Reading database ... 80%\r(Reading database ... 85%\r(Reading database ... 90%\r(Reading database ... 95%\r(Reading database ... 100%\r(Reading database ... 121779 files and directories currently installed.)\r\n",
            "Preparing to unpack .../apparmor_3.0.4-2ubuntu2.3_amd64.deb ...\r\n",
            "Unpacking apparmor (3.0.4-2ubuntu2.3) ...\r\n",
            "Selecting previously unselected package liblzo2-2:amd64.\r\n",
            "Preparing to unpack .../liblzo2-2_2.10-2build3_amd64.deb ...\r\n",
            "Unpacking liblzo2-2:amd64 (2.10-2build3) ...\r\n",
            "Selecting previously unselected package squashfs-tools.\r\n",
            "Preparing to unpack .../squashfs-tools_1%3a4.5-3build1_amd64.deb ...\r\n",
            "Unpacking squashfs-tools (1:4.5-3build1) ...\r\n",
            "Preparing to unpack .../libudev1_249.11-0ubuntu3.12_amd64.deb ...\r\n",
            "Unpacking libudev1:amd64 (249.11-0ubuntu3.12) over (249.11-0ubuntu3.10) ...\r\n",
            "Setting up libudev1:amd64 (249.11-0ubuntu3.12) ...\r\n",
            "Selecting previously unselected package udev.\r\n",
            "(Reading database ... \r(Reading database ... 5%\r(Reading database ... 10%\r(Reading database ... 15%\r(Reading database ... 20%\r(Reading database ... 25%\r(Reading database ... 30%\r(Reading database ... 35%\r(Reading database ... 40%\r(Reading database ... 45%\r(Reading database ... 50%\r(Reading database ... 55%\r(Reading database ... 60%\r(Reading database ... 65%\r(Reading database ... 70%\r(Reading database ... 75%\r(Reading database ... 80%\r(Reading database ... 85%\r(Reading database ... 90%\r(Reading database ... 95%\r(Reading database ... 100%\r(Reading database ... 121987 files and directories currently installed.)\r\n",
            "Preparing to unpack .../udev_249.11-0ubuntu3.12_amd64.deb ...\r\n",
            "Unpacking udev (249.11-0ubuntu3.12) ...\r\n",
            "Selecting previously unselected package libfuse3-3:amd64.\r\n",
            "Preparing to unpack .../libfuse3-3_3.10.5-1build1_amd64.deb ...\r\n",
            "Unpacking libfuse3-3:amd64 (3.10.5-1build1) ...\r\n",
            "Selecting previously unselected package snapd.\r\n",
            "Preparing to unpack .../snapd_2.58+22.04.1_amd64.deb ...\r\n",
            "Unpacking snapd (2.58+22.04.1) ...\r\n",
            "Setting up apparmor (3.0.4-2ubuntu2.3) ...\r\n",
            "Created symlink /etc/systemd/system/sysinit.target.wants/apparmor.service → /lib/systemd/system/apparmor.service.\r\n",
            "Setting up liblzo2-2:amd64 (2.10-2build3) ...\r\n",
            "Setting up squashfs-tools (1:4.5-3build1) ...\r\n",
            "Setting up udev (249.11-0ubuntu3.12) ...\r\n",
            "invoke-rc.d: could not determine current runlevel\r\n",
            "invoke-rc.d: policy-rc.d denied execution of start.\r\n",
            "Setting up libfuse3-3:amd64 (3.10.5-1build1) ...\r\n",
            "Setting up snapd (2.58+22.04.1) ...\r\n",
            "Created symlink /etc/systemd/system/multi-user.target.wants/snapd.aa-prompt-listener.service → /lib/systemd/system/snapd.aa-prompt-listener.service.\r\n",
            "Created symlink /etc/systemd/system/multi-user.target.wants/snapd.apparmor.service → /lib/systemd/system/snapd.apparmor.service.\r\n",
            "Created symlink /etc/systemd/system/multi-user.target.wants/snapd.autoimport.service → /lib/systemd/system/snapd.autoimport.service.\r\n",
            "Created symlink /etc/systemd/system/multi-user.target.wants/snapd.core-fixup.service → /lib/systemd/system/snapd.core-fixup.service.\r\n",
            "Created symlink /etc/systemd/system/multi-user.target.wants/snapd.recovery-chooser-trigger.service → /lib/systemd/system/snapd.recovery-chooser-trigger.service.\r\n",
            "Created symlink /etc/systemd/system/multi-user.target.wants/snapd.seeded.service → /lib/systemd/system/snapd.seeded.service.\r\n",
            "Created symlink /etc/systemd/system/cloud-final.service.wants/snapd.seeded.service → /lib/systemd/system/snapd.seeded.service.\r\n",
            "Unit /lib/systemd/system/snapd.seeded.service is added as a dependency to a non-existent unit cloud-final.service.\r\n",
            "Created symlink /etc/systemd/system/multi-user.target.wants/snapd.service → /lib/systemd/system/snapd.service.\r\n",
            "Created symlink /etc/systemd/system/timers.target.wants/snapd.snap-repair.timer → /lib/systemd/system/snapd.snap-repair.timer.\r\n",
            "Created symlink /etc/systemd/system/sockets.target.wants/snapd.socket → /lib/systemd/system/snapd.socket.\r\n",
            "Created symlink /etc/systemd/system/final.target.wants/snapd.system-shutdown.service → /lib/systemd/system/snapd.system-shutdown.service.\r\n",
            "Selecting previously unselected package chromium-browser.\r\n",
            "(Reading database ... \r(Reading database ... 5%\r(Reading database ... 10%\r(Reading database ... 15%\r(Reading database ... 20%\r(Reading database ... 25%\r(Reading database ... 30%\r(Reading database ... 35%\r(Reading database ... 40%\r(Reading database ... 45%\r(Reading database ... 50%\r(Reading database ... 55%\r(Reading database ... 60%\r(Reading database ... 65%\r(Reading database ... 70%\r(Reading database ... 75%\r(Reading database ... 80%\r(Reading database ... 85%\r(Reading database ... 90%\r(Reading database ... 95%\r(Reading database ... 100%\r(Reading database ... 122220 files and directories currently installed.)\r\n",
            "Preparing to unpack .../chromium-browser_1%3a85.0.4183.83-0ubuntu2.22.04.1_amd64.deb ...\r\n",
            "=> Installing the chromium snap\r\n",
            "==> Checking connectivity with the snap store\r\n",
            "===> System doesn't have a working snapd, skipping\r\n",
            "Unpacking chromium-browser (1:85.0.4183.83-0ubuntu2.22.04.1) ...\r\n",
            "Selecting previously unselected package chromium-chromedriver.\r\n",
            "Preparing to unpack .../chromium-chromedriver_1%3a85.0.4183.83-0ubuntu2.22.04.1_amd64.deb ...\r\n",
            "Unpacking chromium-chromedriver (1:85.0.4183.83-0ubuntu2.22.04.1) ...\r\n",
            "Selecting previously unselected package systemd-hwe-hwdb.\r\n",
            "Preparing to unpack .../systemd-hwe-hwdb_249.11.5_all.deb ...\r\n",
            "Unpacking systemd-hwe-hwdb (249.11.5) ...\r\n",
            "Setting up systemd-hwe-hwdb (249.11.5) ...\r\n",
            "Setting up chromium-browser (1:85.0.4183.83-0ubuntu2.22.04.1) ...\r\n",
            "update-alternatives: using /usr/bin/chromium-browser to provide /usr/bin/x-www-browser (x-www-browser) in auto mode\r\n",
            "update-alternatives: using /usr/bin/chromium-browser to provide /usr/bin/gnome-www-browser (gnome-www-browser) in auto mode\r\n",
            "Setting up chromium-chromedriver (1:85.0.4183.83-0ubuntu2.22.04.1) ...\r\n",
            "Processing triggers for udev (249.11-0ubuntu3.12) ...\r\n",
            "Processing triggers for hicolor-icon-theme (0.17-2) ...\r\n",
            "Processing triggers for libc-bin (2.35-0ubuntu3.4) ...\r\n",
            "/sbin/ldconfig.real: /usr/local/lib/libtbbmalloc_proxy.so.2 is not a symbolic link\r\n",
            "\r\n",
            "/sbin/ldconfig.real: /usr/local/lib/libtbbmalloc.so.2 is not a symbolic link\r\n",
            "\r\n",
            "/sbin/ldconfig.real: /usr/local/lib/libtbb.so.12 is not a symbolic link\r\n",
            "\r\n",
            "/sbin/ldconfig.real: /usr/local/lib/libtbbbind_2_5.so.3 is not a symbolic link\r\n",
            "\r\n",
            "/sbin/ldconfig.real: /usr/local/lib/libtbbbind.so.3 is not a symbolic link\r\n",
            "\r\n",
            "/sbin/ldconfig.real: /usr/local/lib/libtbbbind_2_0.so.3 is not a symbolic link\r\n",
            "\r\n",
            "Processing triggers for man-db (2.10.2-1) ...\r\n",
            "Processing triggers for dbus (1.12.20-2ubuntu4.1) ...\r\n"
          ]
        },
        {
          "output_type": "stream",
          "name": "stderr",
          "text": [
            "\n",
            "WARNING: apt does not have a stable CLI interface. Use with caution in scripts.\n",
            "\n"
          ]
        }
      ]
    },
    {
      "cell_type": "code",
      "source": [
        "%%sh\n",
        "git clone https://github.com/armintum/MusicLM.git"
      ],
      "metadata": {
        "colab": {
          "base_uri": "https://localhost:8080/",
          "height": 356
        },
        "id": "IrTUWZmJ2O5s",
        "outputId": "7315c46b-e639-4449-84a5-c924ad928993"
      },
      "execution_count": null,
      "outputs": [
        {
          "output_type": "stream",
          "name": "stderr",
          "text": [
            "fatal: destination path 'MusicLM' already exists and is not an empty directory.\n"
          ]
        },
        {
          "output_type": "error",
          "ename": "CalledProcessError",
          "evalue": "Command 'b'git clone https://github.com/armintum/MusicLM.git\\n'' returned non-zero exit status 128.",
          "traceback": [
            "\u001b[0;31m---------------------------------------------------------------------------\u001b[0m",
            "\u001b[0;31mCalledProcessError\u001b[0m                        Traceback (most recent call last)",
            "\u001b[0;32m<ipython-input-45-8217fa672589>\u001b[0m in \u001b[0;36m<cell line: 1>\u001b[0;34m()\u001b[0m\n\u001b[0;32m----> 1\u001b[0;31m \u001b[0mget_ipython\u001b[0m\u001b[0;34m(\u001b[0m\u001b[0;34m)\u001b[0m\u001b[0;34m.\u001b[0m\u001b[0mrun_cell_magic\u001b[0m\u001b[0;34m(\u001b[0m\u001b[0;34m'sh'\u001b[0m\u001b[0;34m,\u001b[0m \u001b[0;34m''\u001b[0m\u001b[0;34m,\u001b[0m \u001b[0;34m'git clone https://github.com/armintum/MusicLM.git\\n'\u001b[0m\u001b[0;34m)\u001b[0m\u001b[0;34m\u001b[0m\u001b[0;34m\u001b[0m\u001b[0m\n\u001b[0m",
            "\u001b[0;32m/usr/local/lib/python3.10/dist-packages/google/colab/_shell.py\u001b[0m in \u001b[0;36mrun_cell_magic\u001b[0;34m(self, magic_name, line, cell)\u001b[0m\n\u001b[1;32m    332\u001b[0m     \u001b[0;32mif\u001b[0m \u001b[0mline\u001b[0m \u001b[0;32mand\u001b[0m \u001b[0;32mnot\u001b[0m \u001b[0mcell\u001b[0m\u001b[0;34m:\u001b[0m\u001b[0;34m\u001b[0m\u001b[0;34m\u001b[0m\u001b[0m\n\u001b[1;32m    333\u001b[0m       \u001b[0mcell\u001b[0m \u001b[0;34m=\u001b[0m \u001b[0;34m' '\u001b[0m\u001b[0;34m\u001b[0m\u001b[0;34m\u001b[0m\u001b[0m\n\u001b[0;32m--> 334\u001b[0;31m     \u001b[0;32mreturn\u001b[0m \u001b[0msuper\u001b[0m\u001b[0;34m(\u001b[0m\u001b[0;34m)\u001b[0m\u001b[0;34m.\u001b[0m\u001b[0mrun_cell_magic\u001b[0m\u001b[0;34m(\u001b[0m\u001b[0mmagic_name\u001b[0m\u001b[0;34m,\u001b[0m \u001b[0mline\u001b[0m\u001b[0;34m,\u001b[0m \u001b[0mcell\u001b[0m\u001b[0;34m)\u001b[0m\u001b[0;34m\u001b[0m\u001b[0;34m\u001b[0m\u001b[0m\n\u001b[0m\u001b[1;32m    335\u001b[0m \u001b[0;34m\u001b[0m\u001b[0m\n\u001b[1;32m    336\u001b[0m \u001b[0;34m\u001b[0m\u001b[0m\n",
            "\u001b[0;32m/usr/local/lib/python3.10/dist-packages/IPython/core/interactiveshell.py\u001b[0m in \u001b[0;36mrun_cell_magic\u001b[0;34m(self, magic_name, line, cell)\u001b[0m\n\u001b[1;32m   2471\u001b[0m             \u001b[0;32mwith\u001b[0m \u001b[0mself\u001b[0m\u001b[0;34m.\u001b[0m\u001b[0mbuiltin_trap\u001b[0m\u001b[0;34m:\u001b[0m\u001b[0;34m\u001b[0m\u001b[0;34m\u001b[0m\u001b[0m\n\u001b[1;32m   2472\u001b[0m                 \u001b[0margs\u001b[0m \u001b[0;34m=\u001b[0m \u001b[0;34m(\u001b[0m\u001b[0mmagic_arg_s\u001b[0m\u001b[0;34m,\u001b[0m \u001b[0mcell\u001b[0m\u001b[0;34m)\u001b[0m\u001b[0;34m\u001b[0m\u001b[0;34m\u001b[0m\u001b[0m\n\u001b[0;32m-> 2473\u001b[0;31m                 \u001b[0mresult\u001b[0m \u001b[0;34m=\u001b[0m \u001b[0mfn\u001b[0m\u001b[0;34m(\u001b[0m\u001b[0;34m*\u001b[0m\u001b[0margs\u001b[0m\u001b[0;34m,\u001b[0m \u001b[0;34m**\u001b[0m\u001b[0mkwargs\u001b[0m\u001b[0;34m)\u001b[0m\u001b[0;34m\u001b[0m\u001b[0;34m\u001b[0m\u001b[0m\n\u001b[0m\u001b[1;32m   2474\u001b[0m             \u001b[0;32mreturn\u001b[0m \u001b[0mresult\u001b[0m\u001b[0;34m\u001b[0m\u001b[0;34m\u001b[0m\u001b[0m\n\u001b[1;32m   2475\u001b[0m \u001b[0;34m\u001b[0m\u001b[0m\n",
            "\u001b[0;32m/usr/local/lib/python3.10/dist-packages/IPython/core/magics/script.py\u001b[0m in \u001b[0;36mnamed_script_magic\u001b[0;34m(line, cell)\u001b[0m\n\u001b[1;32m    140\u001b[0m             \u001b[0;32melse\u001b[0m\u001b[0;34m:\u001b[0m\u001b[0;34m\u001b[0m\u001b[0;34m\u001b[0m\u001b[0m\n\u001b[1;32m    141\u001b[0m                 \u001b[0mline\u001b[0m \u001b[0;34m=\u001b[0m \u001b[0mscript\u001b[0m\u001b[0;34m\u001b[0m\u001b[0;34m\u001b[0m\u001b[0m\n\u001b[0;32m--> 142\u001b[0;31m             \u001b[0;32mreturn\u001b[0m \u001b[0mself\u001b[0m\u001b[0;34m.\u001b[0m\u001b[0mshebang\u001b[0m\u001b[0;34m(\u001b[0m\u001b[0mline\u001b[0m\u001b[0;34m,\u001b[0m \u001b[0mcell\u001b[0m\u001b[0;34m)\u001b[0m\u001b[0;34m\u001b[0m\u001b[0;34m\u001b[0m\u001b[0m\n\u001b[0m\u001b[1;32m    143\u001b[0m \u001b[0;34m\u001b[0m\u001b[0m\n\u001b[1;32m    144\u001b[0m         \u001b[0;31m# write a basic docstring:\u001b[0m\u001b[0;34m\u001b[0m\u001b[0;34m\u001b[0m\u001b[0m\n",
            "\u001b[0;32m<decorator-gen-103>\u001b[0m in \u001b[0;36mshebang\u001b[0;34m(self, line, cell)\u001b[0m\n",
            "\u001b[0;32m/usr/local/lib/python3.10/dist-packages/IPython/core/magic.py\u001b[0m in \u001b[0;36m<lambda>\u001b[0;34m(f, *a, **k)\u001b[0m\n\u001b[1;32m    185\u001b[0m     \u001b[0;31m# but it's overkill for just that one bit of state.\u001b[0m\u001b[0;34m\u001b[0m\u001b[0;34m\u001b[0m\u001b[0m\n\u001b[1;32m    186\u001b[0m     \u001b[0;32mdef\u001b[0m \u001b[0mmagic_deco\u001b[0m\u001b[0;34m(\u001b[0m\u001b[0marg\u001b[0m\u001b[0;34m)\u001b[0m\u001b[0;34m:\u001b[0m\u001b[0;34m\u001b[0m\u001b[0;34m\u001b[0m\u001b[0m\n\u001b[0;32m--> 187\u001b[0;31m         \u001b[0mcall\u001b[0m \u001b[0;34m=\u001b[0m \u001b[0;32mlambda\u001b[0m \u001b[0mf\u001b[0m\u001b[0;34m,\u001b[0m \u001b[0;34m*\u001b[0m\u001b[0ma\u001b[0m\u001b[0;34m,\u001b[0m \u001b[0;34m**\u001b[0m\u001b[0mk\u001b[0m\u001b[0;34m:\u001b[0m \u001b[0mf\u001b[0m\u001b[0;34m(\u001b[0m\u001b[0;34m*\u001b[0m\u001b[0ma\u001b[0m\u001b[0;34m,\u001b[0m \u001b[0;34m**\u001b[0m\u001b[0mk\u001b[0m\u001b[0;34m)\u001b[0m\u001b[0;34m\u001b[0m\u001b[0;34m\u001b[0m\u001b[0m\n\u001b[0m\u001b[1;32m    188\u001b[0m \u001b[0;34m\u001b[0m\u001b[0m\n\u001b[1;32m    189\u001b[0m         \u001b[0;32mif\u001b[0m \u001b[0mcallable\u001b[0m\u001b[0;34m(\u001b[0m\u001b[0marg\u001b[0m\u001b[0;34m)\u001b[0m\u001b[0;34m:\u001b[0m\u001b[0;34m\u001b[0m\u001b[0;34m\u001b[0m\u001b[0m\n",
            "\u001b[0;32m/usr/local/lib/python3.10/dist-packages/IPython/core/magics/script.py\u001b[0m in \u001b[0;36mshebang\u001b[0;34m(self, line, cell)\u001b[0m\n\u001b[1;32m    243\u001b[0m             \u001b[0msys\u001b[0m\u001b[0;34m.\u001b[0m\u001b[0mstderr\u001b[0m\u001b[0;34m.\u001b[0m\u001b[0mflush\u001b[0m\u001b[0;34m(\u001b[0m\u001b[0;34m)\u001b[0m\u001b[0;34m\u001b[0m\u001b[0;34m\u001b[0m\u001b[0m\n\u001b[1;32m    244\u001b[0m         \u001b[0;32mif\u001b[0m \u001b[0margs\u001b[0m\u001b[0;34m.\u001b[0m\u001b[0mraise_error\u001b[0m \u001b[0;32mand\u001b[0m \u001b[0mp\u001b[0m\u001b[0;34m.\u001b[0m\u001b[0mreturncode\u001b[0m\u001b[0;34m!=\u001b[0m\u001b[0;36m0\u001b[0m\u001b[0;34m:\u001b[0m\u001b[0;34m\u001b[0m\u001b[0;34m\u001b[0m\u001b[0m\n\u001b[0;32m--> 245\u001b[0;31m             \u001b[0;32mraise\u001b[0m \u001b[0mCalledProcessError\u001b[0m\u001b[0;34m(\u001b[0m\u001b[0mp\u001b[0m\u001b[0;34m.\u001b[0m\u001b[0mreturncode\u001b[0m\u001b[0;34m,\u001b[0m \u001b[0mcell\u001b[0m\u001b[0;34m,\u001b[0m \u001b[0moutput\u001b[0m\u001b[0;34m=\u001b[0m\u001b[0mout\u001b[0m\u001b[0;34m,\u001b[0m \u001b[0mstderr\u001b[0m\u001b[0;34m=\u001b[0m\u001b[0merr\u001b[0m\u001b[0;34m)\u001b[0m\u001b[0;34m\u001b[0m\u001b[0;34m\u001b[0m\u001b[0m\n\u001b[0m\u001b[1;32m    246\u001b[0m \u001b[0;34m\u001b[0m\u001b[0m\n\u001b[1;32m    247\u001b[0m     \u001b[0;32mdef\u001b[0m \u001b[0m_run_script\u001b[0m\u001b[0;34m(\u001b[0m\u001b[0mself\u001b[0m\u001b[0;34m,\u001b[0m \u001b[0mp\u001b[0m\u001b[0;34m,\u001b[0m \u001b[0mcell\u001b[0m\u001b[0;34m,\u001b[0m \u001b[0mto_close\u001b[0m\u001b[0;34m)\u001b[0m\u001b[0;34m:\u001b[0m\u001b[0;34m\u001b[0m\u001b[0;34m\u001b[0m\u001b[0m\n",
            "\u001b[0;31mCalledProcessError\u001b[0m: Command 'b'git clone https://github.com/armintum/MusicLM.git\\n'' returned non-zero exit status 128."
          ]
        }
      ]
    },
    {
      "cell_type": "code",
      "source": [
        "from MusicLM.MusicLM import Music\n",
        "\n",
        "# Soft-fix given dotenv not working\n",
        "os.environ[\"EMAIL\"] = input(\"Email\")\n",
        "os.environ[\"PASSWORD\"] = input(\"Password\")\n",
        "os.environ[\"TOKEN\"] = \"\"\n",
        "\n",
        "music = Music()\n",
        "input = \"Ambient, soft sounding music I can study to\"\n",
        "tracks = music.get_tracks(input, 2)\n",
        "\n",
        "if isinstance(tracks, list):\n",
        "    music.b64toMP3(tracks, input)\n"
      ],
      "metadata": {
        "colab": {
          "base_uri": "https://localhost:8080/",
          "height": 686
        },
        "id": "vyFWq-1o3Ryn",
        "outputId": "ba2cc84f-8b23-4266-94b2-a071f9548055"
      },
      "execution_count": null,
      "outputs": [
        {
          "output_type": "error",
          "ename": "WebDriverException",
          "evalue": "Message: unknown error: cannot connect to chrome at 127.0.0.1:9222\nfrom chrome not reachable\nStacktrace:\n#0 0x5855a397bd93 <unknown>\n#1 0x5855a365f177 <unknown>\n#2 0x5855a364a02a <unknown>\n#3 0x5855a3698cf8 <unknown>\n#4 0x5855a368f1cb <unknown>\n#5 0x5855a36d9b7c <unknown>\n#6 0x5855a36cd1e3 <unknown>\n#7 0x5855a369d135 <unknown>\n#8 0x5855a369e13e <unknown>\n#9 0x5855a393fe4b <unknown>\n#10 0x5855a3943dfa <unknown>\n#11 0x5855a392c6d5 <unknown>\n#12 0x5855a3944a6f <unknown>\n#13 0x5855a391069f <unknown>\n#14 0x5855a3969098 <unknown>\n#15 0x5855a3969262 <unknown>\n#16 0x5855a397af34 <unknown>\n#17 0x7c4f8097dac3 <unknown>\n",
          "traceback": [
            "\u001b[0;31m---------------------------------------------------------------------------\u001b[0m",
            "\u001b[0;31mWebDriverException\u001b[0m                        Traceback (most recent call last)",
            "\u001b[0;32m<ipython-input-51-1f1f2fd62e6d>\u001b[0m in \u001b[0;36m<cell line: 6>\u001b[0;34m()\u001b[0m\n\u001b[1;32m      4\u001b[0m \u001b[0mos\u001b[0m\u001b[0;34m.\u001b[0m\u001b[0menviron\u001b[0m\u001b[0;34m[\u001b[0m\u001b[0;34m\"TOKEN\"\u001b[0m\u001b[0;34m]\u001b[0m \u001b[0;34m=\u001b[0m \u001b[0;34m\"\"\u001b[0m\u001b[0;34m\u001b[0m\u001b[0;34m\u001b[0m\u001b[0m\n\u001b[1;32m      5\u001b[0m \u001b[0;31m# Create a new instance of Music\u001b[0m\u001b[0;34m\u001b[0m\u001b[0;34m\u001b[0m\u001b[0m\n\u001b[0;32m----> 6\u001b[0;31m \u001b[0mmusic\u001b[0m \u001b[0;34m=\u001b[0m \u001b[0mMusic\u001b[0m\u001b[0;34m(\u001b[0m\u001b[0;34m)\u001b[0m\u001b[0;34m\u001b[0m\u001b[0;34m\u001b[0m\u001b[0m\n\u001b[0m\u001b[1;32m      7\u001b[0m \u001b[0;34m\u001b[0m\u001b[0m\n\u001b[1;32m      8\u001b[0m \u001b[0minput\u001b[0m \u001b[0;34m=\u001b[0m \u001b[0;34m\"Ambient, soft sounding music I can study to\"\u001b[0m\u001b[0;34m\u001b[0m\u001b[0;34m\u001b[0m\u001b[0m\n",
            "\u001b[0;32m/content/MusicLM/MusicLM.py\u001b[0m in \u001b[0;36m__init__\u001b[0;34m(self)\u001b[0m\n\u001b[1;32m     25\u001b[0m     \u001b[0;32mdef\u001b[0m \u001b[0m__init__\u001b[0m\u001b[0;34m(\u001b[0m\u001b[0mself\u001b[0m\u001b[0;34m)\u001b[0m\u001b[0;34m:\u001b[0m\u001b[0;34m\u001b[0m\u001b[0;34m\u001b[0m\u001b[0m\n\u001b[1;32m     26\u001b[0m         \u001b[0mself\u001b[0m\u001b[0;34m.\u001b[0m\u001b[0memail\u001b[0m \u001b[0;34m=\u001b[0m \u001b[0mos\u001b[0m\u001b[0;34m.\u001b[0m\u001b[0menviron\u001b[0m\u001b[0;34m[\u001b[0m\u001b[0;34m\"EMAIL\"\u001b[0m\u001b[0;34m]\u001b[0m\u001b[0;34m\u001b[0m\u001b[0;34m\u001b[0m\u001b[0m\n\u001b[0;32m---> 27\u001b[0;31m         \u001b[0mself\u001b[0m\u001b[0;34m.\u001b[0m\u001b[0mpassword\u001b[0m \u001b[0;34m=\u001b[0m \u001b[0mos\u001b[0m\u001b[0;34m.\u001b[0m\u001b[0menviron\u001b[0m\u001b[0;34m[\u001b[0m\u001b[0;34m\"PASSWORD\"\u001b[0m\u001b[0;34m]\u001b[0m\u001b[0;34m\u001b[0m\u001b[0;34m\u001b[0m\u001b[0m\n\u001b[0m\u001b[1;32m     28\u001b[0m         \u001b[0;32mif\u001b[0m \u001b[0mos\u001b[0m\u001b[0;34m.\u001b[0m\u001b[0menviron\u001b[0m\u001b[0;34m[\u001b[0m\u001b[0;34m\"TOKEN\"\u001b[0m\u001b[0;34m]\u001b[0m \u001b[0;34m==\u001b[0m \u001b[0;34m\"\"\u001b[0m\u001b[0;34m:\u001b[0m\u001b[0;34m\u001b[0m\u001b[0;34m\u001b[0m\u001b[0m\n\u001b[1;32m     29\u001b[0m             \u001b[0mself\u001b[0m\u001b[0;34m.\u001b[0m\u001b[0mtoken\u001b[0m \u001b[0;34m=\u001b[0m \u001b[0mself\u001b[0m\u001b[0;34m.\u001b[0m\u001b[0mget_token\u001b[0m\u001b[0;34m(\u001b[0m\u001b[0;34m)\u001b[0m\u001b[0;34m\u001b[0m\u001b[0;34m\u001b[0m\u001b[0m\n",
            "\u001b[0;32m/content/MusicLM/MusicLM.py\u001b[0m in \u001b[0;36mget_token\u001b[0;34m(self)\u001b[0m\n\u001b[1;32m     84\u001b[0m         \u001b[0;32mreturn\u001b[0m \u001b[0;36m200\u001b[0m\u001b[0;34m\u001b[0m\u001b[0;34m\u001b[0m\u001b[0m\n\u001b[1;32m     85\u001b[0m \u001b[0;34m\u001b[0m\u001b[0m\n\u001b[0;32m---> 86\u001b[0;31m     \u001b[0;32mdef\u001b[0m \u001b[0mget_token\u001b[0m\u001b[0;34m(\u001b[0m\u001b[0mself\u001b[0m\u001b[0;34m)\u001b[0m\u001b[0;34m:\u001b[0m\u001b[0;34m\u001b[0m\u001b[0;34m\u001b[0m\u001b[0m\n\u001b[0m\u001b[1;32m     87\u001b[0m \u001b[0;34m\u001b[0m\u001b[0m\n\u001b[1;32m     88\u001b[0m         \u001b[0mdriver\u001b[0m \u001b[0;34m=\u001b[0m \u001b[0mDriver\u001b[0m\u001b[0;34m(\u001b[0m\u001b[0muc\u001b[0m\u001b[0;34m=\u001b[0m\u001b[0;32mTrue\u001b[0m\u001b[0;34m,\u001b[0m \u001b[0mheadless\u001b[0m\u001b[0;34m=\u001b[0m\u001b[0;32mTrue\u001b[0m\u001b[0;34m)\u001b[0m\u001b[0;34m\u001b[0m\u001b[0;34m\u001b[0m\u001b[0m\n",
            "\u001b[0;32m/usr/local/lib/python3.10/dist-packages/seleniumbase/plugins/driver_manager.py\u001b[0m in \u001b[0;36mDriver\u001b[0;34m(browser, headless, headless2, headed, locale_code, protocol, servername, port, proxy, proxy_bypass_list, proxy_pac_url, multi_proxy, agent, cap_file, cap_string, recorder_ext, disable_js, disable_csp, enable_ws, disable_ws, enable_sync, use_auto_ext, undetectable, uc_cdp_events, uc_subprocess, log_cdp_events, no_sandbox, disable_gpu, incognito, guest_mode, dark_mode, devtools, remote_debug, enable_3d_apis, swiftshader, ad_block_on, host_resolver_rules, block_images, do_not_track, chromium_arg, firefox_arg, firefox_pref, user_data_dir, extension_zip, extension_dir, disable_features, binary_location, driver_version, page_load_strategy, use_wire, external_pdf, is_mobile, mobile, d_width, d_height, d_p_r, uc, undetected, uc_cdp, uc_sub, log_cdp, wire, pls)\u001b[0m\n\u001b[1;32m    486\u001b[0m     \u001b[0;32mfrom\u001b[0m \u001b[0mseleniumbase\u001b[0m\u001b[0;34m.\u001b[0m\u001b[0mcore\u001b[0m \u001b[0;32mimport\u001b[0m \u001b[0mbrowser_launcher\u001b[0m\u001b[0;34m\u001b[0m\u001b[0;34m\u001b[0m\u001b[0m\n\u001b[1;32m    487\u001b[0m \u001b[0;34m\u001b[0m\u001b[0m\n\u001b[0;32m--> 488\u001b[0;31m     driver = browser_launcher.get_driver(\n\u001b[0m\u001b[1;32m    489\u001b[0m         \u001b[0mbrowser_name\u001b[0m\u001b[0;34m=\u001b[0m\u001b[0mbrowser_name\u001b[0m\u001b[0;34m,\u001b[0m\u001b[0;34m\u001b[0m\u001b[0;34m\u001b[0m\u001b[0m\n\u001b[1;32m    490\u001b[0m         \u001b[0mheadless\u001b[0m\u001b[0;34m=\u001b[0m\u001b[0mheadless\u001b[0m\u001b[0;34m,\u001b[0m\u001b[0;34m\u001b[0m\u001b[0;34m\u001b[0m\u001b[0m\n",
            "\u001b[0;32m/usr/local/lib/python3.10/dist-packages/seleniumbase/core/browser_launcher.py\u001b[0m in \u001b[0;36mget_driver\u001b[0;34m(browser_name, headless, locale_code, use_grid, protocol, servername, port, proxy_string, proxy_bypass_list, proxy_pac_url, multi_proxy, user_agent, cap_file, cap_string, recorder_ext, disable_js, disable_csp, enable_ws, enable_sync, use_auto_ext, undetectable, uc_cdp_events, uc_subprocess, log_cdp_events, no_sandbox, disable_gpu, headless2, incognito, guest_mode, dark_mode, devtools, remote_debug, enable_3d_apis, swiftshader, ad_block_on, host_resolver_rules, block_images, do_not_track, chromium_arg, firefox_arg, firefox_pref, user_data_dir, extension_zip, extension_dir, disable_features, binary_location, driver_version, page_load_strategy, use_wire, external_pdf, test_id, mobile_emulator, device_width, device_height, device_pixel_ratio, browser)\u001b[0m\n\u001b[1;32m   1592\u001b[0m         )\n\u001b[1;32m   1593\u001b[0m     \u001b[0;32melse\u001b[0m\u001b[0;34m:\u001b[0m\u001b[0;34m\u001b[0m\u001b[0;34m\u001b[0m\u001b[0m\n\u001b[0;32m-> 1594\u001b[0;31m         return get_local_driver(\n\u001b[0m\u001b[1;32m   1595\u001b[0m             \u001b[0mbrowser_name\u001b[0m\u001b[0;34m,\u001b[0m\u001b[0;34m\u001b[0m\u001b[0;34m\u001b[0m\u001b[0m\n\u001b[1;32m   1596\u001b[0m             \u001b[0mheadless\u001b[0m\u001b[0;34m,\u001b[0m\u001b[0;34m\u001b[0m\u001b[0;34m\u001b[0m\u001b[0m\n",
            "\u001b[0;32m/usr/local/lib/python3.10/dist-packages/seleniumbase/core/browser_launcher.py\u001b[0m in \u001b[0;36mget_local_driver\u001b[0;34m(browser_name, headless, locale_code, servername, proxy_string, proxy_auth, proxy_user, proxy_pass, proxy_bypass_list, proxy_pac_url, multi_proxy, user_agent, recorder_ext, disable_js, disable_csp, enable_ws, enable_sync, use_auto_ext, undetectable, uc_cdp_events, uc_subprocess, log_cdp_events, no_sandbox, disable_gpu, headless2, incognito, guest_mode, dark_mode, devtools, remote_debug, enable_3d_apis, swiftshader, ad_block_on, host_resolver_rules, block_images, do_not_track, chromium_arg, firefox_arg, firefox_pref, user_data_dir, extension_zip, extension_dir, disable_features, binary_location, driver_version, page_load_strategy, use_wire, external_pdf, mobile_emulator, device_width, device_height, device_pixel_ratio)\u001b[0m\n\u001b[1;32m   3476\u001b[0m                                     \u001b[0muc_path\u001b[0m \u001b[0;34m=\u001b[0m \u001b[0mLOCAL_UC_DRIVER\u001b[0m\u001b[0;34m\u001b[0m\u001b[0;34m\u001b[0m\u001b[0m\n\u001b[1;32m   3477\u001b[0m                                     \u001b[0muc_path\u001b[0m \u001b[0;34m=\u001b[0m \u001b[0mos\u001b[0m\u001b[0;34m.\u001b[0m\u001b[0mpath\u001b[0m\u001b[0;34m.\u001b[0m\u001b[0mrealpath\u001b[0m\u001b[0;34m(\u001b[0m\u001b[0muc_path\u001b[0m\u001b[0;34m)\u001b[0m\u001b[0;34m\u001b[0m\u001b[0;34m\u001b[0m\u001b[0m\n\u001b[0;32m-> 3478\u001b[0;31m                                 driver = undetected.Chrome(\n\u001b[0m\u001b[1;32m   3479\u001b[0m                                     \u001b[0moptions\u001b[0m\u001b[0;34m=\u001b[0m\u001b[0mchrome_options\u001b[0m\u001b[0;34m,\u001b[0m\u001b[0;34m\u001b[0m\u001b[0;34m\u001b[0m\u001b[0m\n\u001b[1;32m   3480\u001b[0m                                     \u001b[0muser_data_dir\u001b[0m\u001b[0;34m=\u001b[0m\u001b[0muser_data_dir\u001b[0m\u001b[0;34m,\u001b[0m\u001b[0;34m\u001b[0m\u001b[0;34m\u001b[0m\u001b[0m\n",
            "\u001b[0;32m/usr/local/lib/python3.10/dist-packages/seleniumbase/undetected/__init__.py\u001b[0m in \u001b[0;36m__init__\u001b[0;34m(self, options, user_data_dir, driver_executable_path, browser_executable_path, port, enable_cdp_events, log_level, headless, patch_driver, version_main, patcher_force_close, suppress_welcome, use_subprocess, debug, **kw)\u001b[0m\n\u001b[1;32m    310\u001b[0m             \u001b[0;32mif\u001b[0m \u001b[0mhasattr\u001b[0m\u001b[0;34m(\u001b[0m\u001b[0mservice_\u001b[0m\u001b[0;34m,\u001b[0m \u001b[0;34m\"creation_flags\"\u001b[0m\u001b[0;34m)\u001b[0m\u001b[0;34m:\u001b[0m\u001b[0;34m\u001b[0m\u001b[0;34m\u001b[0m\u001b[0m\n\u001b[1;32m    311\u001b[0m                 \u001b[0msetattr\u001b[0m\u001b[0;34m(\u001b[0m\u001b[0mservice_\u001b[0m\u001b[0;34m,\u001b[0m \u001b[0;34m\"creation_flags\"\u001b[0m\u001b[0;34m,\u001b[0m \u001b[0mcreationflags\u001b[0m\u001b[0;34m)\u001b[0m\u001b[0;34m\u001b[0m\u001b[0;34m\u001b[0m\u001b[0m\n\u001b[0;32m--> 312\u001b[0;31m             \u001b[0msuper\u001b[0m\u001b[0;34m(\u001b[0m\u001b[0;34m)\u001b[0m\u001b[0;34m.\u001b[0m\u001b[0m__init__\u001b[0m\u001b[0;34m(\u001b[0m\u001b[0moptions\u001b[0m\u001b[0;34m=\u001b[0m\u001b[0moptions\u001b[0m\u001b[0;34m,\u001b[0m \u001b[0mservice\u001b[0m\u001b[0;34m=\u001b[0m\u001b[0mservice_\u001b[0m\u001b[0;34m)\u001b[0m\u001b[0;34m\u001b[0m\u001b[0;34m\u001b[0m\u001b[0m\n\u001b[0m\u001b[1;32m    313\u001b[0m             \u001b[0mself\u001b[0m\u001b[0;34m.\u001b[0m\u001b[0mreactor\u001b[0m \u001b[0;34m=\u001b[0m \u001b[0;32mNone\u001b[0m\u001b[0;34m\u001b[0m\u001b[0;34m\u001b[0m\u001b[0m\n\u001b[1;32m    314\u001b[0m             \u001b[0;32mif\u001b[0m \u001b[0menable_cdp_events\u001b[0m\u001b[0;34m:\u001b[0m\u001b[0;34m\u001b[0m\u001b[0;34m\u001b[0m\u001b[0m\n",
            "\u001b[0;32m/usr/local/lib/python3.10/dist-packages/selenium/webdriver/chrome/webdriver.py\u001b[0m in \u001b[0;36m__init__\u001b[0;34m(self, options, service, keep_alive)\u001b[0m\n\u001b[1;32m     43\u001b[0m         \u001b[0moptions\u001b[0m \u001b[0;34m=\u001b[0m \u001b[0moptions\u001b[0m \u001b[0;32mif\u001b[0m \u001b[0moptions\u001b[0m \u001b[0;32melse\u001b[0m \u001b[0mOptions\u001b[0m\u001b[0;34m(\u001b[0m\u001b[0;34m)\u001b[0m\u001b[0;34m\u001b[0m\u001b[0;34m\u001b[0m\u001b[0m\n\u001b[1;32m     44\u001b[0m \u001b[0;34m\u001b[0m\u001b[0m\n\u001b[0;32m---> 45\u001b[0;31m         super().__init__(\n\u001b[0m\u001b[1;32m     46\u001b[0m             \u001b[0mbrowser_name\u001b[0m\u001b[0;34m=\u001b[0m\u001b[0mDesiredCapabilities\u001b[0m\u001b[0;34m.\u001b[0m\u001b[0mCHROME\u001b[0m\u001b[0;34m[\u001b[0m\u001b[0;34m\"browserName\"\u001b[0m\u001b[0;34m]\u001b[0m\u001b[0;34m,\u001b[0m\u001b[0;34m\u001b[0m\u001b[0;34m\u001b[0m\u001b[0m\n\u001b[1;32m     47\u001b[0m             \u001b[0mvendor_prefix\u001b[0m\u001b[0;34m=\u001b[0m\u001b[0;34m\"goog\"\u001b[0m\u001b[0;34m,\u001b[0m\u001b[0;34m\u001b[0m\u001b[0;34m\u001b[0m\u001b[0m\n",
            "\u001b[0;32m/usr/local/lib/python3.10/dist-packages/selenium/webdriver/chromium/webdriver.py\u001b[0m in \u001b[0;36m__init__\u001b[0;34m(self, browser_name, vendor_prefix, options, service, keep_alive)\u001b[0m\n\u001b[1;32m     59\u001b[0m \u001b[0;34m\u001b[0m\u001b[0m\n\u001b[1;32m     60\u001b[0m         \u001b[0;32mtry\u001b[0m\u001b[0;34m:\u001b[0m\u001b[0;34m\u001b[0m\u001b[0;34m\u001b[0m\u001b[0m\n\u001b[0;32m---> 61\u001b[0;31m             \u001b[0msuper\u001b[0m\u001b[0;34m(\u001b[0m\u001b[0;34m)\u001b[0m\u001b[0;34m.\u001b[0m\u001b[0m__init__\u001b[0m\u001b[0;34m(\u001b[0m\u001b[0mcommand_executor\u001b[0m\u001b[0;34m=\u001b[0m\u001b[0mexecutor\u001b[0m\u001b[0;34m,\u001b[0m \u001b[0moptions\u001b[0m\u001b[0;34m=\u001b[0m\u001b[0moptions\u001b[0m\u001b[0;34m)\u001b[0m\u001b[0;34m\u001b[0m\u001b[0;34m\u001b[0m\u001b[0m\n\u001b[0m\u001b[1;32m     62\u001b[0m         \u001b[0;32mexcept\u001b[0m \u001b[0mException\u001b[0m\u001b[0;34m:\u001b[0m\u001b[0;34m\u001b[0m\u001b[0;34m\u001b[0m\u001b[0m\n\u001b[1;32m     63\u001b[0m             \u001b[0mself\u001b[0m\u001b[0;34m.\u001b[0m\u001b[0mquit\u001b[0m\u001b[0;34m(\u001b[0m\u001b[0;34m)\u001b[0m\u001b[0;34m\u001b[0m\u001b[0;34m\u001b[0m\u001b[0m\n",
            "\u001b[0;32m/usr/local/lib/python3.10/dist-packages/selenium/webdriver/remote/webdriver.py\u001b[0m in \u001b[0;36m__init__\u001b[0;34m(self, command_executor, keep_alive, file_detector, options)\u001b[0m\n\u001b[1;32m    206\u001b[0m         \u001b[0mself\u001b[0m\u001b[0;34m.\u001b[0m\u001b[0m_authenticator_id\u001b[0m \u001b[0;34m=\u001b[0m \u001b[0;32mNone\u001b[0m\u001b[0;34m\u001b[0m\u001b[0;34m\u001b[0m\u001b[0m\n\u001b[1;32m    207\u001b[0m         \u001b[0mself\u001b[0m\u001b[0;34m.\u001b[0m\u001b[0mstart_client\u001b[0m\u001b[0;34m(\u001b[0m\u001b[0;34m)\u001b[0m\u001b[0;34m\u001b[0m\u001b[0;34m\u001b[0m\u001b[0m\n\u001b[0;32m--> 208\u001b[0;31m         \u001b[0mself\u001b[0m\u001b[0;34m.\u001b[0m\u001b[0mstart_session\u001b[0m\u001b[0;34m(\u001b[0m\u001b[0mcapabilities\u001b[0m\u001b[0;34m)\u001b[0m\u001b[0;34m\u001b[0m\u001b[0;34m\u001b[0m\u001b[0m\n\u001b[0m\u001b[1;32m    209\u001b[0m \u001b[0;34m\u001b[0m\u001b[0m\n\u001b[1;32m    210\u001b[0m     \u001b[0;32mdef\u001b[0m \u001b[0m__repr__\u001b[0m\u001b[0;34m(\u001b[0m\u001b[0mself\u001b[0m\u001b[0;34m)\u001b[0m\u001b[0;34m:\u001b[0m\u001b[0;34m\u001b[0m\u001b[0;34m\u001b[0m\u001b[0m\n",
            "\u001b[0;32m/usr/local/lib/python3.10/dist-packages/seleniumbase/undetected/__init__.py\u001b[0m in \u001b[0;36mstart_session\u001b[0;34m(self, capabilities)\u001b[0m\n\u001b[1;32m    446\u001b[0m         \u001b[0;32mif\u001b[0m \u001b[0;32mnot\u001b[0m \u001b[0mcapabilities\u001b[0m\u001b[0;34m:\u001b[0m\u001b[0;34m\u001b[0m\u001b[0;34m\u001b[0m\u001b[0m\n\u001b[1;32m    447\u001b[0m             \u001b[0mcapabilities\u001b[0m \u001b[0;34m=\u001b[0m \u001b[0mself\u001b[0m\u001b[0;34m.\u001b[0m\u001b[0moptions\u001b[0m\u001b[0;34m.\u001b[0m\u001b[0mto_capabilities\u001b[0m\u001b[0;34m(\u001b[0m\u001b[0;34m)\u001b[0m\u001b[0;34m\u001b[0m\u001b[0;34m\u001b[0m\u001b[0m\n\u001b[0;32m--> 448\u001b[0;31m         \u001b[0msuper\u001b[0m\u001b[0;34m(\u001b[0m\u001b[0;34m)\u001b[0m\u001b[0;34m.\u001b[0m\u001b[0mstart_session\u001b[0m\u001b[0;34m(\u001b[0m\u001b[0mcapabilities\u001b[0m\u001b[0;34m)\u001b[0m\u001b[0;34m\u001b[0m\u001b[0;34m\u001b[0m\u001b[0m\n\u001b[0m\u001b[1;32m    449\u001b[0m \u001b[0;34m\u001b[0m\u001b[0m\n\u001b[1;32m    450\u001b[0m     \u001b[0;32mdef\u001b[0m \u001b[0mquit\u001b[0m\u001b[0;34m(\u001b[0m\u001b[0mself\u001b[0m\u001b[0;34m)\u001b[0m\u001b[0;34m:\u001b[0m\u001b[0;34m\u001b[0m\u001b[0;34m\u001b[0m\u001b[0m\n",
            "\u001b[0;32m/usr/local/lib/python3.10/dist-packages/selenium/webdriver/remote/webdriver.py\u001b[0m in \u001b[0;36mstart_session\u001b[0;34m(self, capabilities)\u001b[0m\n\u001b[1;32m    290\u001b[0m \u001b[0;34m\u001b[0m\u001b[0m\n\u001b[1;32m    291\u001b[0m         \u001b[0mcaps\u001b[0m \u001b[0;34m=\u001b[0m \u001b[0m_create_caps\u001b[0m\u001b[0;34m(\u001b[0m\u001b[0mcapabilities\u001b[0m\u001b[0;34m)\u001b[0m\u001b[0;34m\u001b[0m\u001b[0;34m\u001b[0m\u001b[0m\n\u001b[0;32m--> 292\u001b[0;31m         \u001b[0mresponse\u001b[0m \u001b[0;34m=\u001b[0m \u001b[0mself\u001b[0m\u001b[0;34m.\u001b[0m\u001b[0mexecute\u001b[0m\u001b[0;34m(\u001b[0m\u001b[0mCommand\u001b[0m\u001b[0;34m.\u001b[0m\u001b[0mNEW_SESSION\u001b[0m\u001b[0;34m,\u001b[0m \u001b[0mcaps\u001b[0m\u001b[0;34m)\u001b[0m\u001b[0;34m[\u001b[0m\u001b[0;34m\"value\"\u001b[0m\u001b[0;34m]\u001b[0m\u001b[0;34m\u001b[0m\u001b[0;34m\u001b[0m\u001b[0m\n\u001b[0m\u001b[1;32m    293\u001b[0m         \u001b[0mself\u001b[0m\u001b[0;34m.\u001b[0m\u001b[0msession_id\u001b[0m \u001b[0;34m=\u001b[0m \u001b[0mresponse\u001b[0m\u001b[0;34m.\u001b[0m\u001b[0mget\u001b[0m\u001b[0;34m(\u001b[0m\u001b[0;34m\"sessionId\"\u001b[0m\u001b[0;34m)\u001b[0m\u001b[0;34m\u001b[0m\u001b[0;34m\u001b[0m\u001b[0m\n\u001b[1;32m    294\u001b[0m         \u001b[0mself\u001b[0m\u001b[0;34m.\u001b[0m\u001b[0mcaps\u001b[0m \u001b[0;34m=\u001b[0m \u001b[0mresponse\u001b[0m\u001b[0;34m.\u001b[0m\u001b[0mget\u001b[0m\u001b[0;34m(\u001b[0m\u001b[0;34m\"capabilities\"\u001b[0m\u001b[0;34m)\u001b[0m\u001b[0;34m\u001b[0m\u001b[0;34m\u001b[0m\u001b[0m\n",
            "\u001b[0;32m/usr/local/lib/python3.10/dist-packages/selenium/webdriver/remote/webdriver.py\u001b[0m in \u001b[0;36mexecute\u001b[0;34m(self, driver_command, params)\u001b[0m\n\u001b[1;32m    345\u001b[0m         \u001b[0mresponse\u001b[0m \u001b[0;34m=\u001b[0m \u001b[0mself\u001b[0m\u001b[0;34m.\u001b[0m\u001b[0mcommand_executor\u001b[0m\u001b[0;34m.\u001b[0m\u001b[0mexecute\u001b[0m\u001b[0;34m(\u001b[0m\u001b[0mdriver_command\u001b[0m\u001b[0;34m,\u001b[0m \u001b[0mparams\u001b[0m\u001b[0;34m)\u001b[0m\u001b[0;34m\u001b[0m\u001b[0;34m\u001b[0m\u001b[0m\n\u001b[1;32m    346\u001b[0m         \u001b[0;32mif\u001b[0m \u001b[0mresponse\u001b[0m\u001b[0;34m:\u001b[0m\u001b[0;34m\u001b[0m\u001b[0;34m\u001b[0m\u001b[0m\n\u001b[0;32m--> 347\u001b[0;31m             \u001b[0mself\u001b[0m\u001b[0;34m.\u001b[0m\u001b[0merror_handler\u001b[0m\u001b[0;34m.\u001b[0m\u001b[0mcheck_response\u001b[0m\u001b[0;34m(\u001b[0m\u001b[0mresponse\u001b[0m\u001b[0;34m)\u001b[0m\u001b[0;34m\u001b[0m\u001b[0;34m\u001b[0m\u001b[0m\n\u001b[0m\u001b[1;32m    348\u001b[0m             \u001b[0mresponse\u001b[0m\u001b[0;34m[\u001b[0m\u001b[0;34m\"value\"\u001b[0m\u001b[0;34m]\u001b[0m \u001b[0;34m=\u001b[0m \u001b[0mself\u001b[0m\u001b[0;34m.\u001b[0m\u001b[0m_unwrap_value\u001b[0m\u001b[0;34m(\u001b[0m\u001b[0mresponse\u001b[0m\u001b[0;34m.\u001b[0m\u001b[0mget\u001b[0m\u001b[0;34m(\u001b[0m\u001b[0;34m\"value\"\u001b[0m\u001b[0;34m,\u001b[0m \u001b[0;32mNone\u001b[0m\u001b[0;34m)\u001b[0m\u001b[0;34m)\u001b[0m\u001b[0;34m\u001b[0m\u001b[0;34m\u001b[0m\u001b[0m\n\u001b[1;32m    349\u001b[0m             \u001b[0;32mreturn\u001b[0m \u001b[0mresponse\u001b[0m\u001b[0;34m\u001b[0m\u001b[0;34m\u001b[0m\u001b[0m\n",
            "\u001b[0;32m/usr/local/lib/python3.10/dist-packages/selenium/webdriver/remote/errorhandler.py\u001b[0m in \u001b[0;36mcheck_response\u001b[0;34m(self, response)\u001b[0m\n\u001b[1;32m    227\u001b[0m                 \u001b[0malert_text\u001b[0m \u001b[0;34m=\u001b[0m \u001b[0mvalue\u001b[0m\u001b[0;34m[\u001b[0m\u001b[0;34m\"alert\"\u001b[0m\u001b[0;34m]\u001b[0m\u001b[0;34m.\u001b[0m\u001b[0mget\u001b[0m\u001b[0;34m(\u001b[0m\u001b[0;34m\"text\"\u001b[0m\u001b[0;34m)\u001b[0m\u001b[0;34m\u001b[0m\u001b[0;34m\u001b[0m\u001b[0m\n\u001b[1;32m    228\u001b[0m             \u001b[0;32mraise\u001b[0m \u001b[0mexception_class\u001b[0m\u001b[0;34m(\u001b[0m\u001b[0mmessage\u001b[0m\u001b[0;34m,\u001b[0m \u001b[0mscreen\u001b[0m\u001b[0;34m,\u001b[0m \u001b[0mstacktrace\u001b[0m\u001b[0;34m,\u001b[0m \u001b[0malert_text\u001b[0m\u001b[0;34m)\u001b[0m  \u001b[0;31m# type: ignore[call-arg]  # mypy is not smart enough here\u001b[0m\u001b[0;34m\u001b[0m\u001b[0;34m\u001b[0m\u001b[0m\n\u001b[0;32m--> 229\u001b[0;31m         \u001b[0;32mraise\u001b[0m \u001b[0mexception_class\u001b[0m\u001b[0;34m(\u001b[0m\u001b[0mmessage\u001b[0m\u001b[0;34m,\u001b[0m \u001b[0mscreen\u001b[0m\u001b[0;34m,\u001b[0m \u001b[0mstacktrace\u001b[0m\u001b[0;34m)\u001b[0m\u001b[0;34m\u001b[0m\u001b[0;34m\u001b[0m\u001b[0m\n\u001b[0m",
            "\u001b[0;31mWebDriverException\u001b[0m: Message: unknown error: cannot connect to chrome at 127.0.0.1:9222\nfrom chrome not reachable\nStacktrace:\n#0 0x5855a397bd93 <unknown>\n#1 0x5855a365f177 <unknown>\n#2 0x5855a364a02a <unknown>\n#3 0x5855a3698cf8 <unknown>\n#4 0x5855a368f1cb <unknown>\n#5 0x5855a36d9b7c <unknown>\n#6 0x5855a36cd1e3 <unknown>\n#7 0x5855a369d135 <unknown>\n#8 0x5855a369e13e <unknown>\n#9 0x5855a393fe4b <unknown>\n#10 0x5855a3943dfa <unknown>\n#11 0x5855a392c6d5 <unknown>\n#12 0x5855a3944a6f <unknown>\n#13 0x5855a391069f <unknown>\n#14 0x5855a3969098 <unknown>\n#15 0x5855a3969262 <unknown>\n#16 0x5855a397af34 <unknown>\n#17 0x7c4f8097dac3 <unknown>\n"
          ]
        }
      ]
    },
    {
      "cell_type": "code",
      "source": [],
      "metadata": {
        "id": "Sa2DdAEf3mqM"
      },
      "execution_count": null,
      "outputs": []
    }
  ]
}