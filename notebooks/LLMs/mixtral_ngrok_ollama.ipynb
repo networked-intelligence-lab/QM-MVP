{
  "nbformat": 4,
  "nbformat_minor": 0,
  "metadata": {
    "colab": {
      "provenance": [],
      "gpuType": "T4",
      "authorship_tag": "ABX9TyM/50MkfiQtmiyYTv5R162f",
      "include_colab_link": true
    },
    "kernelspec": {
      "name": "python3",
      "display_name": "Python 3"
    },
    "language_info": {
      "name": "python"
    },
    "accelerator": "GPU"
  },
  "cells": [
    {
      "cell_type": "markdown",
      "metadata": {
        "id": "view-in-github",
        "colab_type": "text"
      },
      "source": [
        "<a href=\"https://colab.research.google.com/github/networked-intelligence-lab/QM-MVP/blob/main/notebooks/LLMs/mixtral_ngrok_ollama.ipynb\" target=\"_parent\"><img src=\"https://colab.research.google.com/assets/colab-badge.svg\" alt=\"Open In Colab\"/></a>"
      ]
    },
    {
      "cell_type": "markdown",
      "source": [
        "## NI Lab Repository\n",
        "This notebook was used for exploratory purposes, and is saved as a Colab notebook in https://github.com/networked-intelligence-lab/QM-MVP under:\n",
        "```\n",
        "notebooks/LLMs/mixtral_ngrok_ollama.ipynb\n",
        "```"
      ],
      "metadata": {
        "id": "-f0kcldYCjaO"
      }
    },
    {
      "cell_type": "code",
      "source": [
        "from google.colab import drive\n",
        "drive.mount('/content/drive')"
      ],
      "metadata": {
        "colab": {
          "base_uri": "https://localhost:8080/"
        },
        "id": "pp_7fEjXCGeh",
        "outputId": "fb77a0ff-7049-4e20-93b4-80c6dcbd1284"
      },
      "execution_count": 1,
      "outputs": [
        {
          "output_type": "stream",
          "name": "stdout",
          "text": [
            "Mounted at /content/drive\n"
          ]
        }
      ]
    },
    {
      "cell_type": "code",
      "source": [
        "%%sh\n",
        "pip install pyngrok"
      ],
      "metadata": {
        "colab": {
          "base_uri": "https://localhost:8080/"
        },
        "id": "2TZ6DNwA9L6z",
        "outputId": "3c9f1218-9d18-4d5c-9b9b-eb64cc0442bb"
      },
      "execution_count": 2,
      "outputs": [
        {
          "output_type": "stream",
          "name": "stdout",
          "text": [
            "Collecting pyngrok\n",
            "  Downloading pyngrok-7.1.2-py3-none-any.whl (22 kB)\n",
            "Requirement already satisfied: PyYAML>=5.1 in /usr/local/lib/python3.10/dist-packages (from pyngrok) (6.0.1)\n",
            "Installing collected packages: pyngrok\n",
            "Successfully installed pyngrok-7.1.2\n"
          ]
        }
      ]
    },
    {
      "cell_type": "code",
      "execution_count": 3,
      "metadata": {
        "colab": {
          "base_uri": "https://localhost:8080/"
        },
        "id": "o9BypgMf8Rzm",
        "outputId": "8d39285e-321d-4fe0-e46a-2b365026dc93"
      },
      "outputs": [
        {
          "output_type": "stream",
          "name": "stdout",
          "text": [
            "WARNING: Unable to detect NVIDIA GPU. Install lspci or lshw to automatically detect and install NVIDIA CUDA drivers.\n"
          ]
        },
        {
          "output_type": "stream",
          "name": "stderr",
          "text": [
            ">>> Downloading ollama...\n",
            "#=#=- #                                                                                            \r##O=#  #                                                                                           \r\r############################################################################################# 100.0%#=#=-#   #                                                                                         \r #=#=-#    #                                                                                       \r\r                                                                                                0.0%\r                                                                                                0.2%\r                                                                                                0.5%\r                                                                                                0.9%\r#                                                                                               1.3%\r#                                                                                               1.8%\r##                                                                                              2.3%\r##                                                                                              2.8%\r###                                                                                             3.4%\r###                                                                                             4.0%\r####                                                                                            4.6%\r####                                                                                            5.3%\r#####                                                                                           6.0%\r######                                                                                          6.7%\r######                                                                                          7.4%\r#######                                                                                         8.1%\r########                                                                                        8.8%\r########                                                                                        9.5%\r#########                                                                                      10.4%\r##########                                                                                     11.2%\r###########                                                                                    12.2%\r############                                                                                   13.2%\r############                                                                                   14.0%\r##############                                                                                 15.1%\r##############                                                                                 16.1%\r################                                                                               17.3%\r#################                                                                              18.3%\r##################                                                                             19.6%\r###################                                                                            20.7%\r####################                                                                           21.8%\r#####################                                                                          23.0%\r######################                                                                         24.3%\r#######################                                                                        25.7%\r#########################                                                                      27.1%\r##########################                                                                     28.3%\r###########################                                                                    29.7%\r############################                                                                   31.1%\r##############################                                                                 32.7%\r###############################                                                                34.1%\r#################################                                                              35.6%\r##################################                                                             37.0%\r###################################                                                            38.3%\r#####################################                                                          39.9%\r######################################                                                         41.3%\r#######################################                                                        42.8%\r#########################################                                                      44.5%\r##########################################                                                     46.1%\r############################################                                                   47.9%\r##############################################                                                 49.7%\r################################################                                               51.7%\r##################################################                                             53.8%\r###################################################                                            55.8%\r#####################################################                                          57.9%\r#######################################################                                        59.9%\r#########################################################                                      62.1%\r###########################################################                                    64.4%\r##############################################################                                 66.7%\r###############################################################                                68.8%\r##################################################################                             71.1%\r####################################################################                           73.4%\r######################################################################                         75.7%\r########################################################################                       78.2%\r###########################################################################                    80.8%\r#############################################################################                  83.1%\r###############################################################################                85.7%\r##################################################################################             88.2%\r####################################################################################           90.8%\r######################################################################################         93.4%\r#########################################################################################      96.2%\r############################################################################################   99.1%\r############################################################################################# 100.0%\n",
            ">>> Installing ollama to /usr/local/bin...\n",
            ">>> Creating ollama user...\n",
            ">>> Adding current user to ollama group...\n",
            ">>> Creating ollama systemd service...\n",
            ">>> The Ollama API is now available at 127.0.0.1:11434.\n",
            ">>> Install complete. Run \"ollama\" from the command line.\n"
          ]
        }
      ],
      "source": [
        "%%sh\n",
        "curl -fsSL https://ollama.com/install.sh | sh"
      ]
    },
    {
      "cell_type": "code",
      "source": [
        "import threading\n",
        "import time\n",
        "import os\n",
        "import asyncio\n",
        "from pyngrok import ngrok\n",
        "import queue\n",
        "from threading import Thread\n",
        "\n",
        "try:\n",
        "  token = open(\"/content/drive/MyDrive/Tokens/ngrok\").read()\n",
        "except:\n",
        "  token = input(\"Input your ngrok token\")\n",
        "\n",
        "ngrok.set_auth_token(token)\n",
        "\n",
        "class StoppableThread(threading.Thread):\n",
        "    def __init__(self, *args, **kwargs):\n",
        "        super(StoppableThread, self).__init__(*args, **kwargs)\n",
        "        self._stop_event = threading.Event()\n",
        "\n",
        "    def stop(self):\n",
        "        self._stop_event.set()\n",
        "\n",
        "    def is_stopped(self):\n",
        "        return self._stop_event.is_set()\n",
        "\n",
        "def start_ngrok(q, stop_event):\n",
        "    try:\n",
        "        public_url = ngrok.connect(11434)\n",
        "        q.put(public_url)\n",
        "        while not stop_event.is_set():\n",
        "            time.sleep(1)\n",
        "    except Exception as e:\n",
        "        print(f\"Error in start_ngrok: {e}\")"
      ],
      "metadata": {
        "colab": {
          "base_uri": "https://localhost:8080/"
        },
        "id": "QoRn2Ce18fsr",
        "outputId": "81478b11-cd74-4c0d-8df5-6fb2626310ca"
      },
      "execution_count": 4,
      "outputs": [
        {
          "output_type": "stream",
          "name": "stdout",
          "text": []
        }
      ]
    },
    {
      "cell_type": "code",
      "source": [
        "url_queue = queue.Queue()\n",
        "ngrok_thread = StoppableThread(target=start_ngrok, args=(url_queue, StoppableThread.is_stopped))\n",
        "ngrok_thread.start()"
      ],
      "metadata": {
        "id": "6cEcXQ9a9Kix"
      },
      "execution_count": 5,
      "outputs": []
    },
    {
      "cell_type": "code",
      "source": [
        "while True:\n",
        "    try:\n",
        "        public_url = url_queue.get()\n",
        "        if public_url:\n",
        "            break\n",
        "        print(\"Waiting for ngrok URL...\")\n",
        "        time.sleep(1)\n",
        "    except Exception as e:\n",
        "        print(f\"Error in retrieving ngrok URL: {e}\")\n",
        "\n",
        "print(\"Ngrok tunnel established at:\", public_url)"
      ],
      "metadata": {
        "colab": {
          "base_uri": "https://localhost:8080/"
        },
        "id": "9QG5RRjR9aGM",
        "outputId": "5bed2d83-f3a3-409b-b527-66cb87a1462a"
      },
      "execution_count": 6,
      "outputs": [
        {
          "output_type": "stream",
          "name": "stdout",
          "text": [
            "Ngrok tunnel established at: NgrokTunnel: \"https://6a3e-35-230-50-238.ngrok-free.app\" -> \"http://localhost:11434\"\n"
          ]
        }
      ]
    },
    {
      "cell_type": "code",
      "source": [
        "import os\n",
        "import asyncio\n",
        "\n",
        "os.environ['PATH'] += ':/usr/local/cuda/bin'\n",
        "os.environ['LD_LIBRARY_PATH'] = '/usr/lib64-nvidia:/usr/local/cuda/lib64'\n",
        "\n",
        "async def run_process(cmd):\n",
        "    print('>>> starting', *cmd)\n",
        "    process = await asyncio.create_subprocess_exec(\n",
        "        *cmd,\n",
        "        stdout=asyncio.subprocess.PIPE,\n",
        "        stderr=asyncio.subprocess.PIPE\n",
        "    )\n",
        "\n",
        "    # define an async pipe function\n",
        "    async def pipe(lines):\n",
        "        async for line in lines:\n",
        "            print(line.decode().strip())\n",
        "\n",
        "        await asyncio.gather(\n",
        "            pipe(process.stdout),\n",
        "            pipe(process.stderr),\n",
        "        )\n",
        "\n",
        "    # call it\n",
        "    await asyncio.gather(pipe(process.stdout), pipe(process.stderr))"
      ],
      "metadata": {
        "id": "2iqI2Mnb9b4r"
      },
      "execution_count": 7,
      "outputs": []
    },
    {
      "cell_type": "code",
      "source": [
        "import asyncio\n",
        "import threading\n",
        "\n",
        "async def start_ollama_serve():\n",
        "    await run_process(['ollama', 'serve'])\n",
        "\n",
        "def run_async_in_thread(loop, coro):\n",
        "    asyncio.set_event_loop(loop)\n",
        "    loop.run_until_complete(coro)\n",
        "    loop.close()\n",
        "\n",
        "# Create a new event loop that will run in a new thread\n",
        "new_loop = asyncio.new_event_loop()\n",
        "\n",
        "# Start ollama serve in a separate thread so the cell won't block execution\n",
        "thread = threading.Thread(target=run_async_in_thread, args=(new_loop, start_ollama_serve()))\n",
        "thread.start()"
      ],
      "metadata": {
        "colab": {
          "base_uri": "https://localhost:8080/"
        },
        "id": "uW7JxtFO9gbd",
        "outputId": "8975d752-b8aa-4045-a9e4-60c7c70050af"
      },
      "execution_count": 8,
      "outputs": [
        {
          "output_type": "stream",
          "name": "stdout",
          "text": [
            ">>> starting ollama serve\n"
          ]
        }
      ]
    },
    {
      "cell_type": "code",
      "source": [],
      "metadata": {
        "id": "Lf0u925R9iV5"
      },
      "execution_count": null,
      "outputs": []
    }
  ]
}