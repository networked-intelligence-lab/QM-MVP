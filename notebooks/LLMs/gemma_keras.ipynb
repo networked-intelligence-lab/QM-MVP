{
  "nbformat": 4,
  "nbformat_minor": 0,
  "metadata": {
    "colab": {
      "provenance": [],
      "authorship_tag": "ABX9TyNNgkxzAxrJfgA75p3RrGta",
      "include_colab_link": true
    },
    "kernelspec": {
      "name": "python3",
      "display_name": "Python 3"
    },
    "language_info": {
      "name": "python"
    }
  },
  "cells": [
    {
      "cell_type": "markdown",
      "metadata": {
        "id": "view-in-github",
        "colab_type": "text"
      },
      "source": [
        "<a href=\"https://colab.research.google.com/github/networked-intelligence-lab/QM-MVP/blob/main/notebooks/LLMs/gemma_keras.ipynb\" target=\"_parent\"><img src=\"https://colab.research.google.com/assets/colab-badge.svg\" alt=\"Open In Colab\"/></a>"
      ]
    },
    {
      "cell_type": "code",
      "source": [
        "%%sh\n",
        "pip install -U keras-nlp\n",
        "pip install -U keras"
      ],
      "metadata": {
        "id": "bXqSQRwPUoe3"
      },
      "execution_count": null,
      "outputs": []
    },
    {
      "cell_type": "code",
      "execution_count": null,
      "metadata": {
        "id": "Ca3SmmAPUh9_"
      },
      "outputs": [],
      "source": [
        "import keras\n",
        "import keras_nlp\n",
        "import numpy as np"
      ]
    },
    {
      "cell_type": "code",
      "source": [
        "gemma_lm = keras_nlp.models.GemmaCausalLM.from_preset(\"gemma_instruct_7b_en\")\n",
        "gemma_lm.generate(\"Keras is a\", max_length=30)\n",
        "\n",
        "gemma_lm.generate([\"Keras is a\", \"I want to say\"], max_length=30)"
      ],
      "metadata": {
        "id": "PUBaZ79ZUr11"
      },
      "execution_count": null,
      "outputs": []
    },
    {
      "cell_type": "code",
      "source": [
        "gemma_lm = keras_nlp.models.GemmaCausalLM.from_preset(\"gemma_instruct_7b_en\")\n",
        "gemma_lm.compile(sampler=\"top_k\")\n",
        "gemma_lm.generate(\"I want to say\", max_length=30)\n",
        "\n",
        "gemma_lm.compile(sampler=keras_nlp.samplers.BeamSampler(num_beams=2))\n",
        "gemma_lm.generate(\"I want to say\", max_length=30)\n"
      ],
      "metadata": {
        "id": "SrObP3I2VKif"
      },
      "execution_count": null,
      "outputs": []
    },
    {
      "cell_type": "code",
      "source": [
        "prompt = {\n",
        "    \"token_ids\": np.array([[2, 214064, 603, 0, 0, 0, 0]] * 2),\n",
        "    \"padding_mask\": np.array([[1, 1, 1, 0, 0, 0, 0]] * 2),\n",
        "}\n",
        "\n",
        "gemma_lm = keras_nlp.models.GemmaCausalLM.from_preset(\n",
        "    \"gemma_instruct_7b_en\",\n",
        "    preprocessor=None,\n",
        ")\n",
        "gemma_lm.generate(prompt)\n"
      ],
      "metadata": {
        "id": "2c9zwV5sVM30"
      },
      "execution_count": null,
      "outputs": []
    },
    {
      "cell_type": "code",
      "source": [
        "features = [\"The quick brown fox jumped.\", \"I forgot my homework.\"]\n",
        "gemma_lm = keras_nlp.models.GemmaCausalLM.from_preset(\"gemma_instruct_7b_en\")\n",
        "gemma_lm.fit(x=features, batch_size=2)"
      ],
      "metadata": {
        "id": "zU-DQTmhVRKV"
      },
      "execution_count": null,
      "outputs": []
    },
    {
      "cell_type": "code",
      "source": [
        "x = {\n",
        "    \"token_ids\": np.array([[2, 214064, 603, 5271, 6044, 9581, 3, 0]] * 2),\n",
        "    \"padding_mask\": np.array([[1, 1, 1, 1, 1, 1, 1, 0]] * 2),\n",
        "}\n",
        "y = np.array([[214064, 603, 5271, 6044, 9581, 3, 0, 0]] * 2)\n",
        "sw = np.array([[1, 1, 1, 1, 1, 1, 0, 0]] * 2)\n",
        "\n",
        "gemma_lm = keras_nlp.models.GemmaCausalLM.from_preset(\n",
        "    \"gemma_instruct_7b_en\",\n",
        "    preprocessor=None,\n",
        ")\n",
        "gemma_lm.fit(x=x, y=y, sample_weight=sw, batch_size=2)"
      ],
      "metadata": {
        "id": "RvBlFYGlVS_k"
      },
      "execution_count": null,
      "outputs": []
    }
  ]
}