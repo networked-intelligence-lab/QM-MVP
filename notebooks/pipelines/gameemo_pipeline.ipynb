{
  "nbformat": 4,
  "nbformat_minor": 0,
  "metadata": {
    "colab": {
      "provenance": [],
      "authorship_tag": "ABX9TyPuf4c7S5jQ1CC3V9u6Uia8",
      "include_colab_link": true
    },
    "kernelspec": {
      "name": "python3",
      "display_name": "Python 3"
    },
    "language_info": {
      "name": "python"
    }
  },
  "cells": [
    {
      "cell_type": "markdown",
      "metadata": {
        "id": "view-in-github",
        "colab_type": "text"
      },
      "source": [
        "<a href=\"https://colab.research.google.com/github/networked-intelligence-lab/QM-MVP/blob/main/notebooks/pipelines/gameemo_pipeline.ipynb\" target=\"_parent\"><img src=\"https://colab.research.google.com/assets/colab-badge.svg\" alt=\"Open In Colab\"/></a>"
      ]
    },
    {
      "cell_type": "markdown",
      "source": [
        "## NI Lab Repository\n",
        "This notebook was used for exploratory purposes, and is saved as a Colab notebook in https://github.com/networked-intelligence-lab/QM-MVP under:\n",
        "```\n",
        "notebooks/pipelines/gameemo_pipeline.ipynb\n",
        "```\n",
        "\n",
        "---\n",
        "\n",
        "## Source\n",
        "### Dataset\n",
        "Dataset is sourced from the Biomedical Signal Processing and Control Paper titled \"**Database for an emotion recognition system based on EEG signals and various computer games–GAMEEMO**\"\n",
        "\n",
        "*Citation*: Alakus, T. B., Gonen, M., & Turkoglu, I. (2020). Database for an emotion recognition system based on EEG signals and various computer games–GAMEEMO. Biomedical Signal Processing and Control, 60, 101951.\n",
        "\n",
        "*Kaggle Source*: https://www.kaggle.com/datasets/sigfest/database-for-emotion-recognition-system-gameemo"
      ],
      "metadata": {
        "id": "FXwgQ3K894Nr"
      }
    },
    {
      "cell_type": "code",
      "execution_count": 3,
      "metadata": {
        "colab": {
          "base_uri": "https://localhost:8080/"
        },
        "id": "zcjQzLwh9l5d",
        "outputId": "4edc8322-9cc2-40de-9633-0e6f643234b0"
      },
      "outputs": [
        {
          "output_type": "stream",
          "name": "stderr",
          "text": [
            "mkdir: cannot create directory ‘/root/.kaggle’: File exists\n"
          ]
        }
      ],
      "source": [
        "%%sh\n",
        "mkdir ~/.kaggle\n",
        "cp kaggle.json ~/.kaggle/kaggle.json\n",
        "chmod 600 ~/.kaggle/kaggle.json"
      ]
    },
    {
      "cell_type": "code",
      "source": [
        "%%sh\n",
        "kaggle datasets download sigfest/database-for-emotion-recognition-system-gameemo"
      ],
      "metadata": {
        "colab": {
          "base_uri": "https://localhost:8080/"
        },
        "id": "BA5Uflm1_Urs",
        "outputId": "f22ecfe5-0dd3-4d49-c503-06b08d7f55bc"
      },
      "execution_count": 5,
      "outputs": [
        {
          "output_type": "stream",
          "name": "stdout",
          "text": [
            "Downloading database-for-emotion-recognition-system-gameemo.zip to /content\n",
            "\n"
          ]
        },
        {
          "output_type": "stream",
          "name": "stderr",
          "text": [
            "\r  0%|          | 0.00/1.70G [00:00<?, ?B/s]\r  0%|          | 5.00M/1.70G [00:00<00:45, 40.4MB/s]\r  1%|          | 11.0M/1.70G [00:00<00:35, 51.4MB/s]\r  1%|          | 20.0M/1.70G [00:00<00:27, 65.7MB/s]\r  2%|▏         | 30.0M/1.70G [00:00<00:23, 76.7MB/s]\r  2%|▏         | 38.0M/1.70G [00:00<00:28, 63.5MB/s]\r  3%|▎         | 49.0M/1.70G [00:00<00:24, 71.6MB/s]\r  3%|▎         | 58.0M/1.70G [00:00<00:23, 74.9MB/s]\r  4%|▍         | 70.0M/1.70G [00:00<00:20, 87.5MB/s]\r  5%|▍         | 81.0M/1.70G [00:01<00:27, 64.5MB/s]\r  6%|▌         | 97.0M/1.70G [00:01<00:20, 84.7MB/s]\r  6%|▋         | 110M/1.70G [00:01<00:18, 94.6MB/s] \r  7%|▋         | 121M/1.70G [00:01<00:18, 92.0MB/s]\r  8%|▊         | 137M/1.70G [00:01<00:16, 101MB/s] \r  9%|▊         | 152M/1.70G [00:01<00:14, 114MB/s]\r  9%|▉         | 164M/1.70G [00:01<00:14, 115MB/s]\r 10%|█         | 180M/1.70G [00:02<00:12, 128MB/s]\r 11%|█         | 193M/1.70G [00:02<00:12, 126MB/s]\r 12%|█▏        | 206M/1.70G [00:02<00:12, 129MB/s]\r 13%|█▎        | 219M/1.70G [00:02<00:19, 81.9MB/s]\r 13%|█▎        | 233M/1.70G [00:02<00:17, 89.1MB/s]\r 14%|█▍        | 245M/1.70G [00:02<00:16, 96.4MB/s]\r 15%|█▍        | 256M/1.70G [00:02<00:15, 100MB/s] \r 15%|█▌        | 267M/1.70G [00:05<01:28, 17.4MB/s]\r 16%|█▌        | 282M/1.70G [00:05<01:02, 24.4MB/s]\r 17%|█▋        | 291M/1.70G [00:05<00:55, 27.5MB/s]\r 17%|█▋        | 299M/1.70G [00:05<00:48, 31.3MB/s]\r 18%|█▊        | 306M/1.70G [00:05<00:42, 35.7MB/s]\r 18%|█▊        | 313M/1.70G [00:05<00:42, 35.5MB/s]\r 18%|█▊        | 321M/1.70G [00:06<00:41, 35.8MB/s]\r 19%|█▉        | 329M/1.70G [00:06<00:37, 39.9MB/s]\r 19%|█▉        | 337M/1.70G [00:06<00:32, 45.7MB/s]\r 20%|█▉        | 345M/1.70G [00:06<00:29, 50.2MB/s]\r 20%|██        | 353M/1.70G [00:06<00:26, 54.3MB/s]\r 21%|██        | 361M/1.70G [00:06<00:34, 41.7MB/s]\r 21%|██        | 369M/1.70G [00:07<00:35, 40.5MB/s]\r 22%|██▏       | 378M/1.70G [00:07<00:29, 49.0MB/s]\r 22%|██▏       | 386M/1.70G [00:07<00:25, 55.5MB/s]\r 23%|██▎       | 393M/1.70G [00:07<00:27, 51.8MB/s]\r 23%|██▎       | 403M/1.70G [00:07<00:22, 62.5MB/s]\r 24%|██▎       | 412M/1.70G [00:07<00:20, 69.1MB/s]\r 24%|██▍       | 420M/1.70G [00:07<00:24, 56.1MB/s]\r 25%|██▍       | 433M/1.70G [00:08<00:20, 65.6MB/s]\r 25%|██▌       | 441M/1.70G [00:08<00:20, 67.2MB/s]\r 26%|██▌       | 456M/1.70G [00:08<00:15, 87.5MB/s]\r 27%|██▋       | 474M/1.70G [00:08<00:11, 112MB/s] \r 28%|██▊       | 494M/1.70G [00:08<00:09, 135MB/s]\r 29%|██▉       | 508M/1.70G [00:08<00:09, 136MB/s]\r 30%|██▉       | 522M/1.70G [00:08<00:15, 84.8MB/s]\r 31%|███       | 537M/1.70G [00:09<00:13, 96.5MB/s]\r 32%|███▏      | 553M/1.70G [00:09<00:14, 86.3MB/s]\r 33%|███▎      | 571M/1.70G [00:09<00:11, 105MB/s] \r 34%|███▎      | 584M/1.70G [00:09<00:13, 92.6MB/s]\r 34%|███▍      | 595M/1.70G [00:09<00:16, 74.3MB/s]\r 35%|███▌      | 611M/1.70G [00:09<00:13, 90.9MB/s]\r 36%|███▌      | 625M/1.70G [00:10<00:12, 97.3MB/s]\r 37%|███▋      | 641M/1.70G [00:10<00:10, 112MB/s] \r 38%|███▊      | 654M/1.70G [00:10<00:15, 71.9MB/s]\r 38%|███▊      | 665M/1.70G [00:10<00:14, 79.2MB/s]\r 39%|███▉      | 679M/1.70G [00:10<00:12, 91.5MB/s]\r 40%|███▉      | 695M/1.70G [00:10<00:10, 108MB/s] \r 41%|████      | 708M/1.70G [00:11<00:13, 83.3MB/s]\r 42%|████▏     | 726M/1.70G [00:11<00:10, 102MB/s] \r 42%|████▏     | 739M/1.70G [00:11<00:11, 91.0MB/s]\r 43%|████▎     | 753M/1.70G [00:11<00:12, 85.6MB/s]\r 44%|████▍     | 763M/1.70G [00:11<00:13, 76.5MB/s]\r 45%|████▍     | 782M/1.70G [00:11<00:10, 99.6MB/s]\r 46%|████▌     | 794M/1.70G [00:12<00:10, 98.6MB/s]\r 46%|████▋     | 809M/1.70G [00:12<00:09, 107MB/s] \r 47%|████▋     | 821M/1.70G [00:12<00:11, 83.4MB/s]\r 48%|████▊     | 831M/1.70G [00:12<00:14, 65.2MB/s]\r 49%|████▊     | 848M/1.70G [00:12<00:11, 84.9MB/s]\r 49%|████▉     | 859M/1.70G [00:13<00:15, 59.8MB/s]\r 50%|████▉     | 869M/1.70G [00:13<00:13, 66.1MB/s]\r 51%|█████     | 884M/1.70G [00:13<00:10, 82.0MB/s]\r 51%|█████▏    | 895M/1.70G [00:13<00:11, 76.2MB/s]\r 52%|█████▏    | 904M/1.70G [00:13<00:11, 74.0MB/s]\r 52%|█████▏    | 914M/1.70G [00:13<00:10, 79.5MB/s]\r 53%|█████▎    | 924M/1.70G [00:13<00:10, 83.4MB/s]\r 54%|█████▎    | 933M/1.70G [00:15<00:35, 24.2MB/s]\r 54%|█████▍    | 944M/1.70G [00:15<00:26, 32.1MB/s]\r 55%|█████▍    | 952M/1.70G [00:15<00:23, 34.7MB/s]\r 55%|█████▌    | 959M/1.70G [00:15<00:20, 39.4MB/s]\r 55%|█████▌    | 966M/1.70G [00:15<00:19, 42.5MB/s]\r 56%|█████▌    | 973M/1.70G [00:15<00:17, 46.1MB/s]\r 56%|█████▌    | 980M/1.70G [00:15<00:16, 49.1MB/s]\r 57%|█████▋    | 986M/1.70G [00:15<00:16, 47.7MB/s]\r 57%|█████▋    | 993M/1.70G [00:16<00:15, 52.3MB/s]\r 57%|█████▋    | 0.98G/1.70G [00:16<00:19, 40.0MB/s]\r 58%|█████▊    | 0.99G/1.70G [00:16<00:17, 43.7MB/s]\r 58%|█████▊    | 0.99G/1.70G [00:16<00:15, 50.7MB/s]\r 59%|█████▉    | 1.00G/1.70G [00:16<00:13, 56.6MB/s]\r 59%|█████▉    | 1.01G/1.70G [00:16<00:12, 60.2MB/s]\r 60%|█████▉    | 1.02G/1.70G [00:17<00:14, 51.6MB/s]\r 60%|██████    | 1.02G/1.70G [00:17<00:15, 46.9MB/s]\r 61%|██████    | 1.03G/1.70G [00:17<00:24, 29.4MB/s]\r 61%|██████    | 1.04G/1.70G [00:18<00:22, 31.6MB/s]\r 62%|██████▏   | 1.05G/1.70G [00:18<00:18, 38.1MB/s]\r 62%|██████▏   | 1.06G/1.70G [00:18<00:15, 45.4MB/s]\r 63%|██████▎   | 1.07G/1.70G [00:18<00:10, 65.7MB/s]\r 63%|██████▎   | 1.08G/1.70G [00:18<00:10, 64.3MB/s]\r 64%|██████▍   | 1.09G/1.70G [00:18<00:12, 53.0MB/s]\r 64%|██████▍   | 1.09G/1.70G [00:18<00:13, 48.0MB/s]\r 65%|██████▌   | 1.11G/1.70G [00:19<00:09, 64.4MB/s]\r 66%|██████▌   | 1.12G/1.70G [00:19<00:11, 54.7MB/s]\r 67%|██████▋   | 1.13G/1.70G [00:19<00:08, 71.2MB/s]\r 68%|██████▊   | 1.15G/1.70G [00:19<00:07, 75.6MB/s]\r 68%|██████▊   | 1.16G/1.70G [00:19<00:08, 70.5MB/s]\r 68%|██████▊   | 1.17G/1.70G [00:20<00:09, 60.9MB/s]\r 69%|██████▉   | 1.18G/1.70G [00:20<00:07, 74.3MB/s]\r 70%|███████   | 1.20G/1.70G [00:20<00:05, 93.9MB/s]\r 71%|███████   | 1.21G/1.70G [00:20<00:05, 93.8MB/s]\r 72%|███████▏  | 1.23G/1.70G [00:20<00:04, 107MB/s] \r 73%|███████▎  | 1.24G/1.70G [00:20<00:04, 99.9MB/s]\r 74%|███████▎  | 1.25G/1.70G [00:20<00:04, 101MB/s] \r 74%|███████▍  | 1.26G/1.70G [00:20<00:04, 100MB/s]\r 75%|███████▍  | 1.27G/1.70G [00:21<00:05, 89.5MB/s]\r 75%|███████▌  | 1.28G/1.70G [00:21<00:06, 69.3MB/s]\r 76%|███████▋  | 1.30G/1.70G [00:21<00:05, 76.9MB/s]\r 77%|███████▋  | 1.31G/1.70G [00:21<00:06, 65.8MB/s]\r 79%|███████▊  | 1.34G/1.70G [00:22<00:05, 71.6MB/s]\r 80%|███████▉  | 1.36G/1.70G [00:22<00:04, 75.6MB/s]\r 80%|████████  | 1.37G/1.70G [00:22<00:04, 73.9MB/s]\r 82%|████████▏ | 1.39G/1.70G [00:22<00:03, 95.6MB/s]\r 82%|████████▏ | 1.40G/1.70G [00:22<00:03, 102MB/s] \r 84%|████████▎ | 1.42G/1.70G [00:22<00:02, 128MB/s]\r 84%|████████▍ | 1.44G/1.70G [00:23<00:02, 98.3MB/s]\r 85%|████████▌ | 1.45G/1.70G [00:23<00:02, 91.9MB/s]\r 86%|████████▋ | 1.47G/1.70G [00:23<00:02, 123MB/s] \r 87%|████████▋ | 1.49G/1.70G [00:23<00:02, 115MB/s]\r 88%|████████▊ | 1.50G/1.70G [00:25<00:07, 30.8MB/s]\r 89%|████████▉ | 1.52G/1.70G [00:25<00:04, 46.2MB/s]\r 90%|█████████ | 1.54G/1.70G [00:25<00:03, 54.4MB/s]\r 91%|█████████ | 1.55G/1.70G [00:25<00:03, 54.5MB/s]\r 92%|█████████▏| 1.56G/1.70G [00:25<00:02, 52.1MB/s]\r 92%|█████████▏| 1.57G/1.70G [00:26<00:02, 48.1MB/s]\r 93%|█████████▎| 1.58G/1.70G [00:26<00:02, 56.8MB/s]\r 94%|█████████▎| 1.59G/1.70G [00:26<00:01, 68.7MB/s]\r 94%|█████████▍| 1.60G/1.70G [00:26<00:01, 57.5MB/s]\r 95%|█████████▍| 1.61G/1.70G [00:26<00:01, 70.4MB/s]\r 96%|█████████▌| 1.63G/1.70G [00:26<00:01, 75.3MB/s]\r 96%|█████████▋| 1.64G/1.70G [00:27<00:01, 58.2MB/s]\r 98%|█████████▊| 1.66G/1.70G [00:27<00:00, 84.3MB/s]\r 99%|█████████▊| 1.68G/1.70G [00:27<00:00, 98.9MB/s]\r100%|█████████▉| 1.70G/1.70G [00:27<00:00, 122MB/s] \r100%|██████████| 1.70G/1.70G [00:27<00:00, 66.4MB/s]\n"
          ]
        }
      ]
    },
    {
      "cell_type": "code",
      "source": [
        "%%sh\n",
        "unzip /content/database-for-emotion-recognition-system-gameemo.zip"
      ],
      "metadata": {
        "colab": {
          "base_uri": "https://localhost:8080/"
        },
        "id": "UUcLm93kACkr",
        "outputId": "c5ac82fb-b9b7-481a-8a65-9a3eaca8f727"
      },
      "execution_count": 7,
      "outputs": [
        {
          "output_type": "stream",
          "name": "stdout",
          "text": [
            "Archive:  /content/database-for-emotion-recognition-system-gameemo.zip\n",
            "  inflating: GAMEEMO/(S01)/Preprocessed EEG Data/.csv format/S01G1AllChannels.csv  \n",
            "  inflating: GAMEEMO/(S01)/Preprocessed EEG Data/.csv format/S01G2AllChannels.csv  \n",
            "  inflating: GAMEEMO/(S01)/Preprocessed EEG Data/.csv format/S01G3AllChannels.csv  \n",
            "  inflating: GAMEEMO/(S01)/Preprocessed EEG Data/.csv format/S01G4AllChannels.csv  \n",
            "  inflating: GAMEEMO/(S01)/Preprocessed EEG Data/.mat format/S01G1AllChannels.mat  \n",
            "  inflating: GAMEEMO/(S01)/Preprocessed EEG Data/.mat format/S01G2AllChannels.mat  \n",
            "  inflating: GAMEEMO/(S01)/Preprocessed EEG Data/.mat format/S01G3AllChannels.mat  \n",
            "  inflating: GAMEEMO/(S01)/Preprocessed EEG Data/.mat format/S01G4AllChannels.mat  \n",
            "  inflating: GAMEEMO/(S01)/Raw EEG Data/.csv format/S01G1AllRawChannels.csv  \n",
            "  inflating: GAMEEMO/(S01)/Raw EEG Data/.csv format/S01G2AllRawChannels.csv  \n",
            "  inflating: GAMEEMO/(S01)/Raw EEG Data/.csv format/S01G3AllRawChannels.csv  \n",
            "  inflating: GAMEEMO/(S01)/Raw EEG Data/.csv format/S01G4AllRawChannels.csv  \n",
            "  inflating: GAMEEMO/(S01)/Raw EEG Data/.mat format/S01G1AllRawChannels.mat  \n",
            "  inflating: GAMEEMO/(S01)/Raw EEG Data/.mat format/S01G2AllRawChannels.mat  \n",
            "  inflating: GAMEEMO/(S01)/Raw EEG Data/.mat format/S01G3AllRawChannels.mat  \n",
            "  inflating: GAMEEMO/(S01)/Raw EEG Data/.mat format/S01G4AllRawChannels.mat  \n",
            "  inflating: GAMEEMO/(S01)/SAM Ratings/G1.pdf  \n",
            "  inflating: GAMEEMO/(S01)/SAM Ratings/G2.pdf  \n",
            "  inflating: GAMEEMO/(S01)/SAM Ratings/G3.pdf  \n",
            "  inflating: GAMEEMO/(S01)/SAM Ratings/G4.pdf  \n",
            "  inflating: GAMEEMO/(S02)/Preprocessed EEG Data/.csv format/S02G1AllChannels.csv  \n",
            "  inflating: GAMEEMO/(S02)/Preprocessed EEG Data/.csv format/S02G2AllChannels.csv  \n",
            "  inflating: GAMEEMO/(S02)/Preprocessed EEG Data/.csv format/S02G3AllChannels.csv  \n",
            "  inflating: GAMEEMO/(S02)/Preprocessed EEG Data/.csv format/S02G4AllChannels.csv  \n",
            "  inflating: GAMEEMO/(S02)/Preprocessed EEG Data/.mat format/S02G1AllChannels.mat  \n",
            "  inflating: GAMEEMO/(S02)/Preprocessed EEG Data/.mat format/S02G2AllChannels.mat  \n",
            "  inflating: GAMEEMO/(S02)/Preprocessed EEG Data/.mat format/S02G3AllChannels.mat  \n",
            "  inflating: GAMEEMO/(S02)/Preprocessed EEG Data/.mat format/S02G4AllChannels.mat  \n",
            "  inflating: GAMEEMO/(S02)/Raw EEG Data/.csv format/S02G1AllRawChannels.csv  \n",
            "  inflating: GAMEEMO/(S02)/Raw EEG Data/.csv format/S02G2AllRawChannels.csv  \n",
            "  inflating: GAMEEMO/(S02)/Raw EEG Data/.csv format/S02G3AllRawChannels.csv  \n",
            "  inflating: GAMEEMO/(S02)/Raw EEG Data/.csv format/S02G4AllRawChannels.csv  \n",
            "  inflating: GAMEEMO/(S02)/Raw EEG Data/.mat format/S02G1AllRawChannels.mat  \n",
            "  inflating: GAMEEMO/(S02)/Raw EEG Data/.mat format/S02G2AllRawChannels.mat  \n",
            "  inflating: GAMEEMO/(S02)/Raw EEG Data/.mat format/S02G3AllRawChannels.mat  \n",
            "  inflating: GAMEEMO/(S02)/Raw EEG Data/.mat format/S02G4AllRawChannels.mat  \n",
            "  inflating: GAMEEMO/(S02)/SAM Ratings/G1.pdf  \n",
            "  inflating: GAMEEMO/(S02)/SAM Ratings/G2.pdf  \n",
            "  inflating: GAMEEMO/(S02)/SAM Ratings/G3.pdf  \n",
            "  inflating: GAMEEMO/(S02)/SAM Ratings/G4.pdf  \n",
            "  inflating: GAMEEMO/(S03)/Preprocessed EEG Data/.csv format/S03G1AllChannels.csv  \n",
            "  inflating: GAMEEMO/(S03)/Preprocessed EEG Data/.csv format/S03G2AllChannels.csv  \n",
            "  inflating: GAMEEMO/(S03)/Preprocessed EEG Data/.csv format/S03G3AllChannels.csv  \n",
            "  inflating: GAMEEMO/(S03)/Preprocessed EEG Data/.csv format/S03G4AllChannels.csv  \n",
            "  inflating: GAMEEMO/(S03)/Preprocessed EEG Data/.mat format/S03G1AllChannels.mat  \n",
            "  inflating: GAMEEMO/(S03)/Preprocessed EEG Data/.mat format/S03G2AllChannels.mat  \n",
            "  inflating: GAMEEMO/(S03)/Preprocessed EEG Data/.mat format/S03G3AllChannels.mat  \n",
            "  inflating: GAMEEMO/(S03)/Preprocessed EEG Data/.mat format/S03G4AllChannels.mat  \n",
            "  inflating: GAMEEMO/(S03)/Raw EEG Data/.csv format/S03G1AllRawChannels.csv  \n",
            "  inflating: GAMEEMO/(S03)/Raw EEG Data/.csv format/S03G2AllRawChannels.csv  \n",
            "  inflating: GAMEEMO/(S03)/Raw EEG Data/.csv format/S03G3AllRawChannels.csv  \n",
            "  inflating: GAMEEMO/(S03)/Raw EEG Data/.csv format/S03G4AllRawChannels.csv  \n",
            "  inflating: GAMEEMO/(S03)/Raw EEG Data/.mat format/S03G1AllRawChannels.mat  \n",
            "  inflating: GAMEEMO/(S03)/Raw EEG Data/.mat format/S03G2AllRawChannels.mat  \n",
            "  inflating: GAMEEMO/(S03)/Raw EEG Data/.mat format/S03G3AllRawChannels.mat  \n",
            "  inflating: GAMEEMO/(S03)/Raw EEG Data/.mat format/S03G4AllRawChannels.mat  \n",
            "  inflating: GAMEEMO/(S03)/SAM Ratings/G1.pdf  \n",
            "  inflating: GAMEEMO/(S03)/SAM Ratings/G2.pdf  \n",
            "  inflating: GAMEEMO/(S03)/SAM Ratings/G3.pdf  \n",
            "  inflating: GAMEEMO/(S03)/SAM Ratings/G4.pdf  \n",
            "  inflating: GAMEEMO/(S04)/Preprocessed EEG Data/.csv format/S04G1AllChannels.csv  \n",
            "  inflating: GAMEEMO/(S04)/Preprocessed EEG Data/.csv format/S04G2AllChannels.csv  \n",
            "  inflating: GAMEEMO/(S04)/Preprocessed EEG Data/.csv format/S04G3AllChannels.csv  \n",
            "  inflating: GAMEEMO/(S04)/Preprocessed EEG Data/.csv format/S04G4AllChannels.csv  \n",
            "  inflating: GAMEEMO/(S04)/Preprocessed EEG Data/.mat format/S04G1AllChannels.mat  \n",
            "  inflating: GAMEEMO/(S04)/Preprocessed EEG Data/.mat format/S04G2AllChannels.mat  \n",
            "  inflating: GAMEEMO/(S04)/Preprocessed EEG Data/.mat format/S04G3AllChannels.mat  \n",
            "  inflating: GAMEEMO/(S04)/Preprocessed EEG Data/.mat format/S04G4AllChannels.mat  \n",
            "  inflating: GAMEEMO/(S04)/Raw EEG Data/.csv format/S04G1AllRawChannels.csv  \n",
            "  inflating: GAMEEMO/(S04)/Raw EEG Data/.csv format/S04G2AllRawChannels.csv  \n",
            "  inflating: GAMEEMO/(S04)/Raw EEG Data/.csv format/S04G3AllRawChannels.csv  \n",
            "  inflating: GAMEEMO/(S04)/Raw EEG Data/.csv format/S04G4AllRawChannels.csv  \n",
            "  inflating: GAMEEMO/(S04)/Raw EEG Data/.mat format/S04G1AllRawChannels.mat  \n",
            "  inflating: GAMEEMO/(S04)/Raw EEG Data/.mat format/S04G2AllRawChannels.mat  \n",
            "  inflating: GAMEEMO/(S04)/Raw EEG Data/.mat format/S04G3AllRawChannels.mat  \n",
            "  inflating: GAMEEMO/(S04)/Raw EEG Data/.mat format/S04G4AllRawChannels.mat  \n",
            "  inflating: GAMEEMO/(S04)/SAM Ratings/G1.pdf  \n",
            "  inflating: GAMEEMO/(S04)/SAM Ratings/G2.pdf  \n",
            "  inflating: GAMEEMO/(S04)/SAM Ratings/G3.pdf  \n",
            "  inflating: GAMEEMO/(S04)/SAM Ratings/G4.pdf  \n",
            "  inflating: GAMEEMO/(S05)/Preprocessed EEG Data/.csv format/S05G1AllChannels.csv  \n",
            "  inflating: GAMEEMO/(S05)/Preprocessed EEG Data/.csv format/S05G2AllChannels.csv  \n",
            "  inflating: GAMEEMO/(S05)/Preprocessed EEG Data/.csv format/S05G3AllChannels.csv  \n",
            "  inflating: GAMEEMO/(S05)/Preprocessed EEG Data/.csv format/S05G4AllChannels.csv  \n",
            "  inflating: GAMEEMO/(S05)/Preprocessed EEG Data/.mat format/S05G1AllChannels.mat  \n",
            "  inflating: GAMEEMO/(S05)/Preprocessed EEG Data/.mat format/S05G2AllChannels.mat  \n",
            "  inflating: GAMEEMO/(S05)/Preprocessed EEG Data/.mat format/S05G3AllChannels.mat  \n",
            "  inflating: GAMEEMO/(S05)/Preprocessed EEG Data/.mat format/S05G4AllChannels.mat  \n",
            "  inflating: GAMEEMO/(S05)/Raw EEG Data/.csv format/S05G1AllRawChannels.csv  \n",
            "  inflating: GAMEEMO/(S05)/Raw EEG Data/.csv format/S05G2AllRawChannels.csv  \n",
            "  inflating: GAMEEMO/(S05)/Raw EEG Data/.csv format/S05G3AllRawChannels.csv  \n",
            "  inflating: GAMEEMO/(S05)/Raw EEG Data/.csv format/S05G4AllRawChannels.csv  \n",
            "  inflating: GAMEEMO/(S05)/Raw EEG Data/.mat format/S05G1AllRawChannels.mat  \n",
            "  inflating: GAMEEMO/(S05)/Raw EEG Data/.mat format/S05G2AllRawChannels.mat  \n",
            "  inflating: GAMEEMO/(S05)/Raw EEG Data/.mat format/S05G3AllRawChannels.mat  \n",
            "  inflating: GAMEEMO/(S05)/Raw EEG Data/.mat format/S05G4AllRawChannels.mat  \n",
            "  inflating: GAMEEMO/(S05)/SAM Ratings/G1.pdf  \n",
            "  inflating: GAMEEMO/(S05)/SAM Ratings/G2.pdf  \n",
            "  inflating: GAMEEMO/(S05)/SAM Ratings/G3.pdf  \n",
            "  inflating: GAMEEMO/(S05)/SAM Ratings/G4.pdf  \n",
            "  inflating: GAMEEMO/(S06)/Preprocessed EEG Data/.csv format/S06G1AllChannels.csv  \n",
            "  inflating: GAMEEMO/(S06)/Preprocessed EEG Data/.csv format/S06G2AllChannels.csv  \n",
            "  inflating: GAMEEMO/(S06)/Preprocessed EEG Data/.csv format/S06G3AllChannels.csv  \n",
            "  inflating: GAMEEMO/(S06)/Preprocessed EEG Data/.csv format/S06G4AllChannels.csv  \n",
            "  inflating: GAMEEMO/(S06)/Preprocessed EEG Data/.mat format/S06G1AllChannels.mat  \n",
            "  inflating: GAMEEMO/(S06)/Preprocessed EEG Data/.mat format/S06G2AllChannels.mat  \n",
            "  inflating: GAMEEMO/(S06)/Preprocessed EEG Data/.mat format/S06G3AllChannels.mat  \n",
            "  inflating: GAMEEMO/(S06)/Preprocessed EEG Data/.mat format/S06G4AllChannels.mat  \n",
            "  inflating: GAMEEMO/(S06)/Raw EEG Data/.csv format/S06G1AllRawChannels.csv  \n",
            "  inflating: GAMEEMO/(S06)/Raw EEG Data/.csv format/S06G2AllRawChannels.csv  \n",
            "  inflating: GAMEEMO/(S06)/Raw EEG Data/.csv format/S06G3AllRawChannels.csv  \n",
            "  inflating: GAMEEMO/(S06)/Raw EEG Data/.csv format/S06G4AllRawChannels.csv  \n",
            "  inflating: GAMEEMO/(S06)/Raw EEG Data/.mat format/S06G1AllRawChannels.mat  \n",
            "  inflating: GAMEEMO/(S06)/Raw EEG Data/.mat format/S06G2AllRawChannels.mat  \n",
            "  inflating: GAMEEMO/(S06)/Raw EEG Data/.mat format/S06G3AllRawChannels.mat  \n",
            "  inflating: GAMEEMO/(S06)/Raw EEG Data/.mat format/S06G4AllRawChannels.mat  \n",
            "  inflating: GAMEEMO/(S06)/SAM Ratings/G1.pdf  \n",
            "  inflating: GAMEEMO/(S06)/SAM Ratings/G2.pdf  \n",
            "  inflating: GAMEEMO/(S06)/SAM Ratings/G3.pdf  \n",
            "  inflating: GAMEEMO/(S06)/SAM Ratings/G4.pdf  \n",
            "  inflating: GAMEEMO/(S07)/Preprocessed EEG Data/.csv format/S07G1AllChannels.csv  \n",
            "  inflating: GAMEEMO/(S07)/Preprocessed EEG Data/.csv format/S07G2AllChannels.csv  \n",
            "  inflating: GAMEEMO/(S07)/Preprocessed EEG Data/.csv format/S07G3AllChannels.csv  \n",
            "  inflating: GAMEEMO/(S07)/Preprocessed EEG Data/.csv format/S07G4AllChannels.csv  \n",
            "  inflating: GAMEEMO/(S07)/Preprocessed EEG Data/.mat format/S07G1AllChannels.mat  \n",
            "  inflating: GAMEEMO/(S07)/Preprocessed EEG Data/.mat format/S07G2AllChannels.mat  \n",
            "  inflating: GAMEEMO/(S07)/Preprocessed EEG Data/.mat format/S07G3AllChannels.mat  \n",
            "  inflating: GAMEEMO/(S07)/Preprocessed EEG Data/.mat format/S07G4AllChannels.mat  \n",
            "  inflating: GAMEEMO/(S07)/Raw EEG Data/.csv format/S07G1AllRawChannels.csv  \n",
            "  inflating: GAMEEMO/(S07)/Raw EEG Data/.csv format/S07G2AllRawChannels.csv  \n",
            "  inflating: GAMEEMO/(S07)/Raw EEG Data/.csv format/S07G3AllRawChannels.csv  \n",
            "  inflating: GAMEEMO/(S07)/Raw EEG Data/.csv format/S07G4AllRawChannels.csv  \n",
            "  inflating: GAMEEMO/(S07)/Raw EEG Data/.mat format/S07G1AllRawChannels.mat  \n",
            "  inflating: GAMEEMO/(S07)/Raw EEG Data/.mat format/S07G2AllRawChannels.mat  \n",
            "  inflating: GAMEEMO/(S07)/Raw EEG Data/.mat format/S07G3AllRawChannels.mat  \n",
            "  inflating: GAMEEMO/(S07)/Raw EEG Data/.mat format/S07G4AllRawChannels.mat  \n",
            "  inflating: GAMEEMO/(S07)/SAM Ratings/G1.pdf  \n",
            "  inflating: GAMEEMO/(S07)/SAM Ratings/G2.pdf  \n",
            "  inflating: GAMEEMO/(S07)/SAM Ratings/G3.pdf  \n",
            "  inflating: GAMEEMO/(S07)/SAM Ratings/G4.pdf  \n",
            "  inflating: GAMEEMO/(S08)/Preprocessed EEG Data/.csv format/S08G1AllChannels.csv  \n",
            "  inflating: GAMEEMO/(S08)/Preprocessed EEG Data/.csv format/S08G2AllChannels.csv  \n",
            "  inflating: GAMEEMO/(S08)/Preprocessed EEG Data/.csv format/S08G3AllChannels.csv  \n",
            "  inflating: GAMEEMO/(S08)/Preprocessed EEG Data/.csv format/S08G4AllChannels.csv  \n",
            "  inflating: GAMEEMO/(S08)/Preprocessed EEG Data/.mat format/S08G1AllChannels.mat  \n",
            "  inflating: GAMEEMO/(S08)/Preprocessed EEG Data/.mat format/S08G2AllChannels.mat  \n",
            "  inflating: GAMEEMO/(S08)/Preprocessed EEG Data/.mat format/S08G3AllChannels.mat  \n",
            "  inflating: GAMEEMO/(S08)/Preprocessed EEG Data/.mat format/S08G4AllChannels.mat  \n",
            "  inflating: GAMEEMO/(S08)/Raw EEG Data/.csv format/S08G1AllRawChannels.csv  \n",
            "  inflating: GAMEEMO/(S08)/Raw EEG Data/.csv format/S08G2AllRawChannels.csv  \n",
            "  inflating: GAMEEMO/(S08)/Raw EEG Data/.csv format/S08G3AllRawChannels.csv  \n",
            "  inflating: GAMEEMO/(S08)/Raw EEG Data/.csv format/S08G4AllRawChannels.csv  \n",
            "  inflating: GAMEEMO/(S08)/Raw EEG Data/.mat format/S08G1AllRawChannels.mat  \n",
            "  inflating: GAMEEMO/(S08)/Raw EEG Data/.mat format/S08G2AllRawChannels.mat  \n",
            "  inflating: GAMEEMO/(S08)/Raw EEG Data/.mat format/S08G3AllRawChannels.mat  \n",
            "  inflating: GAMEEMO/(S08)/Raw EEG Data/.mat format/S08G4AllRawChannels.mat  \n",
            "  inflating: GAMEEMO/(S08)/SAM Ratings/G1.pdf  \n",
            "  inflating: GAMEEMO/(S08)/SAM Ratings/G2.pdf  \n",
            "  inflating: GAMEEMO/(S08)/SAM Ratings/G3.pdf  \n",
            "  inflating: GAMEEMO/(S08)/SAM Ratings/G4.pdf  \n",
            "  inflating: GAMEEMO/(S09)/Preprocessed EEG Data/.csv format/S09G1AllChannels.csv  \n",
            "  inflating: GAMEEMO/(S09)/Preprocessed EEG Data/.csv format/S09G2AllChannels.csv  \n",
            "  inflating: GAMEEMO/(S09)/Preprocessed EEG Data/.csv format/S09G3AllChannels.csv  \n",
            "  inflating: GAMEEMO/(S09)/Preprocessed EEG Data/.csv format/S09G4AllChannels.csv  \n",
            "  inflating: GAMEEMO/(S09)/Preprocessed EEG Data/.mat format/S09G1AllChannels.mat  \n",
            "  inflating: GAMEEMO/(S09)/Preprocessed EEG Data/.mat format/S09G2AllChannels.mat  \n",
            "  inflating: GAMEEMO/(S09)/Preprocessed EEG Data/.mat format/S09G3AllChannels.mat  \n",
            "  inflating: GAMEEMO/(S09)/Preprocessed EEG Data/.mat format/S09G4AllChannels.mat  \n",
            "  inflating: GAMEEMO/(S09)/Raw EEG Data/.csv format/S09G1AllRawChannels.csv  \n",
            "  inflating: GAMEEMO/(S09)/Raw EEG Data/.csv format/S09G2AllRawChannels.csv  \n",
            "  inflating: GAMEEMO/(S09)/Raw EEG Data/.csv format/S09G3AllRawChannels.csv  \n",
            "  inflating: GAMEEMO/(S09)/Raw EEG Data/.csv format/S09G4AllRawChannels.csv  \n",
            "  inflating: GAMEEMO/(S09)/Raw EEG Data/.mat format/S09G1AllRawChannels.mat  \n",
            "  inflating: GAMEEMO/(S09)/Raw EEG Data/.mat format/S09G2AllRawChannels.mat  \n",
            "  inflating: GAMEEMO/(S09)/Raw EEG Data/.mat format/S09G3AllRawChannels.mat  \n",
            "  inflating: GAMEEMO/(S09)/Raw EEG Data/.mat format/S09G4AllRawChannels.mat  \n",
            "  inflating: GAMEEMO/(S09)/SAM Ratings/G1.pdf  \n",
            "  inflating: GAMEEMO/(S09)/SAM Ratings/G2.pdf  \n",
            "  inflating: GAMEEMO/(S09)/SAM Ratings/G3.pdf  \n",
            "  inflating: GAMEEMO/(S09)/SAM Ratings/G4.pdf  \n",
            "  inflating: GAMEEMO/(S10)/Preprocessed EEG Data/.csv format/S10G1AllChannels.csv  \n",
            "  inflating: GAMEEMO/(S10)/Preprocessed EEG Data/.csv format/S10G2AllChannels.csv  \n",
            "  inflating: GAMEEMO/(S10)/Preprocessed EEG Data/.csv format/S10G3AllChannels.csv  \n",
            "  inflating: GAMEEMO/(S10)/Preprocessed EEG Data/.csv format/S10G4AllChannels.csv  \n",
            "  inflating: GAMEEMO/(S10)/Preprocessed EEG Data/.mat format/S10G1AllChannels.mat  \n",
            "  inflating: GAMEEMO/(S10)/Preprocessed EEG Data/.mat format/S10G2AllChannels.mat  \n",
            "  inflating: GAMEEMO/(S10)/Preprocessed EEG Data/.mat format/S10G3AllChannels.mat  \n",
            "  inflating: GAMEEMO/(S10)/Preprocessed EEG Data/.mat format/S10G4AllChannels.mat  \n",
            "  inflating: GAMEEMO/(S10)/Raw EEG Data/.csv format/S10G1AllRawChannels.csv  \n",
            "  inflating: GAMEEMO/(S10)/Raw EEG Data/.csv format/S10G2AllRawChannels.csv  \n",
            "  inflating: GAMEEMO/(S10)/Raw EEG Data/.csv format/S10G3AllRawChannels.csv  \n",
            "  inflating: GAMEEMO/(S10)/Raw EEG Data/.csv format/S10G4AllRawChannels.csv  \n",
            "  inflating: GAMEEMO/(S10)/Raw EEG Data/.mat format/S10G1AllRawChannels.mat  \n",
            "  inflating: GAMEEMO/(S10)/Raw EEG Data/.mat format/S10G2AllRawChannels.mat  \n",
            "  inflating: GAMEEMO/(S10)/Raw EEG Data/.mat format/S10G3AllRawChannels.mat  \n",
            "  inflating: GAMEEMO/(S10)/Raw EEG Data/.mat format/S10G4AllRawChannels.mat  \n",
            "  inflating: GAMEEMO/(S10)/SAM Ratings/G1.pdf  \n",
            "  inflating: GAMEEMO/(S10)/SAM Ratings/G2.pdf  \n",
            "  inflating: GAMEEMO/(S10)/SAM Ratings/G3.pdf  \n",
            "  inflating: GAMEEMO/(S10)/SAM Ratings/G4.pdf  \n",
            "  inflating: GAMEEMO/(S11)/Preprocessed EEG Data/.csv format/S11G1AllChannels.csv  \n",
            "  inflating: GAMEEMO/(S11)/Preprocessed EEG Data/.csv format/S11G2AllChannels.csv  \n",
            "  inflating: GAMEEMO/(S11)/Preprocessed EEG Data/.csv format/S11G3AllChannels.csv  \n",
            "  inflating: GAMEEMO/(S11)/Preprocessed EEG Data/.csv format/S11G4AllChannels.csv  \n",
            "  inflating: GAMEEMO/(S11)/Preprocessed EEG Data/.mat format/S11G1AllChannels.mat  \n",
            "  inflating: GAMEEMO/(S11)/Preprocessed EEG Data/.mat format/S11G2AllChannels.mat  \n",
            "  inflating: GAMEEMO/(S11)/Preprocessed EEG Data/.mat format/S11G3AllChannels.mat  \n",
            "  inflating: GAMEEMO/(S11)/Preprocessed EEG Data/.mat format/S11G4AllChannels.mat  \n",
            "  inflating: GAMEEMO/(S11)/Raw EEG Data/.csv format/S11G1AllRawChannels.csv  \n",
            "  inflating: GAMEEMO/(S11)/Raw EEG Data/.csv format/S11G2AllRawChannels.csv  \n",
            "  inflating: GAMEEMO/(S11)/Raw EEG Data/.csv format/S11G3AllRawChannels.csv  \n",
            "  inflating: GAMEEMO/(S11)/Raw EEG Data/.csv format/S11G4AllRawChannels.csv  \n",
            "  inflating: GAMEEMO/(S11)/Raw EEG Data/.mat format/S11G1AllRawChannels.mat  \n",
            "  inflating: GAMEEMO/(S11)/Raw EEG Data/.mat format/S11G2AllRawChannels.mat  \n",
            "  inflating: GAMEEMO/(S11)/Raw EEG Data/.mat format/S11G3AllRawChannels.mat  \n",
            "  inflating: GAMEEMO/(S11)/Raw EEG Data/.mat format/S11G4AllRawChannels.mat  \n",
            "  inflating: GAMEEMO/(S11)/SAM Ratings/G1.pdf  \n",
            "  inflating: GAMEEMO/(S11)/SAM Ratings/G2.pdf  \n",
            "  inflating: GAMEEMO/(S11)/SAM Ratings/G3.pdf  \n",
            "  inflating: GAMEEMO/(S11)/SAM Ratings/G4.pdf  \n",
            "  inflating: GAMEEMO/(S12)/Preprocessed EEG Data/.csv format/S12G1AllChannels.csv  \n",
            "  inflating: GAMEEMO/(S12)/Preprocessed EEG Data/.csv format/S12G2AllChannels.csv  \n",
            "  inflating: GAMEEMO/(S12)/Preprocessed EEG Data/.csv format/S12G3AllChannels.csv  \n",
            "  inflating: GAMEEMO/(S12)/Preprocessed EEG Data/.csv format/S12G4AllChannels.csv  \n",
            "  inflating: GAMEEMO/(S12)/Preprocessed EEG Data/.mat format/S12G1AllChannels.mat  \n",
            "  inflating: GAMEEMO/(S12)/Preprocessed EEG Data/.mat format/S12G2AllChannels.mat  \n",
            "  inflating: GAMEEMO/(S12)/Preprocessed EEG Data/.mat format/S12G3AllChannels.mat  \n",
            "  inflating: GAMEEMO/(S12)/Preprocessed EEG Data/.mat format/S12G4AllChannels.mat  \n",
            "  inflating: GAMEEMO/(S12)/Raw EEG Data/.csv format/S12G1AllRawChannels.csv  \n",
            "  inflating: GAMEEMO/(S12)/Raw EEG Data/.csv format/S12G2AllRawChannels.csv  \n",
            "  inflating: GAMEEMO/(S12)/Raw EEG Data/.csv format/S12G3AllRawChannels.csv  \n",
            "  inflating: GAMEEMO/(S12)/Raw EEG Data/.csv format/S12G4AllRawChannels.csv  \n",
            "  inflating: GAMEEMO/(S12)/Raw EEG Data/.mat format/S12G1AllRawChannels.mat  \n",
            "  inflating: GAMEEMO/(S12)/Raw EEG Data/.mat format/S12G2AllRawChannels.mat  \n",
            "  inflating: GAMEEMO/(S12)/Raw EEG Data/.mat format/S12G3AllRawChannels.mat  \n",
            "  inflating: GAMEEMO/(S12)/Raw EEG Data/.mat format/S12G4AllRawChannels.mat  \n",
            "  inflating: GAMEEMO/(S12)/SAM Ratings/G1.pdf  \n",
            "  inflating: GAMEEMO/(S12)/SAM Ratings/G2.pdf  \n",
            "  inflating: GAMEEMO/(S12)/SAM Ratings/G3.pdf  \n",
            "  inflating: GAMEEMO/(S12)/SAM Ratings/G4.pdf  \n",
            "  inflating: GAMEEMO/(S13)/Preprocessed EEG Data/.csv format/S13G1AllChannels.csv  \n",
            "  inflating: GAMEEMO/(S13)/Preprocessed EEG Data/.csv format/S13G2AllChannels.csv  \n",
            "  inflating: GAMEEMO/(S13)/Preprocessed EEG Data/.csv format/S13G3AllChannels.csv  \n",
            "  inflating: GAMEEMO/(S13)/Preprocessed EEG Data/.csv format/S13G4AllChannels.csv  \n",
            "  inflating: GAMEEMO/(S13)/Preprocessed EEG Data/.mat format/S13G1AllChannels.mat  \n",
            "  inflating: GAMEEMO/(S13)/Preprocessed EEG Data/.mat format/S13G2AllChannels.mat  \n",
            "  inflating: GAMEEMO/(S13)/Preprocessed EEG Data/.mat format/S13G3AllChannels.mat  \n",
            "  inflating: GAMEEMO/(S13)/Preprocessed EEG Data/.mat format/S13G4AllChannels.mat  \n",
            "  inflating: GAMEEMO/(S13)/Raw EEG Data/.csv format/S13G1AllRawChannels.csv  \n",
            "  inflating: GAMEEMO/(S13)/Raw EEG Data/.csv format/S13G2AllRawChannels.csv  \n",
            "  inflating: GAMEEMO/(S13)/Raw EEG Data/.csv format/S13G3AllRawChannels.csv  \n",
            "  inflating: GAMEEMO/(S13)/Raw EEG Data/.csv format/S13G4AllRawChannels.csv  \n",
            "  inflating: GAMEEMO/(S13)/Raw EEG Data/.mat format/S13G1AllRawChannels.mat  \n",
            "  inflating: GAMEEMO/(S13)/Raw EEG Data/.mat format/S13G2AllRawChannels.mat  \n",
            "  inflating: GAMEEMO/(S13)/Raw EEG Data/.mat format/S13G3AllRawChannels.mat  \n",
            "  inflating: GAMEEMO/(S13)/Raw EEG Data/.mat format/S13G4AllRawChannels.mat  \n",
            "  inflating: GAMEEMO/(S13)/SAM Ratings/G1.pdf  \n",
            "  inflating: GAMEEMO/(S13)/SAM Ratings/G2.pdf  \n",
            "  inflating: GAMEEMO/(S13)/SAM Ratings/G3.pdf  \n",
            "  inflating: GAMEEMO/(S13)/SAM Ratings/G4.pdf  \n",
            "  inflating: GAMEEMO/(S14)/Preprocessed EEG Data/.csv format/S14G1AllChannels.csv  \n",
            "  inflating: GAMEEMO/(S14)/Preprocessed EEG Data/.csv format/S14G2AllChannels.csv  \n",
            "  inflating: GAMEEMO/(S14)/Preprocessed EEG Data/.csv format/S14G3AllChannels.csv  \n",
            "  inflating: GAMEEMO/(S14)/Preprocessed EEG Data/.csv format/S14G4AllChannels.csv  \n",
            "  inflating: GAMEEMO/(S14)/Preprocessed EEG Data/.mat format/S14G1AllChannels.mat  \n",
            "  inflating: GAMEEMO/(S14)/Preprocessed EEG Data/.mat format/S14G2AllChannels.mat  \n",
            "  inflating: GAMEEMO/(S14)/Preprocessed EEG Data/.mat format/S14G3AllChannels.mat  \n",
            "  inflating: GAMEEMO/(S14)/Preprocessed EEG Data/.mat format/S14G4AllChannels.mat  \n",
            "  inflating: GAMEEMO/(S14)/Raw EEG Data/.csv format/S14G1AllRawChannels.csv  \n",
            "  inflating: GAMEEMO/(S14)/Raw EEG Data/.csv format/S14G2AllRawChannels.csv  \n",
            "  inflating: GAMEEMO/(S14)/Raw EEG Data/.csv format/S14G3AllRawChannels.csv  \n",
            "  inflating: GAMEEMO/(S14)/Raw EEG Data/.csv format/S14G4AllRawChannels.csv  \n",
            "  inflating: GAMEEMO/(S14)/Raw EEG Data/.mat format/S14G1AllRawChannels.mat  \n",
            "  inflating: GAMEEMO/(S14)/Raw EEG Data/.mat format/S14G2AllRawChannels.mat  \n",
            "  inflating: GAMEEMO/(S14)/Raw EEG Data/.mat format/S14G3AllRawChannels.mat  \n",
            "  inflating: GAMEEMO/(S14)/Raw EEG Data/.mat format/S14G4AllRawChannels.mat  \n",
            "  inflating: GAMEEMO/(S14)/SAM Ratings/G1.pdf  \n",
            "  inflating: GAMEEMO/(S14)/SAM Ratings/G2.pdf  \n",
            "  inflating: GAMEEMO/(S14)/SAM Ratings/G3.pdf  \n",
            "  inflating: GAMEEMO/(S14)/SAM Ratings/G4.pdf  \n",
            "  inflating: GAMEEMO/(S15)/Preprocessed EEG Data/.csv format/S15G1AllChannels.csv  \n",
            "  inflating: GAMEEMO/(S15)/Preprocessed EEG Data/.csv format/S15G2AllChannels.csv  \n",
            "  inflating: GAMEEMO/(S15)/Preprocessed EEG Data/.csv format/S15G3AllChannels.csv  \n",
            "  inflating: GAMEEMO/(S15)/Preprocessed EEG Data/.csv format/S15G4AllChannels.csv  \n",
            "  inflating: GAMEEMO/(S15)/Preprocessed EEG Data/.mat format/S15G1AllChannels.mat  \n",
            "  inflating: GAMEEMO/(S15)/Preprocessed EEG Data/.mat format/S15G2AllChannels.mat  \n",
            "  inflating: GAMEEMO/(S15)/Preprocessed EEG Data/.mat format/S15G3AllChannels.mat  \n",
            "  inflating: GAMEEMO/(S15)/Preprocessed EEG Data/.mat format/S15G4AllChannels.mat  \n",
            "  inflating: GAMEEMO/(S15)/Raw EEG Data/.csv format/S15G1AllRawChannels.csv  \n",
            "  inflating: GAMEEMO/(S15)/Raw EEG Data/.csv format/S15G2AllRawChannels.csv  \n",
            "  inflating: GAMEEMO/(S15)/Raw EEG Data/.csv format/S15G3AllRawChannels.csv  \n",
            "  inflating: GAMEEMO/(S15)/Raw EEG Data/.csv format/S15G4AllRawChannels.csv  \n",
            "  inflating: GAMEEMO/(S15)/Raw EEG Data/.mat format/S15G1AllRawChannels.mat  \n",
            "  inflating: GAMEEMO/(S15)/Raw EEG Data/.mat format/S15G2AllRawChannels.mat  \n",
            "  inflating: GAMEEMO/(S15)/Raw EEG Data/.mat format/S15G3AllRawChannels.mat  \n",
            "  inflating: GAMEEMO/(S15)/Raw EEG Data/.mat format/S15G4AllRawChannels.mat  \n",
            "  inflating: GAMEEMO/(S15)/SAM Ratings/G1.pdf  \n",
            "  inflating: GAMEEMO/(S15)/SAM Ratings/G2.pdf  \n",
            "  inflating: GAMEEMO/(S15)/SAM Ratings/G3.pdf  \n",
            "  inflating: GAMEEMO/(S15)/SAM Ratings/G4.pdf  \n",
            "  inflating: GAMEEMO/(S16)/Preprocessed EEG Data/.csv format/S16G1AllChannels.csv  \n",
            "  inflating: GAMEEMO/(S16)/Preprocessed EEG Data/.csv format/S16G2AllChannels.csv  \n",
            "  inflating: GAMEEMO/(S16)/Preprocessed EEG Data/.csv format/S16G3AllChannels.csv  \n",
            "  inflating: GAMEEMO/(S16)/Preprocessed EEG Data/.csv format/S16G4AllChannels.csv  \n",
            "  inflating: GAMEEMO/(S16)/Preprocessed EEG Data/.mat format/S16G1AllChannels.mat  \n",
            "  inflating: GAMEEMO/(S16)/Preprocessed EEG Data/.mat format/S16G2AllChannels.mat  \n",
            "  inflating: GAMEEMO/(S16)/Preprocessed EEG Data/.mat format/S16G3AllChannels.mat  \n",
            "  inflating: GAMEEMO/(S16)/Preprocessed EEG Data/.mat format/S16G4AllChannels.mat  \n",
            "  inflating: GAMEEMO/(S16)/Raw EEG Data/.csv format/S16G1AllRawChannels.csv  \n",
            "  inflating: GAMEEMO/(S16)/Raw EEG Data/.csv format/S16G2AllRawChannels.csv  \n",
            "  inflating: GAMEEMO/(S16)/Raw EEG Data/.csv format/S16G3AllRawChannels.csv  \n",
            "  inflating: GAMEEMO/(S16)/Raw EEG Data/.csv format/S16G4AllRawChannels.csv  \n",
            "  inflating: GAMEEMO/(S16)/Raw EEG Data/.mat format/S16G1AllRawChannels.mat  \n",
            "  inflating: GAMEEMO/(S16)/Raw EEG Data/.mat format/S16G2AllRawChannels.mat  \n",
            "  inflating: GAMEEMO/(S16)/Raw EEG Data/.mat format/S16G3AllRawChannels.mat  \n",
            "  inflating: GAMEEMO/(S16)/Raw EEG Data/.mat format/S16G4AllRawChannels.mat  \n",
            "  inflating: GAMEEMO/(S16)/SAM Ratings/G1.pdf  \n",
            "  inflating: GAMEEMO/(S16)/SAM Ratings/G2.pdf  \n",
            "  inflating: GAMEEMO/(S16)/SAM Ratings/G3.pdf  \n",
            "  inflating: GAMEEMO/(S16)/SAM Ratings/G4.pdf  \n",
            "  inflating: GAMEEMO/(S17)/Preprocessed EEG Data/.csv format/S17G1AllChannels.csv  \n",
            "  inflating: GAMEEMO/(S17)/Preprocessed EEG Data/.csv format/S17G2AllChannels.csv  \n",
            "  inflating: GAMEEMO/(S17)/Preprocessed EEG Data/.csv format/S17G3AllChannels.csv  \n",
            "  inflating: GAMEEMO/(S17)/Preprocessed EEG Data/.csv format/S17G4AllChannels.csv  \n",
            "  inflating: GAMEEMO/(S17)/Preprocessed EEG Data/.mat format/S17G1AllChannels.mat  \n",
            "  inflating: GAMEEMO/(S17)/Preprocessed EEG Data/.mat format/S17G2AllChannels.mat  \n",
            "  inflating: GAMEEMO/(S17)/Preprocessed EEG Data/.mat format/S17G3AllChannels.mat  \n",
            "  inflating: GAMEEMO/(S17)/Preprocessed EEG Data/.mat format/S17G4AllChannels.mat  \n",
            "  inflating: GAMEEMO/(S17)/Raw EEG Data/.csv format/S17G1AllRawChannels.csv  \n",
            "  inflating: GAMEEMO/(S17)/Raw EEG Data/.csv format/S17G2AllRawChannels.csv  \n",
            "  inflating: GAMEEMO/(S17)/Raw EEG Data/.csv format/S17G3AllRawChannels.csv  \n",
            "  inflating: GAMEEMO/(S17)/Raw EEG Data/.csv format/S17G4AllRawChannels.csv  \n",
            "  inflating: GAMEEMO/(S17)/Raw EEG Data/.mat format/S17G1AllRawChannels.mat  \n",
            "  inflating: GAMEEMO/(S17)/Raw EEG Data/.mat format/S17G2AllRawChannels.mat  \n",
            "  inflating: GAMEEMO/(S17)/Raw EEG Data/.mat format/S17G3AllRawChannels.mat  \n",
            "  inflating: GAMEEMO/(S17)/Raw EEG Data/.mat format/S17G4AllRawChannels.mat  \n",
            "  inflating: GAMEEMO/(S17)/SAM Ratings/G1.pdf  \n",
            "  inflating: GAMEEMO/(S17)/SAM Ratings/G2.pdf  \n",
            "  inflating: GAMEEMO/(S17)/SAM Ratings/G3.pdf  \n",
            "  inflating: GAMEEMO/(S17)/SAM Ratings/G4.pdf  \n",
            "  inflating: GAMEEMO/(S18)/Preprocessed EEG Data/.csv format/S18G1AllChannels.csv  \n",
            "  inflating: GAMEEMO/(S18)/Preprocessed EEG Data/.csv format/S18G2AllChannels.csv  \n",
            "  inflating: GAMEEMO/(S18)/Preprocessed EEG Data/.csv format/S18G3AllChannels.csv  \n",
            "  inflating: GAMEEMO/(S18)/Preprocessed EEG Data/.csv format/S18G4AllChannels.csv  \n",
            "  inflating: GAMEEMO/(S18)/Preprocessed EEG Data/.mat format/S18G1AllChannels.mat  \n",
            "  inflating: GAMEEMO/(S18)/Preprocessed EEG Data/.mat format/S18G2AllChannels.mat  \n",
            "  inflating: GAMEEMO/(S18)/Preprocessed EEG Data/.mat format/S18G3AllChannels.mat  \n",
            "  inflating: GAMEEMO/(S18)/Preprocessed EEG Data/.mat format/S18G4AllChannels.mat  \n",
            "  inflating: GAMEEMO/(S18)/Raw EEG Data/.csv format/S18G1AllRawChannels.csv  \n",
            "  inflating: GAMEEMO/(S18)/Raw EEG Data/.csv format/S18G2AllRawChannels.csv  \n",
            "  inflating: GAMEEMO/(S18)/Raw EEG Data/.csv format/S18G3AllRawChannels.csv  \n",
            "  inflating: GAMEEMO/(S18)/Raw EEG Data/.csv format/S18G4AllRawChannels.csv  \n",
            "  inflating: GAMEEMO/(S18)/Raw EEG Data/.mat format/S18G1AllRawChannels.mat  \n",
            "  inflating: GAMEEMO/(S18)/Raw EEG Data/.mat format/S18G2AllRawChannels.mat  \n",
            "  inflating: GAMEEMO/(S18)/Raw EEG Data/.mat format/S18G3AllRawChannels.mat  \n",
            "  inflating: GAMEEMO/(S18)/Raw EEG Data/.mat format/S18G4AllRawChannels.mat  \n",
            "  inflating: GAMEEMO/(S18)/SAM Ratings/G1.pdf  \n",
            "  inflating: GAMEEMO/(S18)/SAM Ratings/G2.pdf  \n",
            "  inflating: GAMEEMO/(S18)/SAM Ratings/G3.pdf  \n",
            "  inflating: GAMEEMO/(S18)/SAM Ratings/G4.pdf  \n",
            "  inflating: GAMEEMO/(S19)/Preprocessed EEG Data/.csv format/S19G1AllChannels.csv  \n",
            "  inflating: GAMEEMO/(S19)/Preprocessed EEG Data/.csv format/S19G2AllChannels.csv  \n",
            "  inflating: GAMEEMO/(S19)/Preprocessed EEG Data/.csv format/S19G3AllChannels.csv  \n",
            "  inflating: GAMEEMO/(S19)/Preprocessed EEG Data/.csv format/S19G4AllChannels.csv  \n",
            "  inflating: GAMEEMO/(S19)/Preprocessed EEG Data/.mat format/S19G1AllChannels.mat  \n",
            "  inflating: GAMEEMO/(S19)/Preprocessed EEG Data/.mat format/S19G2AllChannels.mat  \n",
            "  inflating: GAMEEMO/(S19)/Preprocessed EEG Data/.mat format/S19G3AllChannels.mat  \n",
            "  inflating: GAMEEMO/(S19)/Preprocessed EEG Data/.mat format/S19G4AllChannels.mat  \n",
            "  inflating: GAMEEMO/(S19)/Raw EEG Data/.csv format/S19G1AllRawChannels.csv  \n",
            "  inflating: GAMEEMO/(S19)/Raw EEG Data/.csv format/S19G2AllRawChannels.csv  \n",
            "  inflating: GAMEEMO/(S19)/Raw EEG Data/.csv format/S19G3AllRawChannels.csv  \n",
            "  inflating: GAMEEMO/(S19)/Raw EEG Data/.csv format/S19G4AllRawChannels.csv  \n",
            "  inflating: GAMEEMO/(S19)/Raw EEG Data/.mat format/S19G1AllRawChannels.mat  \n",
            "  inflating: GAMEEMO/(S19)/Raw EEG Data/.mat format/S19G2AllRawChannels.mat  \n",
            "  inflating: GAMEEMO/(S19)/Raw EEG Data/.mat format/S19G3AllRawChannels.mat  \n",
            "  inflating: GAMEEMO/(S19)/Raw EEG Data/.mat format/S19G4AllRawChannels.mat  \n",
            "  inflating: GAMEEMO/(S19)/SAM Ratings/G1.pdf  \n",
            "  inflating: GAMEEMO/(S19)/SAM Ratings/G2.pdf  \n",
            "  inflating: GAMEEMO/(S19)/SAM Ratings/G3.pdf  \n",
            "  inflating: GAMEEMO/(S19)/SAM Ratings/G4.pdf  \n",
            "  inflating: GAMEEMO/(S20)/Preprocessed EEG Data/.csv format/S20G1AllChannels.csv  \n",
            "  inflating: GAMEEMO/(S20)/Preprocessed EEG Data/.csv format/S20G2AllChannels.csv  \n",
            "  inflating: GAMEEMO/(S20)/Preprocessed EEG Data/.csv format/S20G3AllChannels.csv  \n",
            "  inflating: GAMEEMO/(S20)/Preprocessed EEG Data/.csv format/S20G4AllChannels.csv  \n",
            "  inflating: GAMEEMO/(S20)/Preprocessed EEG Data/.mat format/S20G1AllChannels.mat  \n",
            "  inflating: GAMEEMO/(S20)/Preprocessed EEG Data/.mat format/S20G2AllChannels.mat  \n",
            "  inflating: GAMEEMO/(S20)/Preprocessed EEG Data/.mat format/S20G3AllChannels.mat  \n",
            "  inflating: GAMEEMO/(S20)/Preprocessed EEG Data/.mat format/S20G4AllChannels.mat  \n",
            "  inflating: GAMEEMO/(S20)/Raw EEG Data/.csv format/S20G1AllRawChannels.csv  \n",
            "  inflating: GAMEEMO/(S20)/Raw EEG Data/.csv format/S20G2AllRawChannels.csv  \n",
            "  inflating: GAMEEMO/(S20)/Raw EEG Data/.csv format/S20G3AllRawChannels.csv  \n",
            "  inflating: GAMEEMO/(S20)/Raw EEG Data/.csv format/S20G4AllRawChannels.csv  \n",
            "  inflating: GAMEEMO/(S20)/Raw EEG Data/.mat format/S20G1AllRawChannels.mat  \n",
            "  inflating: GAMEEMO/(S20)/Raw EEG Data/.mat format/S20G2AllRawChannels.mat  \n",
            "  inflating: GAMEEMO/(S20)/Raw EEG Data/.mat format/S20G3AllRawChannels.mat  \n",
            "  inflating: GAMEEMO/(S20)/Raw EEG Data/.mat format/S20G4AllRawChannels.mat  \n",
            "  inflating: GAMEEMO/(S20)/SAM Ratings/G1.pdf  \n",
            "  inflating: GAMEEMO/(S20)/SAM Ratings/G2.pdf  \n",
            "  inflating: GAMEEMO/(S20)/SAM Ratings/G3.pdf  \n",
            "  inflating: GAMEEMO/(S20)/SAM Ratings/G4.pdf  \n",
            "  inflating: GAMEEMO/(S21)/Preprocessed EEG Data/.csv format/S21G1AllChannels.csv  \n",
            "  inflating: GAMEEMO/(S21)/Preprocessed EEG Data/.csv format/S21G2AllChannels.csv  \n",
            "  inflating: GAMEEMO/(S21)/Preprocessed EEG Data/.csv format/S21G3AllChannels.csv  \n",
            "  inflating: GAMEEMO/(S21)/Preprocessed EEG Data/.csv format/S21G4AllChannels.csv  \n",
            "  inflating: GAMEEMO/(S21)/Preprocessed EEG Data/.mat format/S21G1AllChannels.mat  \n",
            "  inflating: GAMEEMO/(S21)/Preprocessed EEG Data/.mat format/S21G2AllChannels.mat  \n",
            "  inflating: GAMEEMO/(S21)/Preprocessed EEG Data/.mat format/S21G3AllChannels.mat  \n",
            "  inflating: GAMEEMO/(S21)/Preprocessed EEG Data/.mat format/S21G4AllChannels.mat  \n",
            "  inflating: GAMEEMO/(S21)/Raw EEG Data/.csv format/S21G1AllRawChannels.csv  \n",
            "  inflating: GAMEEMO/(S21)/Raw EEG Data/.csv format/S21G2AllRawChannels.csv  \n",
            "  inflating: GAMEEMO/(S21)/Raw EEG Data/.csv format/S21G3AllRawChannels.csv  \n",
            "  inflating: GAMEEMO/(S21)/Raw EEG Data/.csv format/S21G4AllRawChannels.csv  \n",
            "  inflating: GAMEEMO/(S21)/Raw EEG Data/.mat format/S21G1AllRawChannels.mat  \n",
            "  inflating: GAMEEMO/(S21)/Raw EEG Data/.mat format/S21G2AllRawChannels.mat  \n",
            "  inflating: GAMEEMO/(S21)/Raw EEG Data/.mat format/S21G3AllRawChannels.mat  \n",
            "  inflating: GAMEEMO/(S21)/Raw EEG Data/.mat format/S21G4AllRawChannels.mat  \n",
            "  inflating: GAMEEMO/(S21)/SAM Ratings/G1.pdf  \n",
            "  inflating: GAMEEMO/(S21)/SAM Ratings/G2.pdf  \n",
            "  inflating: GAMEEMO/(S21)/SAM Ratings/G3.pdf  \n",
            "  inflating: GAMEEMO/(S21)/SAM Ratings/G4.pdf  \n",
            "  inflating: GAMEEMO/(S22)/Preprocessed EEG Data/.csv format/S22G1AllChannels.csv  \n",
            "  inflating: GAMEEMO/(S22)/Preprocessed EEG Data/.csv format/S22G2AllChannels.csv  \n",
            "  inflating: GAMEEMO/(S22)/Preprocessed EEG Data/.csv format/S22G3AllChannels.csv  \n",
            "  inflating: GAMEEMO/(S22)/Preprocessed EEG Data/.csv format/S22G4AllChannels.csv  \n",
            "  inflating: GAMEEMO/(S22)/Preprocessed EEG Data/.mat format/S22G1AllChannels.mat  \n",
            "  inflating: GAMEEMO/(S22)/Preprocessed EEG Data/.mat format/S22G2AllChannels.mat  \n",
            "  inflating: GAMEEMO/(S22)/Preprocessed EEG Data/.mat format/S22G3AllChannels.mat  \n",
            "  inflating: GAMEEMO/(S22)/Preprocessed EEG Data/.mat format/S22G4AllChannels.mat  \n",
            "  inflating: GAMEEMO/(S22)/Raw EEG Data/.csv format/S22G1AllRawChannels.csv  \n",
            "  inflating: GAMEEMO/(S22)/Raw EEG Data/.csv format/S22G2AllRawChannels.csv  \n",
            "  inflating: GAMEEMO/(S22)/Raw EEG Data/.csv format/S22G3AllRawChannels.csv  \n",
            "  inflating: GAMEEMO/(S22)/Raw EEG Data/.csv format/S22G4AllRawChannels.csv  \n",
            "  inflating: GAMEEMO/(S22)/Raw EEG Data/.mat format/S22G1AllRawChannels.mat  \n",
            "  inflating: GAMEEMO/(S22)/Raw EEG Data/.mat format/S22G2AllRawChannels.mat  \n",
            "  inflating: GAMEEMO/(S22)/Raw EEG Data/.mat format/S22G3AllRawChannels.mat  \n",
            "  inflating: GAMEEMO/(S22)/Raw EEG Data/.mat format/S22G4AllRawChannels.mat  \n",
            "  inflating: GAMEEMO/(S22)/SAM Ratings/G1.pdf  \n",
            "  inflating: GAMEEMO/(S22)/SAM Ratings/G2.pdf  \n",
            "  inflating: GAMEEMO/(S22)/SAM Ratings/G3.pdf  \n",
            "  inflating: GAMEEMO/(S22)/SAM Ratings/G4.pdf  \n",
            "  inflating: GAMEEMO/(S23)/Preprocessed EEG Data/.csv format/S23G1AllChannels.csv  \n",
            "  inflating: GAMEEMO/(S23)/Preprocessed EEG Data/.csv format/S23G2AllChannels.csv  \n",
            "  inflating: GAMEEMO/(S23)/Preprocessed EEG Data/.csv format/S23G3AllChannels.csv  \n",
            "  inflating: GAMEEMO/(S23)/Preprocessed EEG Data/.csv format/S23G4AllChannels.csv  \n",
            "  inflating: GAMEEMO/(S23)/Preprocessed EEG Data/.mat format/S23G1AllChannels.mat  \n",
            "  inflating: GAMEEMO/(S23)/Preprocessed EEG Data/.mat format/S23G2AllChannels.mat  \n",
            "  inflating: GAMEEMO/(S23)/Preprocessed EEG Data/.mat format/S23G3AllChannels.mat  \n",
            "  inflating: GAMEEMO/(S23)/Preprocessed EEG Data/.mat format/S23G4AllChannels.mat  \n",
            "  inflating: GAMEEMO/(S23)/Raw EEG Data/.csv format/S23G1AllRawChannels.csv  \n",
            "  inflating: GAMEEMO/(S23)/Raw EEG Data/.csv format/S23G2AllRawChannels.csv  \n",
            "  inflating: GAMEEMO/(S23)/Raw EEG Data/.csv format/S23G3AllRawChannels.csv  \n",
            "  inflating: GAMEEMO/(S23)/Raw EEG Data/.csv format/S23G4AllRawChannels.csv  \n",
            "  inflating: GAMEEMO/(S23)/Raw EEG Data/.mat format/S23G1AllRawChannels.mat  \n",
            "  inflating: GAMEEMO/(S23)/Raw EEG Data/.mat format/S23G2AllRawChannels.mat  \n",
            "  inflating: GAMEEMO/(S23)/Raw EEG Data/.mat format/S23G3AllRawChannels.mat  \n",
            "  inflating: GAMEEMO/(S23)/Raw EEG Data/.mat format/S23G4AllRawChannels.mat  \n",
            "  inflating: GAMEEMO/(S23)/SAM Ratings/G1.pdf  \n",
            "  inflating: GAMEEMO/(S23)/SAM Ratings/G2.pdf  \n",
            "  inflating: GAMEEMO/(S23)/SAM Ratings/G3.pdf  \n",
            "  inflating: GAMEEMO/(S23)/SAM Ratings/G4.pdf  \n",
            "  inflating: GAMEEMO/(S24)/Preprocessed EEG Data/.csv format/S24G1AllChannels.csv  \n",
            "  inflating: GAMEEMO/(S24)/Preprocessed EEG Data/.csv format/S24G2AllChannels.csv  \n",
            "  inflating: GAMEEMO/(S24)/Preprocessed EEG Data/.csv format/S24G3AllChannels.csv  \n",
            "  inflating: GAMEEMO/(S24)/Preprocessed EEG Data/.csv format/S24G4AllChannels.csv  \n",
            "  inflating: GAMEEMO/(S24)/Preprocessed EEG Data/.mat format/S24G1AllChannels.mat  \n",
            "  inflating: GAMEEMO/(S24)/Preprocessed EEG Data/.mat format/S24G2AllChannels.mat  \n",
            "  inflating: GAMEEMO/(S24)/Preprocessed EEG Data/.mat format/S24G3AllChannels.mat  \n",
            "  inflating: GAMEEMO/(S24)/Preprocessed EEG Data/.mat format/S24G4AllChannels.mat  \n",
            "  inflating: GAMEEMO/(S24)/Raw EEG Data/.csv format/S24G1AllRawChannels.csv  \n",
            "  inflating: GAMEEMO/(S24)/Raw EEG Data/.csv format/S24G2AllRawChannels.csv  \n",
            "  inflating: GAMEEMO/(S24)/Raw EEG Data/.csv format/S24G3AllRawChannels.csv  \n",
            "  inflating: GAMEEMO/(S24)/Raw EEG Data/.csv format/S24G4AllRawChannels.csv  \n",
            "  inflating: GAMEEMO/(S24)/Raw EEG Data/.mat format/S24G1AllRawChannels.mat  \n",
            "  inflating: GAMEEMO/(S24)/Raw EEG Data/.mat format/S24G2AllRawChannels.mat  \n",
            "  inflating: GAMEEMO/(S24)/Raw EEG Data/.mat format/S24G3AllRawChannels.mat  \n",
            "  inflating: GAMEEMO/(S24)/Raw EEG Data/.mat format/S24G4AllRawChannels.mat  \n",
            "  inflating: GAMEEMO/(S24)/SAM Ratings/G1.pdf  \n",
            "  inflating: GAMEEMO/(S24)/SAM Ratings/G2.pdf  \n",
            "  inflating: GAMEEMO/(S24)/SAM Ratings/G3.pdf  \n",
            "  inflating: GAMEEMO/(S24)/SAM Ratings/G4.pdf  \n",
            "  inflating: GAMEEMO/(S25)/Preprocessed EEG Data/.csv format/S25G1AllChannels.csv  \n",
            "  inflating: GAMEEMO/(S25)/Preprocessed EEG Data/.csv format/S25G2AllChannels.csv  \n",
            "  inflating: GAMEEMO/(S25)/Preprocessed EEG Data/.csv format/S25G3AllChannels.csv  \n",
            "  inflating: GAMEEMO/(S25)/Preprocessed EEG Data/.csv format/S25G4AllChannels.csv  \n",
            "  inflating: GAMEEMO/(S25)/Preprocessed EEG Data/.mat format/S25G1AllChannels.mat  \n",
            "  inflating: GAMEEMO/(S25)/Preprocessed EEG Data/.mat format/S25G2AllChannels.mat  \n",
            "  inflating: GAMEEMO/(S25)/Preprocessed EEG Data/.mat format/S25G3AllChannels.mat  \n",
            "  inflating: GAMEEMO/(S25)/Preprocessed EEG Data/.mat format/S25G4AllChannels.mat  \n",
            "  inflating: GAMEEMO/(S25)/Raw EEG Data/.csv format/S25G1AllRawChannels.csv  \n",
            "  inflating: GAMEEMO/(S25)/Raw EEG Data/.csv format/S25G2AllRawChannels.csv  \n",
            "  inflating: GAMEEMO/(S25)/Raw EEG Data/.csv format/S25G3AllRawChannels.csv  \n",
            "  inflating: GAMEEMO/(S25)/Raw EEG Data/.csv format/S25G4AllRawChannels.csv  \n",
            "  inflating: GAMEEMO/(S25)/Raw EEG Data/.mat format/S25G1AllRawChannels.mat  \n",
            "  inflating: GAMEEMO/(S25)/Raw EEG Data/.mat format/S25G2AllRawChannels.mat  \n",
            "  inflating: GAMEEMO/(S25)/Raw EEG Data/.mat format/S25G3AllRawChannels.mat  \n",
            "  inflating: GAMEEMO/(S25)/Raw EEG Data/.mat format/S25G4AllRawChannels.mat  \n",
            "  inflating: GAMEEMO/(S25)/SAM Ratings/G1.pdf  \n",
            "  inflating: GAMEEMO/(S25)/SAM Ratings/G2.pdf  \n",
            "  inflating: GAMEEMO/(S25)/SAM Ratings/G3.pdf  \n",
            "  inflating: GAMEEMO/(S25)/SAM Ratings/G4.pdf  \n",
            "  inflating: GAMEEMO/(S26)/Preprocessed EEG Data/.csv format/S26G1AllChannels.csv  \n",
            "  inflating: GAMEEMO/(S26)/Preprocessed EEG Data/.csv format/S26G2AllChannels.csv  \n",
            "  inflating: GAMEEMO/(S26)/Preprocessed EEG Data/.csv format/S26G3AllChannels.csv  \n",
            "  inflating: GAMEEMO/(S26)/Preprocessed EEG Data/.csv format/S26G4AllChannels.csv  \n",
            "  inflating: GAMEEMO/(S26)/Preprocessed EEG Data/.mat format/S26G1AllChannels.mat  \n",
            "  inflating: GAMEEMO/(S26)/Preprocessed EEG Data/.mat format/S26G2AllChannels.mat  \n",
            "  inflating: GAMEEMO/(S26)/Preprocessed EEG Data/.mat format/S26G3AllChannels.mat  \n",
            "  inflating: GAMEEMO/(S26)/Preprocessed EEG Data/.mat format/S26G4AllChannels.mat  \n",
            "  inflating: GAMEEMO/(S26)/Raw EEG Data/.csv format/S26G1AllChannels.csv  \n",
            "  inflating: GAMEEMO/(S26)/Raw EEG Data/.csv format/S26G2AllChannels.csv  \n",
            "  inflating: GAMEEMO/(S26)/Raw EEG Data/.csv format/S26G3AllChannels.csv  \n",
            "  inflating: GAMEEMO/(S26)/Raw EEG Data/.csv format/S26G4AllChannels.csv  \n",
            "  inflating: GAMEEMO/(S26)/Raw EEG Data/.mat format/S26G1AllRawChannels.mat  \n",
            "  inflating: GAMEEMO/(S26)/Raw EEG Data/.mat format/S26G2AllRawChannels.mat  \n",
            "  inflating: GAMEEMO/(S26)/Raw EEG Data/.mat format/S26G3AllRawChannels.mat  \n",
            "  inflating: GAMEEMO/(S26)/Raw EEG Data/.mat format/S26G4AllRawChannels.mat  \n",
            "  inflating: GAMEEMO/(S26)/SAM Ratings/G1.pdf  \n",
            "  inflating: GAMEEMO/(S26)/SAM Ratings/G2.pdf  \n",
            "  inflating: GAMEEMO/(S26)/SAM Ratings/G3.pdf  \n",
            "  inflating: GAMEEMO/(S26)/SAM Ratings/G4.pdf  \n",
            "  inflating: GAMEEMO/(S27)/Preprocessed EEG Data/.csv format/S27G1AllChannels.csv  \n",
            "  inflating: GAMEEMO/(S27)/Preprocessed EEG Data/.csv format/S27G2AllChannels.csv  \n",
            "  inflating: GAMEEMO/(S27)/Preprocessed EEG Data/.csv format/S27G3AllChannels.csv  \n",
            "  inflating: GAMEEMO/(S27)/Preprocessed EEG Data/.csv format/S27G4AllChannels.csv  \n",
            "  inflating: GAMEEMO/(S27)/Preprocessed EEG Data/.mat format/S27G1AllChannels.mat  \n",
            "  inflating: GAMEEMO/(S27)/Preprocessed EEG Data/.mat format/S27G2AllChannels.mat  \n",
            "  inflating: GAMEEMO/(S27)/Preprocessed EEG Data/.mat format/S27G3AllChannels.mat  \n",
            "  inflating: GAMEEMO/(S27)/Preprocessed EEG Data/.mat format/S27G4AllChannels.mat  \n",
            "  inflating: GAMEEMO/(S27)/Raw EEG Data/.csv format/S27G1AllRawChannels.csv  \n",
            "  inflating: GAMEEMO/(S27)/Raw EEG Data/.csv format/S27G2AllRawChannels.csv  \n",
            "  inflating: GAMEEMO/(S27)/Raw EEG Data/.csv format/S27G3AllRawChannels.csv  \n",
            "  inflating: GAMEEMO/(S27)/Raw EEG Data/.csv format/S27G4AllRawChannels.csv  \n",
            "  inflating: GAMEEMO/(S27)/Raw EEG Data/.mat format/S27G1AllRawChannels.mat  \n",
            "  inflating: GAMEEMO/(S27)/Raw EEG Data/.mat format/S27G2AllRawChannels.mat  \n",
            "  inflating: GAMEEMO/(S27)/Raw EEG Data/.mat format/S27G3AllRawChannels.mat  \n",
            "  inflating: GAMEEMO/(S27)/Raw EEG Data/.mat format/S27G4AllRawChannels.mat  \n",
            "  inflating: GAMEEMO/(S27)/SAM Ratings/G1.pdf  \n",
            "  inflating: GAMEEMO/(S27)/SAM Ratings/G2.pdf  \n",
            "  inflating: GAMEEMO/(S27)/SAM Ratings/G3.pdf  \n",
            "  inflating: GAMEEMO/(S27)/SAM Ratings/G4.pdf  \n",
            "  inflating: GAMEEMO/(S28)/(S26)/Preprocessed EEG Data/.csv format/S26G1AllChannels.csv  \n",
            "  inflating: GAMEEMO/(S28)/(S26)/Preprocessed EEG Data/.csv format/S26G2AllChannels.csv  \n",
            "  inflating: GAMEEMO/(S28)/(S26)/Preprocessed EEG Data/.csv format/S26G3AllChannels.csv  \n",
            "  inflating: GAMEEMO/(S28)/(S26)/Preprocessed EEG Data/.csv format/S26G4AllChannels.csv  \n",
            "  inflating: GAMEEMO/(S28)/(S26)/Preprocessed EEG Data/.mat format/S26G1AllChannels.mat  \n",
            "  inflating: GAMEEMO/(S28)/(S26)/Preprocessed EEG Data/.mat format/S26G2AllChannels.mat  \n",
            "  inflating: GAMEEMO/(S28)/(S26)/Preprocessed EEG Data/.mat format/S26G3AllChannels.mat  \n",
            "  inflating: GAMEEMO/(S28)/(S26)/Preprocessed EEG Data/.mat format/S26G4AllChannels.mat  \n",
            "  inflating: GAMEEMO/(S28)/(S26)/Raw EEG Data/.csv format/S26G1AllChannels.csv  \n",
            "  inflating: GAMEEMO/(S28)/(S26)/Raw EEG Data/.csv format/S26G2AllChannels.csv  \n",
            "  inflating: GAMEEMO/(S28)/(S26)/Raw EEG Data/.csv format/S26G3AllChannels.csv  \n",
            "  inflating: GAMEEMO/(S28)/(S26)/Raw EEG Data/.csv format/S26G4AllChannels.csv  \n",
            "  inflating: GAMEEMO/(S28)/(S26)/Raw EEG Data/.mat format/S26G1AllRawChannels.mat  \n",
            "  inflating: GAMEEMO/(S28)/(S26)/Raw EEG Data/.mat format/S26G2AllRawChannels.mat  \n",
            "  inflating: GAMEEMO/(S28)/(S26)/Raw EEG Data/.mat format/S26G3AllRawChannels.mat  \n",
            "  inflating: GAMEEMO/(S28)/(S26)/Raw EEG Data/.mat format/S26G4AllRawChannels.mat  \n",
            "  inflating: GAMEEMO/(S28)/(S26)/SAM Ratings/G1.pdf  \n",
            "  inflating: GAMEEMO/(S28)/(S26)/SAM Ratings/G2.pdf  \n",
            "  inflating: GAMEEMO/(S28)/(S26)/SAM Ratings/G3.pdf  \n",
            "  inflating: GAMEEMO/(S28)/(S26)/SAM Ratings/G4.pdf  \n",
            "  inflating: GAMEEMO/(S28)/Preprocessed EEG Data/.csv format/S28G1AllChannels.csv  \n",
            "  inflating: GAMEEMO/(S28)/Preprocessed EEG Data/.csv format/S28G2AllChannels.csv  \n",
            "  inflating: GAMEEMO/(S28)/Preprocessed EEG Data/.csv format/S28G3AllChannels.csv  \n",
            "  inflating: GAMEEMO/(S28)/Preprocessed EEG Data/.csv format/S28G4AllChannels.csv  \n",
            "  inflating: GAMEEMO/(S28)/Preprocessed EEG Data/.mat format/S28G1AllChannels.mat  \n",
            "  inflating: GAMEEMO/(S28)/Preprocessed EEG Data/.mat format/S28G2AllChannels.mat  \n",
            "  inflating: GAMEEMO/(S28)/Preprocessed EEG Data/.mat format/S28G3AllChannels.mat  \n",
            "  inflating: GAMEEMO/(S28)/Preprocessed EEG Data/.mat format/S28G4AllChannels.mat  \n",
            "  inflating: GAMEEMO/(S28)/Raw EEG Data/.csv format/S28G1AllRawChannels.csv  \n",
            "  inflating: GAMEEMO/(S28)/Raw EEG Data/.csv format/S28G2AllRawChannels.csv  \n",
            "  inflating: GAMEEMO/(S28)/Raw EEG Data/.csv format/S28G3AllRawChannels.csv  \n",
            "  inflating: GAMEEMO/(S28)/Raw EEG Data/.csv format/S28G4AllRawChannels.csv  \n",
            "  inflating: GAMEEMO/(S28)/Raw EEG Data/.mat format/S28G1AllRawChannels.mat  \n",
            "  inflating: GAMEEMO/(S28)/Raw EEG Data/.mat format/S28G2AllRawChannels.mat  \n",
            "  inflating: GAMEEMO/(S28)/Raw EEG Data/.mat format/S28G3AllRawChannels.mat  \n",
            "  inflating: GAMEEMO/(S28)/Raw EEG Data/.mat format/S28G4AllRawChannels.mat  \n",
            "  inflating: GAMEEMO/(S28)/SAM Ratings/G1.pdf  \n",
            "  inflating: GAMEEMO/(S28)/SAM Ratings/G2.pdf  \n",
            "  inflating: GAMEEMO/(S28)/SAM Ratings/G3.pdf  \n",
            "  inflating: GAMEEMO/(S28)/SAM Ratings/G4.pdf  \n",
            "  inflating: GAMEEMO/Gameplays/G1 (Train Sim World)/Train Sim World.mp4  \n",
            "  inflating: GAMEEMO/Gameplays/G2 (Unravel)/Unravel.mp4  \n",
            "  inflating: GAMEEMO/Gameplays/G3 (Slender - The Arrival)/Slender The Arrival.mp4  \n",
            "  inflating: GAMEEMO/Gameplays/G4 (Goat Simulator)/Goat Simulator.mp4  \n"
          ]
        }
      ]
    },
    {
      "cell_type": "code",
      "source": [
        "import os\n",
        "from glob import glob\n",
        "import shutil\n",
        "import pathlib\n",
        "import numpy as np\n",
        "import pandas as pd\n",
        "from pdf2image import convert_from_path\n",
        "from PIL import Image"
      ],
      "metadata": {
        "id": "D6Bgr5_IUFDd"
      },
      "execution_count": 34,
      "outputs": []
    },
    {
      "cell_type": "code",
      "source": [
        "os.makedirs(\"data\")"
      ],
      "metadata": {
        "id": "WUo9RJVcEvjk"
      },
      "execution_count": 8,
      "outputs": []
    },
    {
      "cell_type": "code",
      "source": [
        "for fileref in pathlib.Path('GAMEEMO/').glob('**/*.csv'):\n",
        "  fn = str(fileref)\n",
        "  bn = os.path.basename(fn)\n",
        "  shutil.copy(fn, f\"data/{bn}\")"
      ],
      "metadata": {
        "id": "dAzaccBRAcr_"
      },
      "execution_count": 14,
      "outputs": []
    },
    {
      "cell_type": "code",
      "source": [
        "_set = set()\n",
        "\n",
        "X = []\n",
        "X_fns = []\n",
        "for data_fn in glob(\"data/*AllChannels.csv\"):\n",
        "  X_fn = os.path.basename(data_fn).split(\"All\")[0]\n",
        "  data_df = pd.read_csv(data_fn)\n",
        "  data_df = data_df[[c for c in data_df.columns if \"unnamed\" not in c.lower()]]\n",
        "  data_np = np.array(data_df).T\n",
        "  X.append(data_np)\n",
        "  X_fns.append(X_fn)"
      ],
      "metadata": {
        "id": "n2QBRDX1Hbcm"
      },
      "execution_count": 31,
      "outputs": []
    },
    {
      "cell_type": "code",
      "source": [
        "X = np.array(X)"
      ],
      "metadata": {
        "id": "7XrEOQzLNDOI"
      },
      "execution_count": 32,
      "outputs": []
    },
    {
      "cell_type": "code",
      "source": [
        "print(X.shape)"
      ],
      "metadata": {
        "colab": {
          "base_uri": "https://localhost:8080/"
        },
        "id": "DgvUofcgT0mW",
        "outputId": "f42415b6-4ce3-4c97-9294-ed1da9a7b8d3"
      },
      "execution_count": 33,
      "outputs": [
        {
          "output_type": "stream",
          "name": "stdout",
          "text": [
            "(112, 14, 38252)\n"
          ]
        }
      ]
    },
    {
      "cell_type": "code",
      "source": [
        "print(sorted(X_fns))"
      ],
      "metadata": {
        "colab": {
          "base_uri": "https://localhost:8080/"
        },
        "id": "cquROtaoT1fl",
        "outputId": "14302523-a654-4486-98ab-c0ac63234d47"
      },
      "execution_count": 36,
      "outputs": [
        {
          "output_type": "stream",
          "name": "stdout",
          "text": [
            "['S01G1', 'S01G2', 'S01G3', 'S01G4', 'S02G1', 'S02G2', 'S02G3', 'S02G4', 'S03G1', 'S03G2', 'S03G3', 'S03G4', 'S04G1', 'S04G2', 'S04G3', 'S04G4', 'S05G1', 'S05G2', 'S05G3', 'S05G4', 'S06G1', 'S06G2', 'S06G3', 'S06G4', 'S07G1', 'S07G2', 'S07G3', 'S07G4', 'S08G1', 'S08G2', 'S08G3', 'S08G4', 'S09G1', 'S09G2', 'S09G3', 'S09G4', 'S10G1', 'S10G2', 'S10G3', 'S10G4', 'S11G1', 'S11G2', 'S11G3', 'S11G4', 'S12G1', 'S12G2', 'S12G3', 'S12G4', 'S13G1', 'S13G2', 'S13G3', 'S13G4', 'S14G1', 'S14G2', 'S14G3', 'S14G4', 'S15G1', 'S15G2', 'S15G3', 'S15G4', 'S16G1', 'S16G2', 'S16G3', 'S16G4', 'S17G1', 'S17G2', 'S17G3', 'S17G4', 'S18G1', 'S18G2', 'S18G3', 'S18G4', 'S19G1', 'S19G2', 'S19G3', 'S19G4', 'S20G1', 'S20G2', 'S20G3', 'S20G4', 'S21G1', 'S21G2', 'S21G3', 'S21G4', 'S22G1', 'S22G2', 'S22G3', 'S22G4', 'S23G1', 'S23G2', 'S23G3', 'S23G4', 'S24G1', 'S24G2', 'S24G3', 'S24G4', 'S25G1', 'S25G2', 'S25G3', 'S25G4', 'S26G1', 'S26G2', 'S26G3', 'S26G4', 'S27G1', 'S27G2', 'S27G3', 'S27G4', 'S28G1', 'S28G2', 'S28G3', 'S28G4']\n"
          ]
        }
      ]
    },
    {
      "cell_type": "code",
      "source": [
        "%%sh\n",
        "pip install pdf2image"
      ],
      "metadata": {
        "colab": {
          "base_uri": "https://localhost:8080/"
        },
        "id": "0rJJXgk7cDVP",
        "outputId": "34b9f520-93db-433e-81a3-7195b0d2c541"
      },
      "execution_count": 37,
      "outputs": [
        {
          "output_type": "stream",
          "name": "stdout",
          "text": [
            "Collecting pdf2image\n",
            "  Downloading pdf2image-1.17.0-py3-none-any.whl (11 kB)\n",
            "Requirement already satisfied: pillow in /usr/local/lib/python3.10/dist-packages (from pdf2image) (9.4.0)\n",
            "Installing collected packages: pdf2image\n",
            "Successfully installed pdf2image-1.17.0\n"
          ]
        }
      ]
    },
    {
      "cell_type": "code",
      "source": [
        "%%sh\n",
        "apt-get install poppler-utils"
      ],
      "metadata": {
        "colab": {
          "base_uri": "https://localhost:8080/"
        },
        "id": "aNfBIrxacm7R",
        "outputId": "5759b8a5-700c-4b9b-ca51-9396bc0b30d4"
      },
      "execution_count": 42,
      "outputs": [
        {
          "output_type": "stream",
          "name": "stdout",
          "text": [
            "Reading package lists...\n",
            "Building dependency tree...\n",
            "Reading state information...\n",
            "The following NEW packages will be installed:\n",
            "  poppler-utils\n",
            "0 upgraded, 1 newly installed, 0 to remove and 33 not upgraded.\n",
            "Need to get 186 kB of archives.\n",
            "After this operation, 696 kB of additional disk space will be used.\n",
            "Get:1 http://archive.ubuntu.com/ubuntu jammy-updates/main amd64 poppler-utils amd64 22.02.0-2ubuntu0.3 [186 kB]\n",
            "Fetched 186 kB in 1s (235 kB/s)\n",
            "Selecting previously unselected package poppler-utils.\r\n",
            "(Reading database ... \r(Reading database ... 5%\r(Reading database ... 10%\r(Reading database ... 15%\r(Reading database ... 20%\r(Reading database ... 25%\r(Reading database ... 30%\r(Reading database ... 35%\r(Reading database ... 40%\r(Reading database ... 45%\r(Reading database ... 50%\r(Reading database ... 55%\r(Reading database ... 60%\r(Reading database ... 65%\r(Reading database ... 70%\r(Reading database ... 75%\r(Reading database ... 80%\r(Reading database ... 85%\r(Reading database ... 90%\r(Reading database ... 95%\r(Reading database ... 100%\r(Reading database ... 121749 files and directories currently installed.)\r\n",
            "Preparing to unpack .../poppler-utils_22.02.0-2ubuntu0.3_amd64.deb ...\r\n",
            "Unpacking poppler-utils (22.02.0-2ubuntu0.3) ...\r\n",
            "Setting up poppler-utils (22.02.0-2ubuntu0.3) ...\r\n",
            "Processing triggers for man-db (2.10.2-1) ...\r\n"
          ]
        }
      ]
    },
    {
      "cell_type": "code",
      "source": [
        "pdfs = sorted(glob(\"GAMEEMO/**/*.pdf\", recursive=True)) # The following cells is to circumvent input() after display() bugs"
      ],
      "metadata": {
        "id": "8rFZT6qshhDz"
      },
      "execution_count": 77,
      "outputs": []
    },
    {
      "cell_type": "code",
      "source": [
        "count = 0\n",
        "labels_dict = {}"
      ],
      "metadata": {
        "id": "SjQBH6abgcoq"
      },
      "execution_count": 78,
      "outputs": []
    },
    {
      "cell_type": "code",
      "source": [
        "pdf_fn = pdfs[count]\n",
        "label_key = pdf_fn\n",
        "for rem_text in [\"GAMEEMO/(\", \")/SAM Ratings/\", \".pdf\"]:\n",
        "  label_key = label_key.replace(rem_text, '')\n",
        "images = convert_from_path(pdf_fn)\n",
        "im = images[0].resize((300, 500))\n",
        "display(im)"
      ],
      "metadata": {
        "colab": {
          "base_uri": "https://localhost:8080/",
          "height": 517
        },
        "id": "5ZKmiIlKgkBt",
        "outputId": "194d26a8-384e-40d2-a9a8-5338a21d69fc"
      },
      "execution_count": 81,
      "outputs": [
        {
          "output_type": "display_data",
          "data": {
            "text/plain": [
              "<PIL.Image.Image image mode=RGB size=300x500>"
            ],
            "image/png": "[encoded data removed]"
          },
          "metadata": {}
        }
      ]
    },
    {
      "cell_type": "code",
      "source": [
        "user_input = input()\n",
        "labels_dict[label_key] = user_input\n",
        "count += 1"
      ],
      "metadata": {
        "colab": {
          "base_uri": "https://localhost:8080/"
        },
        "id": "KxqGvBAlhzPv",
        "outputId": "42e714e0-e821-48dc-d8f5-33aa99ad8b0e"
      },
      "execution_count": 82,
      "outputs": [
        {
          "name": "stdout",
          "output_type": "stream",
          "text": [
            "7 2 1 8 8 3 2.5\n"
          ]
        }
      ]
    },
    {
      "cell_type": "code",
      "source": [
        "print(labels_dict)"
      ],
      "metadata": {
        "colab": {
          "base_uri": "https://localhost:8080/"
        },
        "id": "lcH80xidhHDq",
        "outputId": "fd638abe-a66d-44d9-c084-0c8a2318978f"
      },
      "execution_count": 83,
      "outputs": [
        {
          "output_type": "stream",
          "name": "stdout",
          "text": [
            "{'S01G1': '2 8 1 3 2 1.5 2', 'S01G2': '7 2 1 8 8 3 2.5'}\n"
          ]
        }
      ]
    },
    {
      "cell_type": "code",
      "source": [],
      "metadata": {
        "id": "CuFgodS6ib1U"
      },
      "execution_count": null,
      "outputs": []
    }
  ]
}